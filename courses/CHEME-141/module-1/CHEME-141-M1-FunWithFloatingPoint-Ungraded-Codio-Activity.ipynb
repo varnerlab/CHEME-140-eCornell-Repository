{
 "cells": [
  {
   "cell_type": "markdown",
   "id": "1379b96b-d905-4b92-838a-b0cc276a4fe1",
   "metadata": {},
   "source": [
    "# Activity: Fun with 32-bit Floating Point Numbers\n",
    "Most of the time (depending on your hardware), you'll use 64-bit floating-point numbers by default. However, many machine learning applications use `Float32` as their default precision. \n",
    "* _Why_? Float32 offers a sweet spot for deep learning: its 24‐bit significand (which gives seven decimal digits) and 8‐bit exponent provide sufficient precision and dynamic range for most applications, halving the memory footprint compared to Float64. This enables computation leveraging specialized hardware optimized specifically for 32-bit arithmetic.\n",
    "\n",
    "In this activity, you'll explore the memory layout of a `Float32`, and compute this floating point type's dynamic range and precision limits."
   ]
  },
  {
   "cell_type": "markdown",
   "id": "7d2cabb5-b941-4fa5-8a6b-0da8b9d470f2",
   "metadata": {},
   "source": [
    "## Example 32-bit memory layout\n",
    "Suppose we have a floating point number $x\\in\\mathbb{R}$ that is approximated as a 32-bit variable in memory. A 32-bit number $x\\in\\mathbb{R}$ is encoded in memory as:\n",
    "$$\n",
    "\\begin{align*}\n",
    "x = \\underbrace{S}_{\\text{sign}}\\times\\underbrace{\\text{significand}}_{\\text{fraction}}\\times\\underbrace{{2^{E-127}}}_{\\text{scale}}\n",
    "\\end{align*}\n",
    "$$\n",
    "where:\n",
    "$$\n",
    "\\begin{align*}\n",
    "S &= -1^{d_{31}}\\\\\n",
    "\\text{significand} &= 1 + \\sum_{i = 1}^{23}d_{i}2^{-i}\\\\\n",
    "E &= \\sum_{i=23}^{30}d_{i}2^{i - 23}\n",
    "\\end{align*}\n",
    "$$\n",
    "where $d_{i}$ denotes the digit at position $i$ in the number. Notice the difference between the 64- and 32-bit numbers: the number of elements used to compute the significand and the exponent terms are different, and the location of the sign bit has changed, but otherwise they have a similar structural layout in memory.\n",
    "\n",
    "Now, let's compute the components of the 32-bit representation of $x\\in\\mathbb{R}$. First, specify an example number, save it in the `x::Float32` variable:"
   ]
  },
  {
   "cell_type": "code",
   "execution_count": 9,
   "id": "01fbe611-117e-4622-9d69-113371992bf5",
   "metadata": {},
   "outputs": [],
   "source": [
    "x = 141.72 |> Float32; # why do we need |> Float32?"
   ]
  },
  {
   "cell_type": "markdown",
   "id": "0b7111d9-67c0-45e5-86cf-14e36eee2d61",
   "metadata": {},
   "source": [
    "Check the type using [the `typeof(...)` method](https://docs.julialang.org/en/v1/base/base/#Core.typeof):"
   ]
  },
  {
   "cell_type": "code",
   "execution_count": 6,
   "id": "7de6a1ad-6866-43e7-a1f1-68f31c96c65b",
   "metadata": {},
   "outputs": [
    {
     "data": {
      "text/plain": [
       "true"
      ]
     },
     "execution_count": 6,
     "metadata": {},
     "output_type": "execute_result"
    }
   ],
   "source": [
    "typeof(x) == Float32 # if Float32, this should be true"
   ]
  },
  {
   "cell_type": "markdown",
   "id": "9fa21b5e-5ea8-441d-a291-60bbbf15984f",
   "metadata": {},
   "source": [
    "Next, let's use [the `bitstring(...)` method](https://docs.julialang.org/en/v1/base/numbers/#Base.bitstring) to generate the bits of our 32-bit floating point number $x$ as a `String`, and then convert and save the bitstring into a `0`-based dictionary called `d::Dict{Int,Int}`:"
   ]
  },
  {
   "cell_type": "code",
   "execution_count": 34,
   "id": "3849587d-57f0-4896-9ccf-0245d680d51a",
   "metadata": {},
   "outputs": [],
   "source": [
    "d = let\n",
    "\n",
    "    # initialize -\n",
    "    bitpattern_dictionary = Dict{Int64,Int64}(); # storage for the 0-based bit pattern\n",
    "    wordsize = 32; # how many boxes do we have?\n",
    "    a = bitstring(x) |> reverse |> collect .|> v-> parse(Int64, v) # fancy. Nothing to see here, move along (for now anyway).\n",
    "    \n",
    "    # put stuff in the dictionary\n",
    "    for i ∈ 0:(wordsize-1)\n",
    "        bitpattern_dictionary[i] = a[i+1];\n",
    "    end\n",
    "    bitpattern_dictionary # return to caller\n",
    "end;"
   ]
  },
  {
   "cell_type": "markdown",
   "id": "faa5195f-9f53-4dff-b702-020924c5b93f",
   "metadata": {},
   "source": [
    "Now that we have the bitpattern dictionary `d::Dict{Int, Int}`, we can compute the three components of our floating point number. Let's start with the sign, which we'll save in the `S:Float64` variable:"
   ]
  },
  {
   "cell_type": "code",
   "execution_count": 27,
   "id": "d55ebc53-423a-4672-9f87-3f641a4ea06e",
   "metadata": {},
   "outputs": [
    {
     "data": {
      "text/plain": [
       "1.0"
      ]
     },
     "execution_count": 27,
     "metadata": {},
     "output_type": "execute_result"
    }
   ],
   "source": [
    "S = let\n",
    "    S = (-1.0)^(d[31]);\n",
    "end"
   ]
  },
  {
   "cell_type": "markdown",
   "id": "1b22e043-406d-48ce-b01d-b4a4be6c78b6",
   "metadata": {},
   "source": [
    "Next, let's compute a value for the `significand` of $x\\in\\mathbb{x}$, which we'll store in the `calculated_significand_value::Float64` variable:"
   ]
  },
  {
   "cell_type": "code",
   "execution_count": 64,
   "id": "bfd5af18-7f4c-44a3-a23f-6bad004bf069",
   "metadata": {},
   "outputs": [
    {
     "data": {
      "text/plain": [
       "1.1071875095367432"
      ]
     },
     "execution_count": 64,
     "metadata": {},
     "output_type": "execute_result"
    }
   ],
   "source": [
    "calculated_significand_value = let\n",
    "\n",
    "    # initialize -\n",
    "    calculated_significand_value = 0.0;\n",
    "    b = 2.0; # binary, base = 2\n",
    "    msb = 23; # most significant bit (msb)\n",
    "    lsb = 1; # least significant bit (lsb)\n",
    "    significand_range_array = range(lsb,stop=msb,step=1) |> collect; # range of bits to use for the significand\n",
    "\n",
    "    for i ∈ significand_range_array\n",
    "        calculated_significand_value += (b^(-i))*d[msb-i]\n",
    "    end\n",
    "    calculated_significand_value + 1\n",
    "end"
   ]
  },
  {
   "cell_type": "markdown",
   "id": "95b88e87-4150-4742-861a-5423f1dfaf5d",
   "metadata": {},
   "source": [
    "_Check_: Let's use [the `@assert` macro](https://docs.julialang.org/en/v1/base/base/#Base.@assert) to check our calculated significand value. If the `==` comparision comes back `false`, [an `AssertionError` is thrown](https://docs.julialang.org/en/v1/base/base/#Core.AssertionError):"
   ]
  },
  {
   "cell_type": "code",
   "execution_count": 66,
   "id": "4e4a8a8e-13e3-420a-8efa-301958f80dcc",
   "metadata": {},
   "outputs": [],
   "source": [
    "@assert significand(x) == calculated_significand_value # compare built-in versus our calculated value"
   ]
  },
  {
   "cell_type": "markdown",
   "id": "ef835bff-e945-4105-9352-d865a7f05b35",
   "metadata": {},
   "source": [
    "Now, let's compute the scale of the floating point number $x\\in\\mathbb{R}$, which requires us to calculate the $E$ value (which we'll store in the `E::Float64` variable). \n",
    "\n",
    "_Aside_: Sometimes you'll see the exponent $E$ expression for a 32-bit floating point number written as:\n",
    "$$\n",
    "E = \\sum_{i=0}^{7}e_{i}2^{i}\n",
    "$$\n",
    "where the $e_{i}$'s denote _exponent bits_, i.e., digits from the original bit string whose indexes have been remapped to be $0\\rightarrow{7}$. In this convention, $e_{0} = d_{23},e_{1} = d_{24},\\dots,e_{7} = d_{30}$. \n",
    "\n",
    "Let's implement the $0\\rightarrow{7}$ summation below:"
   ]
  },
  {
   "cell_type": "code",
   "execution_count": 110,
   "id": "7653ab51-a325-4784-bc0c-5c51e3700251",
   "metadata": {},
   "outputs": [],
   "source": [
    "E = let\n",
    "\n",
    "    # initialize -\n",
    "    calculated_exponent_value = 0.0;\n",
    "    b = 2.0; # binary, base = 2\n",
    "    msb = 30; # most significant bit (msb)\n",
    "    lsb = 23; # least significant bit (lsb)\n",
    "    exponent_bit_range_array = range(lsb, stop=msb, step = 1) |> collect\n",
    "\n",
    "    for i ∈ eachindex(exponent_bit_range_array)\n",
    "        j = exponent_bit_range_array[i]; # remap operation\n",
    "        calculated_exponent_value += d[j]*(b^(i - 1)) # why -1?\n",
    "    end\n",
    "    calculated_exponent_value\n",
    "end;"
   ]
  },
  {
   "cell_type": "markdown",
   "id": "ad55167a-cf0e-401e-9106-e3528edc2cc5",
   "metadata": {},
   "source": [
    "Finally, let's put all the pieces together and check our work. If correct, our calculated number should be the same (evaluated using the `==` operator) as the `x::Float32` we defined above.\n",
    "* Let's use [the `@assert` macro](https://docs.julialang.org/en/v1/base/base/#Base.@assert) to check our calculated value for $x\\in\\mathbb{R}$. If the `==` comparision comes back `false`, [an `AssertionError` is thrown](https://docs.julialang.org/en/v1/base/base/#Core.AssertionError):"
   ]
  },
  {
   "cell_type": "code",
   "execution_count": 108,
   "id": "6492fc3b-7993-453a-bca0-1d19499ea209",
   "metadata": {},
   "outputs": [],
   "source": [
    "@assert S*(calculated_significand_value)*2^(E - 127) == x # If this doesn't blow up, nice!"
   ]
  },
  {
   "cell_type": "markdown",
   "id": "6d11bb12-5376-4c96-8eba-b1350d6aac68",
   "metadata": {},
   "source": [
    "## How big (small) can the significand be?\n",
    "The fractional component of the floating-point number is contained in the significand. Thus, an interesting question is how big (or small) can this component be?\n",
    "* __Idea__: To explore this question, examine the summation term in the significand expression. If all the digits in the summation expression $\\left\\{d_{1},d_{2},\\dots,d_{23}\\right\\}$ were `0`, then the value of the `significand = 1.` Alternatively, if all the digits $\\left\\{d_{1},d_{2},\\dots,d_{23}\\right\\}$ were `1`, then we'd get a maximum value. What is the maximum possible value?\n",
    "\n",
    "Let's explore this numerically and revisit the expression to get some analytical insight."
   ]
  },
  {
   "cell_type": "code",
   "execution_count": 139,
   "id": "e466a67d-a391-40e4-8ba1-bd6425e58db4",
   "metadata": {},
   "outputs": [
    {
     "data": {
      "text/plain": [
       "1.9999998807907104"
      ]
     },
     "execution_count": 139,
     "metadata": {},
     "output_type": "execute_result"
    }
   ],
   "source": [
    "max_significand_value = let\n",
    "\n",
    "    # initialize -\n",
    "    d = Dict{Int64, Int64}(); \n",
    "    calculated_significand_value = 0.0;\n",
    "    b = 2.0; # binary, base = 2\n",
    "    msb = 23; # most significant bit (msb)\n",
    "    lsb = 1; # least significant bit (lsb)\n",
    "    significand_range_array = range(lsb,stop=msb,step=1) |> collect; # range of bits to use for the significand\n",
    "\n",
    "    # all ones, gives max \n",
    "    number_of_digits = length(significand_range_array); # how many digits do we have for the significand?\n",
    "    max_digits_array = ones(number_of_digits); # max case: our digits array will be all ones\n",
    "    for i ∈ 1:number_of_digits\n",
    "        d[i-1] = 1.0;\n",
    "    end\n",
    "\n",
    "    for i ∈ significand_range_array\n",
    "        calculated_significand_value += (b^(-i))*d[msb-i]\n",
    "    end\n",
    "    calculated_significand_value + 1\n",
    "end"
   ]
  },
  {
   "cell_type": "markdown",
   "id": "3f55e69a-9441-467c-a377-cac5e1f2eb59",
   "metadata": {},
   "source": [
    "__Analytical__: The numerical calculation gave a `max_significand_value ≈ 2`, i.e., the value of the summation term, is $\\approx{1}$. However, we'd expect this because the summation term is an infinite series in the powers $2^{-i}$. To see this, let's do a little math. \n",
    "$$\n",
    "\\begin{align*}\n",
    "S_{N} & = \\sum_{i=1}^{N}2^{-i} = 2^{-1} + 2^{-2}+\\dots+2^{-N}\\quad\\text{this gives}\\,{a = 2^{-1}\\,\\text{and}\\,{r} = 2^{-1}}\\\\\n",
    "S_{N} &= \\frac{a\\left(1-r^{N}\\right)}{1-r} = 1-2^{-N}\\quad\\text{substitute}\\,a\\,\\text{and}\\,{r}\\\\\n",
    "S_{N} &= 1 - 2^{-23}\\approx{0.9999998807907104}\n",
    "\\end{align*}\n",
    "$$\n",
    "As $N\\rightarrow\\infty$ the partial sum $S_{N}\\rightarrow{1}$. However, we don't get exactly `1` numerically. Why? Because we truncate the series early, i.e, for a 32-bit number $N = 23$, which gives a value slightly less than `1.`"
   ]
  },
  {
   "cell_type": "markdown",
   "id": "2a2a5104-b721-4fac-9fa5-a385120ca847",
   "metadata": {},
   "source": [
    "__Precision__: The analytical treatment gives us some insight into the _precision_ of a Float32 value. The precision of a Float32 value is set by its 23 explicit fraction bits plus one implicit leading bit, so $p=24$. Then, the machine epsilon - the gap between 1.0 and the next representable float - is given by:\n",
    "$$\n",
    "\\begin{align*}\n",
    "\\epsilon &= 2^{(1-p)}\\quad\\text{substitute}\\,{p=24}\\\\\n",
    "\\epsilon & \\approx 1.19209\\times{10}^{-7}\n",
    "\\end{align*}\n",
    "$$\n",
    "This corresponds to $d\\approx{-\\log_{10}\\epsilon}$ digits of precision, which for a `Float32` is $\\approx{7}$ digits."
   ]
  },
  {
   "cell_type": "code",
   "execution_count": 43,
   "id": "0463ffc8-0961-4d61-8dc3-c86e6a1c9945",
   "metadata": {},
   "outputs": [
    {
     "ename": "LoadError",
     "evalue": "DomainError with -23:\nCannot raise an integer x to a negative power -23.\nMake x or -23 a float by adding a zero decimal (e.g., 2.0^-23 or 2^-23.0 instead of 2^-23)or write 1/x^23, float(x)^-23, x^float(-23) or (x//1)^-23.",
     "output_type": "error",
     "traceback": [
      "DomainError with -23:\nCannot raise an integer x to a negative power -23.\nMake x or -23 a float by adding a zero decimal (e.g., 2.0^-23 or 2^-23.0 instead of 2^-23)or write 1/x^23, float(x)^-23, x^float(-23) or (x//1)^-23.",
      "",
      "Stacktrace:",
      " [1] throw_domerr_powbysq(::Int64, p::Int64)",
      "   @ Base ./intfuncs.jl:302",
      " [2] power_by_squaring(x_::Int64, p::Int64; mul::typeof(*))",
      "   @ Base ./intfuncs.jl:324",
      " [3] power_by_squaring",
      "   @ ./intfuncs.jl:313 [inlined]",
      " [4] ^(x::Int64, p::Int64)",
      "   @ Base ./intfuncs.jl:348",
      " [5] top-level scope",
      "   @ In[43]:3"
     ]
    }
   ],
   "source": [
    "let\n",
    "    p = 24;\n",
    "    ϵ = 2^(1-p);\n",
    "    # d = -log10(ϵ)\n",
    "end"
   ]
  },
  {
   "cell_type": "code",
   "execution_count": null,
   "id": "c4b132e1-ee18-4879-84f0-eee9840a3e4c",
   "metadata": {},
   "outputs": [],
   "source": []
  }
 ],
 "metadata": {
  "kernelspec": {
   "display_name": "Julia 1.11.5",
   "language": "julia",
   "name": "julia-1.11"
  },
  "language_info": {
   "file_extension": ".jl",
   "mimetype": "application/julia",
   "name": "julia",
   "version": "1.11.5"
  }
 },
 "nbformat": 4,
 "nbformat_minor": 5
}
