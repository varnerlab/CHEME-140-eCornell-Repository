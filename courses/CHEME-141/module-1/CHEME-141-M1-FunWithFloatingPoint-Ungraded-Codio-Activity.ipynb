{
 "cells": [
  {
   "cell_type": "markdown",
   "id": "1379b96b-d905-4b92-838a-b0cc276a4fe1",
   "metadata": {},
   "source": [
    "# Activity: Fun with 32-bit Floating Point Numbers\n",
    "Most of the time (depending on your hardware), you'll use 64-bit floating-point numbers by default. However, many machine learning applications use `Float32` as their default precision. \n",
    "* _Why_? Float32 offers a sweet spot for deep learning: its 24‐bit significand (which gives seven decimal digits) and 8‐bit exponent provide sufficient precision and dynamic range for most applications, halving the memory footprint compared to Float64. This enables computation leveraging specialized hardware optimized specifically for 32-bit arithmetic.\n",
    "\n",
    "In this activity, you'll explore the memory layout of `Float32`, and compute this floating point type's dynamic range and precision limits."
   ]
  },
  {
   "cell_type": "markdown",
   "id": "7d2cabb5-b941-4fa5-8a6b-0da8b9d470f2",
   "metadata": {},
   "source": [
    "## Example memory layout\n",
    "Suppose we have a floating point number $x\\in\\mathbb{R}$ that is approximated as a 32-bit variable in memory. A 32-bit number $x\\in\\mathbb{R}$ is encoded in memory as:\n",
    "$$\n",
    "\\begin{align*}\n",
    "x = \\underbrace{S}_{\\text{sign}}\\times\\underbrace{\\text{significand}}_{\\text{fraction}}\\times\\underbrace{{2^{E-127}}}_{\\text{scale}}\n",
    "\\end{align*}\n",
    "$$\n",
    "where:\n",
    "$$\n",
    "\\begin{align*}\n",
    "S &= -1^{d_{31}}\\\\\n",
    "\\text{significand} &= 1 + \\sum_{i = 1}^{23}d_{i}2^{-i}\\\\\n",
    "E &= \\sum_{i=23}^{30}d_{i}2^{i - 23}\n",
    "\\end{align*}\n",
    "$$\n",
    "where $d_{i}$ denotes the digit at position $i$ in the number. Notice the difference between the 64- and 32-bit numbers: the number of elements used to compute the significand and the exponent terms are different, and the location of the sign bit has changed, but otherwise they have a similar structural layout in memory.\n",
    "\n",
    "Now, let's compute the components of the 32-bit representation of $x\\in\\mathbb{R}$. First, specify an example number, save it in the `x::Float32` variable:"
   ]
  },
  {
   "cell_type": "code",
   "execution_count": 9,
   "id": "01fbe611-117e-4622-9d69-113371992bf5",
   "metadata": {},
   "outputs": [],
   "source": [
    "x = 141.72 |> Float32; # why do we need |> Float32?"
   ]
  },
  {
   "cell_type": "markdown",
   "id": "0b7111d9-67c0-45e5-86cf-14e36eee2d61",
   "metadata": {},
   "source": [
    "Check the type using [the `typeof(...)` method](https://docs.julialang.org/en/v1/base/base/#Core.typeof):"
   ]
  },
  {
   "cell_type": "code",
   "execution_count": 6,
   "id": "7de6a1ad-6866-43e7-a1f1-68f31c96c65b",
   "metadata": {},
   "outputs": [
    {
     "data": {
      "text/plain": [
       "true"
      ]
     },
     "execution_count": 6,
     "metadata": {},
     "output_type": "execute_result"
    }
   ],
   "source": [
    "typeof(x) == Float32 # if Float32, this should be true"
   ]
  },
  {
   "cell_type": "markdown",
   "id": "9fa21b5e-5ea8-441d-a291-60bbbf15984f",
   "metadata": {},
   "source": [
    "Next, let's use [the `bitstring(...)` method](https://docs.julialang.org/en/v1/base/numbers/#Base.bitstring) to generate the bits of our 32-bit floating point number $x$ as a `String`, and then convert and save the bitstring into a `0`-based dictionary called `d::Dict{Int,Int}`:"
   ]
  },
  {
   "cell_type": "code",
   "execution_count": 34,
   "id": "3849587d-57f0-4896-9ccf-0245d680d51a",
   "metadata": {},
   "outputs": [],
   "source": [
    "d = let\n",
    "\n",
    "    # initialize -\n",
    "    bitpattern_dictionary = Dict{Int64,Int64}(); # storage for the 0-based bit pattern\n",
    "    wordsize = 32; # how many boxes do we have?\n",
    "    a = bitstring(x) |> reverse |> collect .|> v-> parse(Int64, v) # fancy. Nothing to see here, move along (for now anyway).\n",
    "    \n",
    "    # put stuff in the dictionary\n",
    "    for i ∈ 0:(wordsize-1)\n",
    "        bitpattern_dictionary[i] = a[i+1];\n",
    "    end\n",
    "    bitpattern_dictionary # return to caller\n",
    "end;"
   ]
  },
  {
   "cell_type": "markdown",
   "id": "faa5195f-9f53-4dff-b702-020924c5b93f",
   "metadata": {},
   "source": [
    "Now that we have the bitpattern dictionary `d::Dict{Int, Int}`, we can compute the three components of our floating point number. Let's start with the sign, which we'll save in the `S:Float64` variable:"
   ]
  },
  {
   "cell_type": "code",
   "execution_count": 27,
   "id": "d55ebc53-423a-4672-9f87-3f641a4ea06e",
   "metadata": {},
   "outputs": [
    {
     "data": {
      "text/plain": [
       "1.0"
      ]
     },
     "execution_count": 27,
     "metadata": {},
     "output_type": "execute_result"
    }
   ],
   "source": [
    "S = let\n",
    "    S = (-1.0)^(d[31]);\n",
    "end"
   ]
  },
  {
   "cell_type": "markdown",
   "id": "1b22e043-406d-48ce-b01d-b4a4be6c78b6",
   "metadata": {},
   "source": [
    "Next, let's compute a value for the `significand` of $x\\in\\mathbb{x}$, which we'll store in the `calculated_significand_value::Float64` variable:"
   ]
  },
  {
   "cell_type": "code",
   "execution_count": 64,
   "id": "bfd5af18-7f4c-44a3-a23f-6bad004bf069",
   "metadata": {},
   "outputs": [
    {
     "data": {
      "text/plain": [
       "1.1071875095367432"
      ]
     },
     "execution_count": 64,
     "metadata": {},
     "output_type": "execute_result"
    }
   ],
   "source": [
    "calculated_significand_value = let\n",
    "\n",
    "    # initialize -\n",
    "    calculated_significand_value = 0.0;\n",
    "    b = 2.0; # binary, base = 2\n",
    "    msb = 23; # most significant bit (msb)\n",
    "    lsb = 1; # least significant bit (lsb)\n",
    "    significand_range_array = range(lsb,stop=msb,step=1) |> collect; # range of bits to use for the significand\n",
    "\n",
    "    for i ∈ significand_range_array\n",
    "        calculated_significand_value += (b^(-i))*d[msb-i]\n",
    "    end\n",
    "    calculated_significand_value + 1\n",
    "end"
   ]
  },
  {
   "cell_type": "markdown",
   "id": "95b88e87-4150-4742-861a-5423f1dfaf5d",
   "metadata": {},
   "source": [
    "_Check_: Let's use [the `@assert` macro](https://docs.julialang.org/en/v1/base/base/#Base.@assert) to check our calculated significand value. If the `==` comparision comes back `false`, [an `AssertionError` is thrown](https://docs.julialang.org/en/v1/base/base/#Core.AssertionError):"
   ]
  },
  {
   "cell_type": "code",
   "execution_count": 66,
   "id": "4e4a8a8e-13e3-420a-8efa-301958f80dcc",
   "metadata": {},
   "outputs": [],
   "source": [
    "@assert significand(x) == calculated_significand_value # compare built-in versus our calculated value"
   ]
  },
  {
   "cell_type": "markdown",
   "id": "ef835bff-e945-4105-9352-d865a7f05b35",
   "metadata": {},
   "source": [
    "Finally, let's compute the scale of the floating point number $x\\in\\mathbb{R}$, which requires that we compute the $E$ value (which we'll store in the `E::Float64` variable). "
   ]
  },
  {
   "cell_type": "code",
   "execution_count": 72,
   "id": "7653ab51-a325-4784-bc0c-5c51e3700251",
   "metadata": {},
   "outputs": [
    {
     "data": {
      "text/plain": [
       "268.0"
      ]
     },
     "execution_count": 72,
     "metadata": {},
     "output_type": "execute_result"
    }
   ],
   "source": [
    "E = let\n",
    "\n",
    "    # initialize -\n",
    "    calculated_exponent_value = 0.0;\n",
    "    b = 2.0; # binary, base = 2\n",
    "    msb = 30; # most significant bit (msb)\n",
    "    lsb = 23; # least significant bit (lsb)\n",
    "    exponent_bit_range_array = range(lsb, stop=msb, step = 1) |> collect\n",
    "\n",
    "    for i ∈ eachindex(exponent_bit_range_array)\n",
    "        j = exponent_bit_range_array[i]; # remap operation\n",
    "        calculated_exponent_value += d[j]*(b^(i))\n",
    "    end\n",
    "    calculated_exponent_value\n",
    "end"
   ]
  },
  {
   "cell_type": "code",
   "execution_count": 70,
   "id": "f80368b5-5226-4365-8805-88aba5eb3182",
   "metadata": {},
   "outputs": [
    {
     "data": {
      "text/plain": [
       "1.208541995236496e-38"
      ]
     },
     "execution_count": 70,
     "metadata": {},
     "output_type": "execute_result"
    }
   ],
   "source": [
    "2^(1.04 - 127)"
   ]
  },
  {
   "cell_type": "code",
   "execution_count": null,
   "id": "a13313aa-befa-4ca5-9c29-a46640bcfb0c",
   "metadata": {},
   "outputs": [],
   "source": []
  }
 ],
 "metadata": {
  "kernelspec": {
   "display_name": "Julia 1.11.5",
   "language": "julia",
   "name": "julia-1.11"
  },
  "language_info": {
   "file_extension": ".jl",
   "mimetype": "application/julia",
   "name": "julia",
   "version": "1.11.5"
  }
 },
 "nbformat": 4,
 "nbformat_minor": 5
}
