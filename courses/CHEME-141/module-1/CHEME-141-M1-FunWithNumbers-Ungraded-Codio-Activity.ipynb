{
 "cells": [
  {
   "cell_type": "markdown",
   "id": "fa33aeba-6532-4d1a-98b7-e35fb576dc62",
   "metadata": {},
   "source": [
    "# Activity: Fun With Base 16 Numbers"
   ]
  },
  {
   "cell_type": "code",
   "execution_count": null,
   "id": "ce8e4a71-c12f-4997-8614-822e4b2cad63",
   "metadata": {},
   "outputs": [],
   "source": []
  }
 ],
 "metadata": {
  "kernelspec": {
   "display_name": "Python 3 (ipykernel)",
   "language": "python",
   "name": "python3"
  },
  "language_info": {
   "codemirror_mode": {
    "name": "ipython",
    "version": 3
   },
   "file_extension": ".py",
   "mimetype": "text/x-python",
   "name": "python",
   "nbconvert_exporter": "python",
   "pygments_lexer": "ipython3",
   "version": "3.11.8"
  }
 },
 "nbformat": 4,
 "nbformat_minor": 5
}
