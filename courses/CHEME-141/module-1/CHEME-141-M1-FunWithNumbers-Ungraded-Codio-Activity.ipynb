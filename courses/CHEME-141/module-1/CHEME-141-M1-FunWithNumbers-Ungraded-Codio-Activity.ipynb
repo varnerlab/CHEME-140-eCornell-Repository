{
 "cells": [
  {
   "cell_type": "markdown",
   "id": "fa33aeba-6532-4d1a-98b7-e35fb576dc62",
   "metadata": {},
   "source": [
    "# Activity: Fun With Base 16 Numbers\n",
    "As a scientist or engineer, it's strange that (arguably) the most critical numbering systems for data science and machine learning applications are not floating point numbers but base $b$ integers! These numbers are used in many hard-to-see, yet critical, applications. Let's dig into one of these in the activity, namely, the mathematical encoding of text.\n",
    "* __Backstory__. Computers don't see text like you and I, i.e., as a collection of Strings and other punctuation characters. Instead, computers map each character to a unique integer and then express that integer in a base-b positional numbering system, resulting in a digit sequence as bits or bytes.\n",
    "* __Why base b__? Encoding numbers in base-b, i.e., beyond the base 10 numbers we are used to, facilitates efficient text processing, storage, and transmission by serializing characters into predictable, fixed-width numerical representations that can be decoded back into readable symbols.\n",
    "\n",
    "Traditionally, characters were represented using [the ASCII system](https://en.wikipedia.org/wiki/ASCII). [Standard (7-bit) ASCII](https://www.ascii-code.com/ASCII) defined 128 character codes, numbered 0 through 127. [Extended 8-bit ASCII variants](https://www.ascii-code.com) used 256 values. \n",
    "Modern encodings, such as [Unicode encodings like UTF-8 or UTF-16](https://en.wikipedia.org/wiki/Unicode), represent a much wider range of characters.\n",
    "\n",
    "In this activity, we'll dig into the numerical basis of text, starting with the [7-bit ASCII system](https://en.wikipedia.org/wiki/ASCII) and [extended 8-bit ASCII variants](https://www.ascii-code.com) and working our way to [Unicode encodings like UTF-8 or UTF-16](https://en.wikipedia.org/wiki/Unicode). "
   ]
  },
  {
   "cell_type": "markdown",
   "id": "f062005e-1489-48e9-b6f2-bac22f3e2a68",
   "metadata": {},
   "source": [
    "## Setup\n",
    "We set up the computational environment by including the `Include.jl` file and loading any needed resources.\n",
    "* __Include__: The [include command](https://docs.julialang.org/en/v1/base/base/#include) evaluates the contents of the input source file, `Include.jl`, in the notebook's global scope. The `Include.jl` file sets paths, loads required external packages, etc. For additional information on functions and types used in this material, see the [Julia programming language documentation]"
   ]
  },
  {
   "cell_type": "code",
   "execution_count": 3,
   "id": "7a7f1c1f-2350-4cd8-85e4-44662a0497c2",
   "metadata": {},
   "outputs": [],
   "source": [
    "include(\"Include.jl\")"
   ]
  },
  {
   "cell_type": "markdown",
   "id": "74f6aa78-f9c1-4081-acb0-0f20bfd2bee3",
   "metadata": {},
   "source": [
    "___"
   ]
  },
  {
   "cell_type": "markdown",
   "id": "f4624e7a-442c-48d7-8d10-88d17d153d45",
   "metadata": {},
   "source": [
    "##  Explore the ASCII Character Set\n",
    "Let's start by considering the representation of the characters in the `ASCII` character system. The original `ASCII` characters are encoded as the first `128` characters (`0`$\\rightarrow$`127`) in the modern [Unicode system](https://en.wikipedia.org/wiki/Unicode), which uses 7 bits of information to represent a character."
   ]
  },
  {
   "cell_type": "code",
   "execution_count": 6,
   "id": "87dc114b-c11b-4eed-997b-3c2b39b14c3a",
   "metadata": {},
   "outputs": [
    {
     "data": {
      "text/plain": [
       "Dict{Int64, Char} with 128 entries:\n",
       "  5   => '\\x05'\n",
       "  56  => '8'\n",
       "  35  => '#'\n",
       "  55  => '7'\n",
       "  110 => 'n'\n",
       "  114 => 'r'\n",
       "  123 => '{'\n",
       "  60  => '<'\n",
       "  30  => '\\x1e'\n",
       "  32  => ' '\n",
       "  6   => '\\x06'\n",
       "  67  => 'C'\n",
       "  45  => '-'\n",
       "  117 => 'u'\n",
       "  73  => 'I'\n",
       "  115 => 's'\n",
       "  112 => 'p'\n",
       "  64  => '@'\n",
       "  90  => 'Z'\n",
       "  4   => '\\x04'\n",
       "  13  => '\\r'\n",
       "  54  => '6'\n",
       "  63  => '?'\n",
       "  86  => 'V'\n",
       "  104 => 'h'\n",
       "  ⋮   => ⋮"
      ]
     },
     "execution_count": 6,
     "metadata": {},
     "output_type": "execute_result"
    }
   ],
   "source": [
    "ascii_char_dictionary = let\n",
    "\n",
    "    # initialize -\n",
    "    ascii_char_dictionary = Dict{Int64, Char}(); # storage for index - character map\n",
    "    ASCII_character_range = range(0,stop=127,step=1) |> collect; # extended ASCII indexes\n",
    "\n",
    "    # main loop -\n",
    "    for i ∈ eachindex(ASCII_character_range)\n",
    "        my_ascii_char_index = ASCII_character_range[i];\n",
    "        c = convert(Char, my_ascii_char_index) # hmmm. This is an interesting function.\n",
    "        ascii_char_dictionary[my_ascii_char_index] = c;\n",
    "    end\n",
    "    ascii_char_dictionary;\n",
    "end"
   ]
  },
  {
   "cell_type": "markdown",
   "id": "9fe3a5a1-ad4d-4bb5-bf23-fbd02a5fdf1d",
   "metadata": {},
   "source": [
    "`Unhide` the code block to see how we build a table of the `ACSII` characters using [the `pretty_table(...)` function exported by the PrettyTables.jl package](https://github.com/ronisbr/PrettyTables.jl). Let's look at what the `ASCII` characters are. \n",
    "* This logic involves some advanced tools and techniques we've not yet discussed. You can skip the implementation details for now, we'll come back to them later.\n",
    "* We'll do this using a [`for-loop`](https://docs.julialang.org/en/v1/base/base/#for) and [the `convert(...)` function](https://docs.julialang.org/en/v1/base/base/#Base.convert), where we push items into a [DataFrame](https://dataframes.juliadata.org/stable/), and the display the data by [calling the `pretty_table(...)` method](https://github.com/ronisbr/PrettyTables.jl)."
   ]
  },
  {
   "cell_type": "code",
   "execution_count": 8,
   "id": "ebc6b560-ac36-4d9b-803f-05f0f9be3e0b",
   "metadata": {},
   "outputs": [
    {
     "name": "stdout",
     "output_type": "stream",
     "text": [
      "======== ============\n",
      " \u001b[1m     i \u001b[0m \u001b[1m character \u001b[0m\n",
      " \u001b[90m Int64 \u001b[0m \u001b[90m      Char \u001b[0m\n",
      "======== ============\n",
      "      0          \\0\n",
      "      1        \\x01\n",
      "      2        \\x02\n",
      "      3        \\x03\n",
      "      4        \\x04\n",
      "      5        \\x05\n",
      "      6        \\x06\n",
      "      7          \\a\n",
      "      8          \\b\n",
      "      9          \\t\n",
      "     10          \\n\n",
      "     11          \\v\n",
      "     12          \\f\n",
      "     13          \\r\n",
      "     14        \\x0e\n",
      "     15        \\x0f\n",
      "     16        \\x10\n",
      "     17        \\x11\n",
      "     18        \\x12\n",
      "     19        \\x13\n",
      "     20        \\x14\n",
      "     21        \\x15\n",
      "     22        \\x16\n",
      "     23        \\x17\n",
      "     24        \\x18\n",
      "     25        \\x19\n",
      "     26        \\x1a\n",
      "     27          \\e\n",
      "     28        \\x1c\n",
      "     29        \\x1d\n",
      "     30        \\x1e\n",
      "     31        \\x1f\n",
      "     32\n",
      "     33           !\n",
      "     34           \"\n",
      "     35           #\n",
      "     36           $\n",
      "     37           %\n",
      "     38           &\n",
      "     39           '\n",
      "     40           (\n",
      "     41           )\n",
      "     42           *\n",
      "     43           +\n",
      "     44           ,\n",
      "     45           -\n",
      "     46           .\n",
      "     47           /\n",
      "     48           0\n",
      "     49           1\n",
      "     50           2\n",
      "     51           3\n",
      "     52           4\n",
      "     53           5\n",
      "     54           6\n",
      "     55           7\n",
      "     56           8\n",
      "     57           9\n",
      "     58           :\n",
      "     59           ;\n",
      "     60           <\n",
      "     61           =\n",
      "     62           >\n",
      "     63           ?\n",
      "     64           @\n",
      "     65           A\n",
      "     66           B\n",
      "     67           C\n",
      "     68           D\n",
      "     69           E\n",
      "     70           F\n",
      "     71           G\n",
      "     72           H\n",
      "     73           I\n",
      "     74           J\n",
      "     75           K\n",
      "     76           L\n",
      "     77           M\n",
      "     78           N\n",
      "     79           O\n",
      "     80           P\n",
      "     81           Q\n",
      "     82           R\n",
      "     83           S\n",
      "     84           T\n",
      "     85           U\n",
      "     86           V\n",
      "     87           W\n",
      "     88           X\n",
      "     89           Y\n",
      "     90           Z\n",
      "     91           [\n",
      "     92          \\\\\n",
      "     93           ]\n",
      "     94           ^\n",
      "     95           _\n",
      "     96           `\n",
      "     97           a\n",
      "     98           b\n",
      "     99           c\n",
      "    100           d\n",
      "    101           e\n",
      "    102           f\n",
      "    103           g\n",
      "    104           h\n",
      "    105           i\n",
      "    106           j\n",
      "    107           k\n",
      "    108           l\n",
      "    109           m\n",
      "    110           n\n",
      "    111           o\n",
      "    112           p\n",
      "    113           q\n",
      "    114           r\n",
      "    115           s\n",
      "    116           t\n",
      "    117           u\n",
      "    118           v\n",
      "    119           w\n",
      "    120           x\n",
      "    121           y\n",
      "    122           z\n",
      "    123           {\n",
      "    124           |\n",
      "    125           }\n",
      "    126           ~\n",
      "    127        \\x7f\n",
      "======== ============\n"
     ]
    }
   ],
   "source": [
    "let\n",
    "    ASCII_index_array = keys(ascii_char_dictionary) |> collect |> sort;\n",
    "    character_table_df = DataFrame();\n",
    "    for i ∈ eachindex(ASCII_index_array)\n",
    "        my_ascii_char_index = ASCII_index_array[i];\n",
    "        c = ascii_char_dictionary[my_ascii_char_index];\n",
    "\n",
    "        row = (\n",
    "            i = my_ascii_char_index,\n",
    "            character = c\n",
    "        ); # -> what is going on here? This is a cool type called a NamedTuple ...\n",
    "        push!(character_table_df,row); # push! -> what is going on here?\n",
    "    end\n",
    "    pretty_table(character_table_df, tf=tf_simple)\n",
    "end"
   ]
  },
  {
   "cell_type": "markdown",
   "id": "e42738ab-4a53-4532-ba4a-2c34570f54be",
   "metadata": {},
   "source": [
    "In the code block above, we explicitly called [the `convert(...)` method](https://docs.julialang.org/en/v1/manual/conversion-and-promotion/) to convert an [`Int`](https://docs.julialang.org/en/v1/manual/integers-and-floating-point-numbers/#Integers) to a [`Char` type](https://docs.julialang.org/en/v1/base/strings/#Core.Char). However, this was unnecessary, as Julia (and most modern languages) will automatically try to understand what you type (and do conversions for you if it can). For example:"
   ]
  },
  {
   "cell_type": "code",
   "execution_count": 10,
   "id": "547b246c-cea1-4702-9af6-eddd7abb50c4",
   "metadata": {},
   "outputs": [
    {
     "data": {
      "text/plain": [
       "99"
      ]
     },
     "execution_count": 10,
     "metadata": {},
     "output_type": "execute_result"
    }
   ],
   "source": [
    "'c' |> Int # wow. this seems a little magical. What is actually going on here?? (notice the single quotes)"
   ]
  },
  {
   "cell_type": "code",
   "execution_count": 11,
   "id": "23242f6c-a78f-491d-84b0-c813720b1240",
   "metadata": {},
   "outputs": [
    {
     "data": {
      "text/plain": [
       "99"
      ]
     },
     "execution_count": 11,
     "metadata": {},
     "output_type": "execute_result"
    }
   ],
   "source": [
    "Int('c') # what?!? We can convert between ASCII characters and Int! "
   ]
  },
  {
   "cell_type": "code",
   "execution_count": 12,
   "id": "7181554a-bac0-47da-8d59-c34904a09912",
   "metadata": {},
   "outputs": [
    {
     "data": {
      "text/plain": [
       "'c': ASCII/Unicode U+0063 (category Ll: Letter, lowercase)"
      ]
     },
     "execution_count": 12,
     "metadata": {},
     "output_type": "execute_result"
    }
   ],
   "source": [
    "Char(99)"
   ]
  },
  {
   "cell_type": "markdown",
   "id": "5b8b967d-03a2-4a21-ade6-6e9211c63b89",
   "metadata": {},
   "source": [
    "### Limitations of ASCII\n",
    "Wow! ASCII seems pretty cool. Why do we need anything beyond these 127 characters?\n",
    "* The original 7-bit ASCII was limited to 128 code points (0–127), so it couldn’t represent characters beyond basic English letters, digits, punctuation, and control codes.\n",
    "* The original 7-bit ASCII character set offered no native support for accented characters or non-Latin scripts (e.g., Cyrillic, Greek, and Arabic), hindering internationalization.\n",
    "* The original 7-bit ASCII character set omitted modern typographic symbols, mathematical glyphs, and emojis, making it inadequate for rich text or graphical communication.\n",
    "\n",
    "Bummer. These limitations, and others, led to the development of [the Unicode system](https://en.wikipedia.org/wiki/Unicode)."
   ]
  },
  {
   "cell_type": "markdown",
   "id": "1c025386-0c1d-4976-99f0-948611d62bba",
   "metadata": {},
   "source": [
    "## Explore the Unicode Character Set\n",
    "The ASCII character set has only 128 characters (lower and uppercase English-language characters, some mathematical symbols, and numbers). The modern [Unicode system](https://en.wikipedia.org/wiki/Unicode) _can encode_ 1,114,112 possible characters (code points). However, as of [Unicode Standard version 16.0 (released September 10, 2024)](https://www.unicode.org/versions/Unicode16.0.0/), 154,998 of those code points are assigned to uniquely named characters; various characters in many languages, a much larger family of mathematical symbols, and [emoji](https://en.wikipedia.org/wiki/Emoji) of all sorts. \n",
    "* The [Unicode system](https://en.wikipedia.org/wiki/Unicode) indexes characters using a `base 16` (hexadecimal) numbering system. Julia has [built-in Unicode support in the standard library](https://docs.julialang.org/en/v1/stdlib/Unicode/#Unicode); thus, we can work with these characters in our programs. For more information on the specific Unicode primitives supported by Julia, check out the [Julia documentation](https://docs.julialang.org/en/v1/manual/unicode-input/).\n",
    "\n",
    "Let's do some math with `emojis` (not really that important, but fun):"
   ]
  },
  {
   "cell_type": "code",
   "execution_count": 15,
   "id": "a03a02b2-663a-41be-ac6b-56eaf71c997a",
   "metadata": {},
   "outputs": [],
   "source": [
    "🌽 = 16; # corn = 16 \\:corn:\n",
    "🍣 = 4; # sushi = 4 \\:sushi:"
   ]
  },
  {
   "cell_type": "markdown",
   "id": "510d8ca5-f66f-40b2-ac77-e53d0206de52",
   "metadata": {},
   "source": [
    "Can we do operations?"
   ]
  },
  {
   "cell_type": "code",
   "execution_count": 17,
   "id": "5cb91536-6e55-423d-90e3-1998fb0be905",
   "metadata": {},
   "outputs": [
    {
     "data": {
      "text/plain": [
       "20"
      ]
     },
     "execution_count": 17,
     "metadata": {},
     "output_type": "execute_result"
    }
   ],
   "source": [
    "🌽 + 🍣  # addition?"
   ]
  },
  {
   "cell_type": "code",
   "execution_count": 18,
   "id": "683c684e-e209-4b4a-b080-d26db63807bf",
   "metadata": {},
   "outputs": [
    {
     "data": {
      "text/plain": [
       "64"
      ]
     },
     "execution_count": 18,
     "metadata": {},
     "output_type": "execute_result"
    }
   ],
   "source": [
    "(🌽 * 🍣) # multiplication?"
   ]
  },
  {
   "cell_type": "markdown",
   "id": "35fd7735-0678-4e21-a2b0-2af9d289f5b2",
   "metadata": {},
   "source": [
    "How about logical comparisons? Because Julia has built-in support for [Unicode characters](https://en.wikipedia.org/wiki/Unicode), in addition to using these characters as variables, you can also use many of the Unicode mathematical symbols to _write functional code_ that looks like something we might understand from math. \n",
    "\n",
    "To see what characters are supported, check out [the Unicode input documentation](https://docs.julialang.org/en/v1/manual/unicode-input/):\n",
    "* For example, consider `🌽 = 16` and `🍣 = 4`. We know that $🌽\\geq{🍣}$ should return `true.` Let's write the `greater than or equal to` check using [Unicode characters](https://en.wikipedia.org/wiki/Unicode):"
   ]
  },
  {
   "cell_type": "code",
   "execution_count": 20,
   "id": "ff324478-6932-4254-9499-cdd82d700a79",
   "metadata": {},
   "outputs": [
    {
     "data": {
      "text/plain": [
       "true"
      ]
     },
     "execution_count": 20,
     "metadata": {},
     "output_type": "execute_result"
    }
   ],
   "source": [
    "🌽 ≥ 🍣 # logical comparison? (\\geq then tab)"
   ]
  },
  {
   "cell_type": "markdown",
   "id": "b7951951-d663-467a-88d0-fc5ee0726ee3",
   "metadata": {},
   "source": [
    "We can also determine whether an item is in the given collection. For example, assume we have the character set $\\mathbb{C} \\equiv \\left\\{A,B,Q,R,S\\right\\}$. Let's write an expression to check if $c\\in\\mathbb{C}$, where $\\in$ denotes the `element of` operation, and `c` is some character. \n",
    "* Use the [Set data structure](https://docs.julialang.org/en/v1/base/collections/#Base.Set) to do this example. [`Set` is a collection type](https://docs.julialang.org/en/v1/base/collections/#Base.Set) (included in most modern languages) that holds items; sets are `unique` but do not maintain order.\n",
    "\n",
    "Specify the set $\\mathbb{C}$:"
   ]
  },
  {
   "cell_type": "code",
   "execution_count": 22,
   "id": "2c89cf43-4513-4865-a647-d5bb3b59f1a3",
   "metadata": {},
   "outputs": [
    {
     "data": {
      "text/plain": [
       "Set{Char} with 5 elements:\n",
       "  'A'\n",
       "  'R'\n",
       "  'S'\n",
       "  'Q'\n",
       "  'B'"
      ]
     },
     "execution_count": 22,
     "metadata": {},
     "output_type": "execute_result"
    }
   ],
   "source": [
    "C = let\n",
    "    C = Set{Char}(); # empty set wiht Char types\n",
    "    push!(C,'A'); # add a `A` to set C \n",
    "    push!(C,'B'); # ... `B` ...\n",
    "    push!(C,'Q'); # ... `Q` ...\n",
    "    push!(C,'R'); # ... `R` ...\n",
    "    push!(C,'S'); # ... `S` ...\n",
    "\n",
    "    C # return\n",
    "end"
   ]
  },
  {
   "cell_type": "markdown",
   "id": "ddd1baf3-a4a9-4adf-a1be-4e76a268e588",
   "metadata": {},
   "source": [
    "Specify the test character `c`:"
   ]
  },
  {
   "cell_type": "code",
   "execution_count": 24,
   "id": "9408408d-f749-4892-8b4e-2cf738b0fe7c",
   "metadata": {},
   "outputs": [],
   "source": [
    "c = 🌽; # Do we have corn in the set ℂ?"
   ]
  },
  {
   "cell_type": "markdown",
   "id": "8774e5e1-31b1-4ea1-a9a6-17c67eda5d7a",
   "metadata": {},
   "source": [
    "Check if $c\\in\\mathbb{C}$:"
   ]
  },
  {
   "cell_type": "code",
   "execution_count": 26,
   "id": "df3d0ea3-cd31-4a67-9fef-eb7d7feedca1",
   "metadata": {},
   "outputs": [
    {
     "data": {
      "text/plain": [
       "false"
      ]
     },
     "execution_count": 26,
     "metadata": {},
     "output_type": "execute_result"
    }
   ],
   "source": [
    "c ∈ C # ∈ => \\in then tab"
   ]
  },
  {
   "cell_type": "markdown",
   "id": "9ab8cd61-c9ec-4895-8618-beeda7759514",
   "metadata": {},
   "source": [
    "Ok, so [the Unicode character set is cool](https://en.wikipedia.org/wiki/Unicode), and [Julia's support for Unicode](https://docs.julialang.org/en/v1/manual/unicode-input/) is next level. But how are these characters related to base 16 numbers? let's dig into this question next."
   ]
  },
  {
   "cell_type": "markdown",
   "id": "f7dee738-488f-4e84-b8f1-095904b6918f",
   "metadata": {},
   "source": [
    "## Unicode Strings and Codepoints\n",
    "The built-in [Julia `String` type](https://docs.julialang.org/en/v1/base/strings/) can represent text. The [`String` type](https://docs.julialang.org/en/v1/base/strings/) can be thought of similarly to the traditional text model in languages like [C](https://en.wikipedia.org/wiki/C_(programming_language)), namely an ordered collection (array) of `Char` types. \n",
    "* However, behind the scenes, the `String` type in `Julia` or `Python` uses a sophisticated `base 16` addressing system composed of Unicode codepoints.\n",
    "\n",
    "Let's play around with a `test_string_ascii::String`:"
   ]
  },
  {
   "cell_type": "code",
   "execution_count": 29,
   "id": "d53ca76b-3ad0-4a44-8864-251a2f768bf5",
   "metadata": {},
   "outputs": [],
   "source": [
    "test_string_ascii = \"Test String in Julia (notice the double quotes). Python uses both single and double quotes for Strings. 😒\";"
   ]
  },
  {
   "cell_type": "markdown",
   "id": "937b7784-afcf-43b5-8eec-0d10a7b13dd6",
   "metadata": {},
   "source": [
    "Fill me in."
   ]
  },
  {
   "cell_type": "code",
   "execution_count": 31,
   "id": "ebb383e8-a75d-4570-ae18-6f5f69d7d931",
   "metadata": {},
   "outputs": [
    {
     "data": {
      "text/plain": [
       "105-element Vector{Char}:\n",
       " 'T': ASCII/Unicode U+0054 (category Lu: Letter, uppercase)\n",
       " 'e': ASCII/Unicode U+0065 (category Ll: Letter, lowercase)\n",
       " 's': ASCII/Unicode U+0073 (category Ll: Letter, lowercase)\n",
       " 't': ASCII/Unicode U+0074 (category Ll: Letter, lowercase)\n",
       " ' ': ASCII/Unicode U+0020 (category Zs: Separator, space)\n",
       " 'S': ASCII/Unicode U+0053 (category Lu: Letter, uppercase)\n",
       " 't': ASCII/Unicode U+0074 (category Ll: Letter, lowercase)\n",
       " 'r': ASCII/Unicode U+0072 (category Ll: Letter, lowercase)\n",
       " 'i': ASCII/Unicode U+0069 (category Ll: Letter, lowercase)\n",
       " 'n': ASCII/Unicode U+006E (category Ll: Letter, lowercase)\n",
       " 'g': ASCII/Unicode U+0067 (category Ll: Letter, lowercase)\n",
       " ' ': ASCII/Unicode U+0020 (category Zs: Separator, space)\n",
       " 'i': ASCII/Unicode U+0069 (category Ll: Letter, lowercase)\n",
       " ⋮\n",
       " 'r': ASCII/Unicode U+0072 (category Ll: Letter, lowercase)\n",
       " ' ': ASCII/Unicode U+0020 (category Zs: Separator, space)\n",
       " 'S': ASCII/Unicode U+0053 (category Lu: Letter, uppercase)\n",
       " 't': ASCII/Unicode U+0074 (category Ll: Letter, lowercase)\n",
       " 'r': ASCII/Unicode U+0072 (category Ll: Letter, lowercase)\n",
       " 'i': ASCII/Unicode U+0069 (category Ll: Letter, lowercase)\n",
       " 'n': ASCII/Unicode U+006E (category Ll: Letter, lowercase)\n",
       " 'g': ASCII/Unicode U+0067 (category Ll: Letter, lowercase)\n",
       " 's': ASCII/Unicode U+0073 (category Ll: Letter, lowercase)\n",
       " '.': ASCII/Unicode U+002E (category Po: Punctuation, other)\n",
       " ' ': ASCII/Unicode U+0020 (category Zs: Separator, space)\n",
       " '😒': Unicode U+1F612 (category So: Symbol, other)"
      ]
     },
     "execution_count": 31,
     "metadata": {},
     "output_type": "execute_result"
    }
   ],
   "source": [
    "character_array_test_string_ascii = test_string_ascii |> collect"
   ]
  },
  {
   "cell_type": "markdown",
   "id": "a9d4e1db-b198-496d-87e9-bc9bda356eab",
   "metadata": {},
   "source": [
    "Fill me in."
   ]
  },
  {
   "cell_type": "markdown",
   "id": "0ff720d9-2808-495e-8ab2-394b90586837",
   "metadata": {},
   "source": [
    "### How do we calculate a codepoint?\n",
    "The codepoint (index) for `🍣` equals `U+1F363`. But what does that mean? To start, we can compute the `base 10` index for a Unicode character by calling [the `Unicode.julia_chartransform(...)` method](https://docs.julialang.org/en/v1/stdlib/Unicode/#Unicode.julia_chartransform) and then converting that value to an `Int.` \n",
    "\n",
    "Let's store a test character in the `test_unicode_char::Char` variable:"
   ]
  },
  {
   "cell_type": "code",
   "execution_count": 63,
   "id": "2c66de3e-fade-4669-bda0-4abbc832ce50",
   "metadata": {},
   "outputs": [
    {
     "data": {
      "text/plain": [
       "'🍣': Unicode U+1F363 (category So: Symbol, other)"
      ]
     },
     "execution_count": 63,
     "metadata": {},
     "output_type": "execute_result"
    }
   ],
   "source": [
    "test_unicode_char = '🍣' # want to select another Unicode character?"
   ]
  },
  {
   "cell_type": "markdown",
   "id": "1cb5e957-554d-4369-94f5-7abf99ca0b21",
   "metadata": {},
   "source": [
    "What is the base 10 value for the `test_unicode_char::Char`?"
   ]
  },
  {
   "cell_type": "code",
   "execution_count": 65,
   "id": "fb0d6a24-f603-4476-896c-224f55ee44a2",
   "metadata": {},
   "outputs": [
    {
     "data": {
      "text/plain": [
       "127843"
      ]
     },
     "execution_count": 65,
     "metadata": {},
     "output_type": "execute_result"
    }
   ],
   "source": [
    "test_char_index = Unicode.julia_chartransform(test_unicode_char) |> Int"
   ]
  },
  {
   "cell_type": "markdown",
   "id": "aa22c49a-69e4-45b4-9341-17103d20948b",
   "metadata": {},
   "source": [
    "Now, let's check this value by going backward: from `base 10` back to the `codepoint.`\n",
    "* Convert the `base 10` value to a `base 16` (hexadecimal) number and then convert that to the [Unicode index](https://en.wikipedia.org/wiki/Unicode) format; [Unicode indexs](https://en.wikipedia.org/wiki/Unicode) indexes left-pad the hexadecimal character value with zeros until a 5-digit code is generated, and then `U+` is appended to the five-digit code.\n",
    "* Hexadecimal numbers use decimal digits and six extra symbols; the decimal values $(0,1,\\dots,9)$, and the letters A, B, C, D, E, and F where hexadecimal A = decimal 10, through hexadecimal F = decimal 15."
   ]
  },
  {
   "cell_type": "code",
   "execution_count": 69,
   "id": "e33fd60b-6cbf-4bfe-8add-e042c87ca334",
   "metadata": {},
   "outputs": [
    {
     "data": {
      "text/plain": [
       "Dict{Int64, Char} with 16 entries:\n",
       "  5  => '5'\n",
       "  12 => 'C'\n",
       "  8  => '8'\n",
       "  1  => '1'\n",
       "  0  => '0'\n",
       "  6  => '6'\n",
       "  11 => 'B'\n",
       "  9  => '9'\n",
       "  14 => 'E'\n",
       "  3  => '3'\n",
       "  7  => '7'\n",
       "  4  => '4'\n",
       "  13 => 'D'\n",
       "  15 => 'F'\n",
       "  2  => '2'\n",
       "  10 => 'A'"
      ]
     },
     "execution_count": 69,
     "metadata": {},
     "output_type": "execute_result"
    }
   ],
   "source": [
    "hexidecimal_digits_dictionary = let\n",
    "\n",
    "    hexidecimal_digits_dictionary = Dict{Int,Char}()\n",
    "    for i ∈ 0:15\n",
    "        hexidecimal_digits_dictionary[i] = '0' + i |> Char # hmmm: this is whacky; why does this work?\n",
    "        if (i > 9)\n",
    "            hexidecimal_digits_dictionary[i] = 'A' + (i - 10) |> Char\n",
    "        end\n",
    "    end\n",
    "    hexidecimal_digits_dictionary\n",
    "end"
   ]
  },
  {
   "cell_type": "markdown",
   "id": "48c20090-9b54-4506-8704-6f49c23a0b39",
   "metadata": {},
   "source": [
    "__Algorithm__:\n",
    "* Step 1: Divide the given decimal number by 16 and write down the quotient and remainder\n",
    "* Step 2: Divide the previous quotient by 16 and write down the quotient and remainder\n",
    "* Step 3: Repeat steps 1 and 2 until the quotient equals zero.\n",
    "* Step 4: Map all the remainder values to their corresponding hexadecimal equivalents \n",
    "* Step 5: Starting with the last value and moving to the first, write each of the hexadecimal values"
   ]
  },
  {
   "cell_type": "code",
   "execution_count": 74,
   "id": "bd01ec9c-6c56-47a5-9e38-83f3df047732",
   "metadata": {},
   "outputs": [
    {
     "data": {
      "text/plain": [
       "\"U+1F363\""
      ]
     },
     "execution_count": 74,
     "metadata": {},
     "output_type": "execute_result"
    }
   ],
   "source": [
    "my_code_point = let\n",
    "\n",
    "    q = test_char_index; \n",
    "    remainder_array = Array{Int64,1}();\n",
    "    while (q != 0)\n",
    "        r = rem(q,16)\n",
    "        q = div(q,16)\n",
    "        push!(remainder_array,r)\n",
    "    end\n",
    "\n",
    "    my_code_point = \"\";\n",
    "    for i ∈ reverse(remainder_array)\n",
    "        tmp = hexidecimal_digits_dictionary[i];\n",
    "        my_code_point *= tmp |> Char;\n",
    "    end\n",
    "\n",
    "    # left pad with zeros to get a 4-digit code\n",
    "    my_code_point = lpad(my_code_point, 5, '0') |> x-> \"U+\"*x\n",
    "end"
   ]
  },
  {
   "cell_type": "markdown",
   "id": "ec5526b1-c83b-4347-b1ea-b82d7ae9bfc2",
   "metadata": {},
   "source": [
    "### Alternative: Use the codepoint function\n",
    "The [`codepoint(...)` method](https://docs.julialang.org/en/v1/base/strings/#Base.codepoint) takes a [`Char` type](https://docs.julialang.org/en/v1/base/strings/#Core.Char) and (typically) returns [a `UInt32` value](https://docs.julialang.org/en/v1/base/numbers/#Core.UInt32) corresponding to the character index. The __fast way__ to get the Unicode character index is this is to call [`convert(...)` method]() on the `UInt32` value (convert back to an `Int32` or `Int64`) returned from [the `codepoint(...)` method](https://docs.julialang.org/en/v1/base/strings/#Base.codepoint)"
   ]
  },
  {
   "cell_type": "code",
   "execution_count": 77,
   "id": "e5672ee9-e6d1-495b-9984-eb22fb208a4e",
   "metadata": {},
   "outputs": [],
   "source": [
    "fast_test_index = Unicode.codepoint(test_unicode_char) |> x-> convert(Int,x); # for sushi 127843\n",
    "@assert fast_test_index == test_char_index"
   ]
  },
  {
   "cell_type": "markdown",
   "id": "3e2586d8-5fe1-42da-88df-5f6ee9cd8843",
   "metadata": {},
   "source": [
    "However, we can go a little deeper. Even though `UInt32` is a strange integer, it is still an integer. Thus, we can use [the `bitstring(...)` method](https://docs.julialang.org/en/v1/base/numbers/#Base.bitstring) to compute the corresponding bitstring and then convert that into an array of `Int64` integers. \n",
    "\n",
    "Save that array in the `codepoint_bitpattern_array::Array{Int64,1}` variable."
   ]
  },
  {
   "cell_type": "code",
   "execution_count": 80,
   "id": "c3c21905-5ef6-495f-93f1-d80bda8e9c80",
   "metadata": {},
   "outputs": [
    {
     "data": {
      "text/plain": [
       "32-element Vector{Int64}:\n",
       " 1\n",
       " 1\n",
       " 0\n",
       " 0\n",
       " 0\n",
       " 1\n",
       " 1\n",
       " 0\n",
       " 1\n",
       " 1\n",
       " 0\n",
       " 0\n",
       " 1\n",
       " ⋮\n",
       " 0\n",
       " 0\n",
       " 0\n",
       " 0\n",
       " 0\n",
       " 0\n",
       " 0\n",
       " 0\n",
       " 0\n",
       " 0\n",
       " 0\n",
       " 0"
      ]
     },
     "execution_count": 80,
     "metadata": {},
     "output_type": "execute_result"
    }
   ],
   "source": [
    "codepoint_bitpattern_array = Unicode.codepoint(test_unicode_char) |> bitstring |> collect |> reverse .|> x-> parse(Int, x)"
   ]
  },
  {
   "cell_type": "markdown",
   "id": "af00f766-b746-497a-a704-3d2988e161d7",
   "metadata": {},
   "source": [
    "Then, we can use the values in the `codepoint_bitpattern_array` to compute the `base 10` index of the Unicode character and compare that to the `test_char_index` value using [the @assert macro](https://docs.julialang.org/en/v1/base/base/#Base.@assert):"
   ]
  },
  {
   "cell_type": "code",
   "execution_count": 85,
   "id": "494d96c1-1f08-4df5-bb4f-ce51db91ff17",
   "metadata": {},
   "outputs": [
    {
     "data": {
      "text/plain": [
       "127843"
      ]
     },
     "execution_count": 85,
     "metadata": {},
     "output_type": "execute_result"
    }
   ],
   "source": [
    "N = length(codepoint_bitpattern_array)\n",
    "base = 2;\n",
    "value = 0;\n",
    "for i ∈ 0:(N-1)\n",
    "    value += codepoint_bitpattern_array[i+1]*base^(i); # why i + 1\n",
    "end\n",
    "value"
   ]
  }
 ],
 "metadata": {
  "kernelspec": {
   "display_name": "Julia 1.11.5",
   "language": "julia",
   "name": "julia-1.11"
  },
  "language_info": {
   "file_extension": ".jl",
   "mimetype": "application/julia",
   "name": "julia",
   "version": "1.11.5"
  }
 },
 "nbformat": 4,
 "nbformat_minor": 5
}
