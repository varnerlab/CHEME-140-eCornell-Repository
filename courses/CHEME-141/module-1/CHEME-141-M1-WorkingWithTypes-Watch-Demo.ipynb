{
 "cells": [
  {
   "cell_type": "markdown",
   "id": "574292be-682f-4483-801b-419aa17bd712",
   "metadata": {},
   "source": [
    "# Demo: Working With Different Data Types\n",
    "A type system provides a formal way to classify and constrain the shapes of data and operations in a program, enabling the detection of mismatches (e.g., passing a string where a number is expected) before or during execution. \n",
    "\n",
    "* _Modern languages_: Modern languages such as [Ruby](https://www.ruby-lang.org/en/) and [Python](https://www.python.org/) utilize dynamic type systems, where type checks occur during execution. This allows for greater flexibility at the expense of deferred error detection.\n",
    "* _Classical languages_: In contrast, [classical languages such as the C programming language](https://gcc.gnu.org/) feature a static, compile-time type system: types must be explicitly declared, checks are enforced prior to execution, and the compiler uses type information to generate optimized code and prevent many categories of runtime errors.\n",
    "* _Is Julia Like C or Python_? It's like both! Julia is dynamically typed like [Python](https://www.python.org/) in \n",
    "that type checks happen at run‐time. However, [the Julia compiler](https://docs.julialang.org/en/v1/devdocs/compiler/) performs type inference on concrete values and generates specialized, statically‐typed machine code for performance, i.e., sort of like [the C programming language](https://gcc.gnu.org/). Thus, although Julia code is compiled, its language semantics remain dynamically typed."
   ]
  },
  {
   "cell_type": "markdown",
   "id": "8be71ecd-352e-40f5-ae7a-f043fc4581d8",
   "metadata": {},
   "source": [
    "## Primitive Types\n",
    "A primitive type is a basic, built‐in data type provided by a programming language whose values are represented atomically; that is, primitive types are not composed of other types.\n",
    "\n",
    "In Julia, primitive types like `Int64`, `Float64`, `Bool`, and `Char` are fixed‐size, _unboxed machine types_ used directly by the compiler. In contrast, built‐in types such as int, float, and bool in Python are heap‐allocated [PyObject instances](https://docs.python.org/3/c-api/structures.html#c.PyObject).\n",
    "\n",
    "Let's unpack this.\n",
    "* _Unboxed machine types_? An unboxed type is one whose values are stored directly in memory (e.g., [in registers](https://en.wikipedia.org/wiki/Processor_register) or on the stack) without an extra level of indirection or heap allocation.\n",
    "* _Stack and heap_? The stack is a region of memory used for storing function call frames, local variables, and control flow information in a last‐in, first‐out manner, with automatic allocation and deallocation as functions are entered and exited. The heap is a separate memory region for dynamically allocated objects whose lifetimes are managed manually or by a garbage collector, allowing arbitrary allocation and deallocation but incurring overhead for bookkeeping.\n",
    "* _Stack faster than heap_? Accessing stack memory is generally faster because it involves simple pointer arithmetic and a contiguous, cache‐friendly layout without extra metadata lookup. Heap access requires managing allocation metadata and may involve pointer dereferencing and less predictable locality, which can introduce overhead.\n",
    "\n",
    "Ultimately, all primitive types can be represented as an ordered collection, i.e., an array of binary $\\{0,1\\}$ values."
   ]
  },
  {
   "cell_type": "markdown",
   "id": "a2e03a65-331e-4a21-8792-379a4352edc9",
   "metadata": {},
   "source": [
    "### Integer and Boolean Types\n",
    "An integer type represents whole numbers $x\\in\\mathbb{Z}$ (positive, negative and zero). Integers are implemented using a _fixed‐width_ binary form (e.g., 32‐ or 64‐bit). A boolean (Bool) type represents truth values (`true` and `false`); Bool values are stored as a single bit or 1$\\times$byte, i.e., an 8-bit integer value.\n",
    "\n",
    "Let's look at some integers."
   ]
  },
  {
   "cell_type": "code",
   "execution_count": 71,
   "id": "ad2edff5-a731-4c70-a9f6-64619bfa34a2",
   "metadata": {},
   "outputs": [],
   "source": [
    "x = 2; # select a whole number ... -2, -1, 0, 1, 2, ..."
   ]
  },
  {
   "cell_type": "markdown",
   "id": "612fa6b4-698e-48fe-a0d3-b442a820d0a5",
   "metadata": {},
   "source": [
    "What type is $x$ in Julia? We can find the type of something using [the `typeof(...)` method](https://docs.julialang.org/en/v1/base/base/#Core.typeof):"
   ]
  },
  {
   "cell_type": "code",
   "execution_count": 74,
   "id": "9708900f-a018-4f89-a552-8b9aaeaac5b4",
   "metadata": {},
   "outputs": [
    {
     "data": {
      "text/plain": [
       "Int64"
      ]
     },
     "execution_count": 74,
     "metadata": {},
     "output_type": "execute_result"
    }
   ],
   "source": [
    "typeof(x) # this returns the type of the argument"
   ]
  },
  {
   "cell_type": "markdown",
   "id": "118d6bd5-e275-46e4-84be-12a84a60352e",
   "metadata": {},
   "source": [
    "What is the bitstring of $x$? The bitstring gives the literal bit representation of a primitive type. We can get the bitstring of $x$ using [the `bistring(...)` method in Julia](https://docs.julialang.org/en/v1/base/numbers/#Base.bitstring)"
   ]
  },
  {
   "cell_type": "code",
   "execution_count": 82,
   "id": "b6799308-a09d-4782-9ab5-c6ddf4220aff",
   "metadata": {},
   "outputs": [
    {
     "data": {
      "text/plain": [
       "\"0000000000000000000000000000000000000000000000000000000000000010\""
      ]
     },
     "execution_count": 82,
     "metadata": {},
     "output_type": "execute_result"
    }
   ],
   "source": [
    "bitstring(x)"
   ]
  },
  {
   "cell_type": "markdown",
   "id": "6063d0fb-d7ae-453f-a343-61e170a3f9c9",
   "metadata": {},
   "source": [
    "### Floating point types\n",
    "Floating‐point types represent real numbers using a sign bit, an exponent field, and a significand (mantissa) according to [the IEEE 754 standard](https://en.wikipedia.org/wiki/IEEE_754). They allow the representation of fractional values and very large or small magnitudes. \n",
    "* Julia provides three standard IEEE-754 floating-point types:  `Float16`, `Float32`, and `Float64`. The `Float16` type corresponds to half‐precision (16-bit: 1 sign – 5 exponent – 10 significand); `Float32` represents single‐precision (32-bit: 1 – 8 – 23), and `Float64` represents double‐precision (64-bit: 1 – 11 – 52), respectively. These types trade off range and precision for storage and performance.\n",
    "* In Python, the built-in floating‐point type is `float`, which is implemented as a `64-bit` double-precision number (IEEE 754 double‐precision)."
   ]
  },
  {
   "cell_type": "markdown",
   "id": "29470d38-3bff-4ffe-8fb0-1f263e36b8a7",
   "metadata": {},
   "source": [
    "### Character Types"
   ]
  },
  {
   "cell_type": "markdown",
   "id": "74eef638-acf8-417b-a6f2-e6e4f42ad424",
   "metadata": {},
   "source": [
    "## Collection Types\n",
    "A collection type is a composite data structure aggregating multiple values, often of the same or related types, into a single container (e.g., arrays, tuples, sets, and dictionaries). "
   ]
  },
  {
   "cell_type": "markdown",
   "id": "e021c88c-6d7e-40fd-ab35-82ce3101aa6b",
   "metadata": {},
   "source": [
    "## Custom composite types\n",
    "A custom composite type is a _user‐defined data structure_ that aggregates multiple fields (possibly of different types) under a single name, enabling encapsulation of related data. In Julia or C, these are declared [using the struct keyword](https://docs.julialang.org/en/v1/manual/types/#Composite-Types) in combination with a list of named fields, while in Python an object is an instance of a class that defines its attributes and methods."
   ]
  },
  {
   "cell_type": "code",
   "execution_count": null,
   "id": "d6260205-5129-4169-ad9c-d9f4e8e07af4",
   "metadata": {},
   "outputs": [],
   "source": []
  }
 ],
 "metadata": {
  "kernelspec": {
   "display_name": "Julia 1.11.5",
   "language": "julia",
   "name": "julia-1.11"
  },
  "language_info": {
   "file_extension": ".jl",
   "mimetype": "application/julia",
   "name": "julia",
   "version": "1.11.5"
  }
 },
 "nbformat": 4,
 "nbformat_minor": 5
}
