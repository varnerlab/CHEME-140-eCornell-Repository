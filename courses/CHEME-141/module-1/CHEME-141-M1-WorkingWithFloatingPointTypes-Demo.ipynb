{
 "cells": [
  {
   "cell_type": "markdown",
   "id": "3674061c-9231-46cc-bddf-fb5bfddc5d2b",
   "metadata": {},
   "source": [
    "# Demo: Working with Floating Point Types"
   ]
  },
  {
   "cell_type": "code",
   "execution_count": null,
   "id": "1f7b3727-46d1-4b49-8c49-e120c0cbe080",
   "metadata": {},
   "outputs": [],
   "source": []
  }
 ],
 "metadata": {
  "kernelspec": {
   "display_name": "Julia 1.11.5",
   "language": "julia",
   "name": "julia-1.11"
  },
  "language_info": {
   "file_extension": ".jl",
   "mimetype": "application/julia",
   "name": "julia",
   "version": "1.11.5"
  }
 },
 "nbformat": 4,
 "nbformat_minor": 5
}
