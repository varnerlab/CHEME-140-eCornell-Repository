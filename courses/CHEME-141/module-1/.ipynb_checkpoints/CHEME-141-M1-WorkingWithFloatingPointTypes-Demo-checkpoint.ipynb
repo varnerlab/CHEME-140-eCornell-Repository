{
 "cells": [
  {
   "cell_type": "markdown",
   "id": "3674061c-9231-46cc-bddf-fb5bfddc5d2b",
   "metadata": {},
   "source": [
    "# Demo: A Deeper Dive into Floating Point Types\n",
    "We work with numerical data in many tasks in science, technology, engineering, and mathematics (STEM). Thus, let's explore common floating-point data types, how they are represented in memory, and the precision associated with each type.\n",
    "* __Key (surprising) fact__: All floating point numbers are approximations! A floating-point number uses a _fixed number of bits_, i.e., memory to store a value, so it can only represent a finite set of rational values rather than the continuum of real numbers. Thus, any real number must be rounded to the nearest floating-point value, making every floating-point value an approximation.\n",
    "\n",
    "The typical floating-point number types you will likely encounter in applications are `Float16`, `Float32`, and `Float64`. But what do these numbers mean? For example, what do the `16`, `32`, and `64` mean in `FloatXX`, what precision can these numbers describe, and how are they represented in memory?\n",
    "\n",
    "To answer these questions, we need to establish a few ground truths. First, on regular, i.e., non-quantum hardware, all floating-point numbers are stored as binary numbers, i.e., numbers written in base `2`. Let's start by looking at the representation of base `b` numbers."
   ]
  },
  {
   "cell_type": "markdown",
   "id": "2b55a4bb-8b15-4027-8b7b-617bc8d378b5",
   "metadata": {},
   "source": [
    "## Base b representation of numbers\n",
    "A number in base $b$ is represented by a finite sequence of digits $(d_{n}d_{n-1}\\dots{d_{1}}d_{0})_{b}$ where each digit $d_{i}$ satifies $0\\leq{d_{i}}<b$. The value (in base 10) of a base b number is the positional sum:\n",
    "$$\n",
    "\\begin{align*}\n",
    "\\underbrace{(d_{n}d_{n-1}\\dots{d_{1}}d_{0})_{b}}_{\\text{base b}} = \\underbrace{\\sum_{i=0}^{n}d_{i}b^{i}}_{\\text{value in base 10}}\n",
    "\\end{align*}\n",
    "$$\n",
    "Let's use integers for a few examples to better understand this expression (and then we'll move on to floating point numbers). \n",
    "\n",
    "Consider an `Int64` number. We know that memory storage on modern non-quantum hardware is binary, i.e., base $b = 2$; thus, all the digits $d_{i}$ must be $0\\leq{d}_{i}<2$. However, how many digits do we have, i.e., what is the value of $n$? This is the _word size_, i.e., the `64` in `Int64`.\n",
    "* __Hmmm__. Didn't we already see that? Yes, it's the length of the string output from [the `bitstring(...)` method](https://docs.julialang.org/en/v1/base/numbers/#Base.bitstring)! Let's count the number of zero digits and the number of one digits of a test 64-bit integer using the [`count_zeros(...)` method](https://docs.julialang.org/en/v1/base/numbers/#Base.count_zeros) and [`count_ones(...)` method](https://docs.julialang.org/en/v1/base/numbers/#Base.count_ones)"
   ]
  },
  {
   "cell_type": "code",
   "execution_count": 50,
   "id": "06a48643-7bc4-4bc5-a4f4-5bab011fbc24",
   "metadata": {},
   "outputs": [],
   "source": [
    "let\n",
    "    wordsize = 64; # default word size\n",
    "    x = 24; # Int64 value by default\n",
    "    n = count_zeros(x)+count_ones(x) # this counts 0's and 1's (doesn't give any info about position though)\n",
    "    @assert wordsize == n # see https://docs.julialang.org/en/v1/base/base/#Base.@assert\n",
    "end"
   ]
  }
 ],
 "metadata": {
  "kernelspec": {
   "display_name": "Julia 1.11.5",
   "language": "julia",
   "name": "julia-1.11"
  },
  "language_info": {
   "file_extension": ".jl",
   "mimetype": "application/julia",
   "name": "julia",
   "version": "1.11.5"
  }
 },
 "nbformat": 4,
 "nbformat_minor": 5
}
