{
 "cells": [
  {
   "cell_type": "markdown",
   "id": "3674061c-9231-46cc-bddf-fb5bfddc5d2b",
   "metadata": {},
   "source": [
    "# Demo: A Deeper Dive into Floating Point Types\n",
    "We work with numerical data in many tasks in science, technology, engineering, and mathematics (STEM). Thus, let's explore common floating-point data types, how they are represented in memory, and the precision associated with each type.\n",
    "* __Key (surprising) fact__: All floating point numbers are approximations! A floating-point number uses a _fixed number of bits_, i.e., memory to store a value, so it can only represent a finite set of rational values rather than the continuum of real numbers. Thus, any real number must be rounded to the nearest floating-point value, making every floating-point value an approximation.\n",
    "\n",
    "The typical floating-point number types you will likely encounter in applications are `Float16`, `Float32`, and `Float64`. But what do these numbers mean? For example, what do the `16`, `32`, and `64` mean in `FloatXX`, what precision can these numbers describe, and how are they represented in memory?\n",
    "\n",
    "To answer these questions, we need to establish a few ground truths. First, on regular, i.e., non-quantum hardware, all floating-point numbers are stored as binary numbers, i.e., numbers written in base `2`. Let's start by looking at the representation of base `b` numbers."
   ]
  },
  {
   "cell_type": "markdown",
   "id": "2b55a4bb-8b15-4027-8b7b-617bc8d378b5",
   "metadata": {},
   "source": [
    "## Base b representation of numbers\n",
    "A number in base $b$ is represented by a finite sequence of digits $(d_{n}d_{n-1}\\dots{d_{1}}d_{0})_{b}$ where each digit $d_{i}$ satifies $0\\leq{d_{i}}<b$. The value of a base b number is the positional sum:\n",
    "$$\n",
    "\\begin{align*}\n",
    "(d_{n}d_{n-1}\\dots{d_{1}}d_{0})_{b} = \\sum_{i=0}^{n}d_{i}b^{i}\n",
    "\\end{align*}\n",
    "$$\n",
    "Let's do a few examples with Integers to better understand this expression."
   ]
  },
  {
   "cell_type": "code",
   "execution_count": null,
   "id": "06a48643-7bc4-4bc5-a4f4-5bab011fbc24",
   "metadata": {},
   "outputs": [],
   "source": []
  }
 ],
 "metadata": {
  "kernelspec": {
   "display_name": "Julia 1.11.5",
   "language": "julia",
   "name": "julia-1.11"
  },
  "language_info": {
   "file_extension": ".jl",
   "mimetype": "application/julia",
   "name": "julia",
   "version": "1.11.5"
  }
 },
 "nbformat": 4,
 "nbformat_minor": 5
}
