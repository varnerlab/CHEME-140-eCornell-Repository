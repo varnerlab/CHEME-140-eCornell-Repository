{
 "cells": [
  {
   "cell_type": "markdown",
   "id": "3674061c-9231-46cc-bddf-fb5bfddc5d2b",
   "metadata": {},
   "source": [
    "# Demo: A Deeper Dive into Numbers and Floating Point Types\n",
    "We work with numerical data in many tasks in science, technology, engineering, and mathematics (STEM). Thus, let's explore common floating-point data types, how they are represented in memory, and the precision associated with each type.\n",
    "* __Key (surprising) fact__: All floating point numbers are approximations! A floating-point number uses a _fixed number of bits_, i.e., memory to store a value, so it can only represent a finite set of rational values rather than the continuum of real numbers. Thus, any real number must be rounded to the nearest floating-point value, making every floating-point value an approximation.\n",
    "\n",
    "The typical floating-point number types you will likely encounter in applications are `Float16`, `Float32`, and `Float64`. But what do these numbers mean? For example, what do the `16`, `32`, and `64` mean in `FloatXX`, what precision can these numbers describe, and how are they represented in memory?\n",
    "\n",
    "To answer these questions, we need to establish a few ground truths. First, on regular, i.e., non-quantum hardware, all floating-point numbers are stored as binary numbers, i.e., numbers written in base `2`. Let's start by looking at the representation of base `b` numbers."
   ]
  },
  {
   "cell_type": "markdown",
   "id": "2b55a4bb-8b15-4027-8b7b-617bc8d378b5",
   "metadata": {},
   "source": [
    "## Base b representation of numbers\n",
    "A number in base $b$ is represented by a finite sequence of digits $(d_{n}d_{n-1}\\dots{d_{1}}d_{0})_{b}$ where each digit $d_{i}$ satifies $0\\leq{d_{i}}<b$. The value (in base 10) of a base $b$ number is the positional sum:\n",
    "$$\n",
    "\\begin{align*}\n",
    "\\underbrace{(d_{n}d_{n-1}\\dots{d_{1}}d_{0})_{b}}_{\\text{base b}} = \\underbrace{\\sum_{i=0}^{n}d_{i}b^{i}}_{\\text{value in base 10}}\n",
    "\\end{align*}\n",
    "$$\n",
    "Let's use integers for a few examples to understand this expression better (and then we'll move on to floating point numbers). \n",
    "Consider an `Int64` number. We know that memory storage on modern non-quantum hardware is binary, i.e., base $b = 2$; thus, all the digits $d_{i}$ must be $0\\leq{d}_{i}<2$. \n",
    "\n",
    "However, how many digits do we have, i.e., the value of $n$? This is the _word size_, i.e., the `64` in `Int64`.\n",
    "* __Hmmm__. Didn't we already see that? Yes, it's the length of the string output from [the `bitstring(...)` method](https://docs.julialang.org/en/v1/base/numbers/#Base.bitstring)! Let's count the number of zero digits and the number of one digits of a test 64-bit integer using the [`count_zeros(...)` method](https://docs.julialang.org/en/v1/base/numbers/#Base.count_zeros) and [`count_ones(...)` method](https://docs.julialang.org/en/v1/base/numbers/#Base.count_ones)\n",
    "\n",
    "To check the equality condition, we use the [Julia @assert macro](https://docs.julialang.org/en/v1/base/base/#Base.@assert). If the statement passed to the [@assert macro](https://docs.julialang.org/en/v1/base/base/#Base.@assert) evaluates to `false,` i.e., in the case the number of zeros and ones does not equal the `wordsize`, then an [AssertionError](https://docs.julialang.org/en/v1/base/base/#Core.AssertionError) is thrown altering us that there is an issue. \n",
    "* __Note__: we use the equality `==` operator (not the assignment operator `=`). There is also the `===` comparison operator in Julia, which determines whether `x` and `y` are identical, in the sense that no program could distinguish them. We'll see this operator later."
   ]
  },
  {
   "cell_type": "code",
   "execution_count": 220,
   "id": "06a48643-7bc4-4bc5-a4f4-5bab011fbc24",
   "metadata": {},
   "outputs": [],
   "source": [
    "let\n",
    "    wordsize = 64; # default word size\n",
    "    x = 24; # pick an integer value (Int64 value by default)\n",
    "    n = count_zeros(x) + count_ones(x) # this counts 0's and 1's (doesn't give any info about position)\n",
    "    @assert wordsize == n # see https://docs.julialang.org/en/v1/base/base/#Base.@assert\n",
    "end"
   ]
  },
  {
   "cell_type": "markdown",
   "id": "344415d4-0382-400d-a703-bf5d3d8ac931",
   "metadata": {},
   "source": [
    "### Binary\n",
    "We can get the bit pattern (binary number) by calling [the `bitstring(...)` method](https://docs.julialang.org/en/v1/base/numbers/#Base.bitstring), but the wrinkle is that [`bitstring(...)`](https://docs.julialang.org/en/v1/base/numbers/#Base.bitstring) returns the bit pattern as [a `String` type](https://docs.julialang.org/en/v1/manual/strings/#man-strings). We'll have to convert [the `String`](https://docs.julialang.org/en/v1/manual/strings/#man-strings) to an array of `0` and `1`, but more on that later.\n",
    "\n",
    "The positions of the `0` and `1` values in the binary number give us the number's value. Suppose we get the bit pattern, i.e., the positions of the digits, using [the `bitstring(...)` method](https://docs.julialang.org/en/v1/base/numbers/#Base.bitstring) and save this value in the `s::String` variable (we save the numerical value in `x::Int64`)."
   ]
  },
  {
   "cell_type": "code",
   "execution_count": 212,
   "id": "9ddbefd4-d94c-459c-88b6-15ced4a7f639",
   "metadata": {},
   "outputs": [
    {
     "data": {
      "text/plain": [
       "(\"0000000000000000000000000000000000000000000000000000011010001110\", 1678)"
      ]
     },
     "execution_count": 212,
     "metadata": {},
     "output_type": "execute_result"
    }
   ],
   "source": [
    "s,x = let\n",
    "    x = 1678; # Int64 value by default\n",
    "    s = bitstring(x)\n",
    "    s,x\n",
    "end"
   ]
  },
  {
   "cell_type": "markdown",
   "id": "a41546b8-0507-425d-9aa6-97476e8b21d2",
   "metadata": {},
   "source": [
    "For the binary string $s$, from the _right to the left_, we sum powers of 2 (the $b^{i}$ terms in the sum) for positions whose digit is a `1`. Let's make this more concrete. \n",
    "* __Hypothesis__: We should be able to _process_ the string $s$, i.e., compute the positional sum of $s$, and get back the value of the integer that generated it. To do this, we'll need to use a few tricks that we haven't discussed yet. Don't worry about how we do it; let's see if our hypothesis is true or false.\n",
    "\n",
    "To check our hypothesis, we need to do a few things. The first is to convert the bit pattern in`s::String` into an array of numbers (so we can compute the positional sum). The following logic contains a few advanced things, e.g., working with arrays and [`String` and `Char` types](https://docs.julialang.org/en/v1/manual/strings/#man-strings), function [piping `|>`](https://docs.julialang.org/en/v1/manual/functions/#Function-composition-and-piping), etc; don't worry too much about these now:\n",
    "* We can convert a String into an array, i.e., an ordered list of [`Char` types](https://docs.julialang.org/en/v1/manual/strings/#man-characters) using the [`collect(...)` method](https://docs.julialang.org/en/v1/base/collections/#Base.collect-Tuple{Type,%20Any}). If we have the [`Char`](https://docs.julialang.org/en/v1/manual/strings/#man-characters) version of `1` or `0`, we can then try to convert it into an `Int` using the [`parse(...)` method](https://docs.julialang.org/en/v1/base/numbers/#Base.parse) in Julia.\n",
    "* _Aside_: In older languages such as C, strings were natively represented as arrays of characters; in fact, there was no formal string class in C. However, newer languages that include [Unicode character sets](https://en.wikipedia.org/wiki/Unicode) have dedicated [`String` types](https://docs.julialang.org/en/v1/manual/strings/#man-strings) that are more complex. \n",
    "* We daisy chain together commands, i.e., `cmd_1 |> cmd_2` where the output of `cmd_1` is the input into `cmd_2` using the [Julia `|>` piping operator](https://docs.julialang.org/en/v1/manual/functions/#Function-composition-and-piping)"
   ]
  },
  {
   "cell_type": "code",
   "execution_count": 214,
   "id": "1c1674bb-63b7-448f-bcd5-0bff33891e5b",
   "metadata": {},
   "outputs": [
    {
     "data": {
      "text/plain": [
       "64-element Vector{Int64}:\n",
       " 0\n",
       " 1\n",
       " 1\n",
       " 1\n",
       " 0\n",
       " 0\n",
       " 0\n",
       " 1\n",
       " 0\n",
       " 1\n",
       " 1\n",
       " 0\n",
       " 0\n",
       " ⋮\n",
       " 0\n",
       " 0\n",
       " 0\n",
       " 0\n",
       " 0\n",
       " 0\n",
       " 0\n",
       " 0\n",
       " 0\n",
       " 0\n",
       " 0\n",
       " 0"
      ]
     },
     "execution_count": 214,
     "metadata": {},
     "output_type": "execute_result"
    }
   ],
   "source": [
    "bit_pattern_array = bitstring(x) |> collect |> reverse .|> x-> parse(Int,x)"
   ]
  },
  {
   "cell_type": "markdown",
   "id": "03a62a12-939f-49cd-a173-942545be8de6",
   "metadata": {},
   "source": [
    "__Hmmm__. Ok, we can convert the string to an `Array{Int64,1}`, which is good. However, arrays in Julia are `1` based, meaning the first index in the array occurs at index `1`. But all our expressions above are zero-based (first value stored at index `0`). Can we make a zero-based array in Julia?\n",
    "* __Hack__: Sure! We can fix the `1`-based array issue by copying the `bit_pattern_array` into a dictionary (which we can make `0`-based), called `bit_patten_dictionary::Dict{Int64,Int64}`. This will allow us to start counting from 0 instead of 1.\n",
    "* __Proper solution__: In addition to the _hack_ (which I use _all the time_), the (potentially) proper solution is to use [an instance of an `OffsetArray` exported by the `OffsetArrays.jl` package](https://github.com/JuliaArrays/OffsetArrays.jl) to fix the `1`-based array issue."
   ]
  },
  {
   "cell_type": "code",
   "execution_count": 233,
   "id": "90a9ca01-ddd6-4d0b-8e40-8119ee942c47",
   "metadata": {},
   "outputs": [
    {
     "data": {
      "text/plain": [
       "Dict{Int64, Int64} with 64 entries:\n",
       "  5  => 0\n",
       "  56 => 0\n",
       "  35 => 0\n",
       "  55 => 0\n",
       "  60 => 0\n",
       "  30 => 0\n",
       "  32 => 0\n",
       "  6  => 0\n",
       "  45 => 0\n",
       "  4  => 0\n",
       "  13 => 0\n",
       "  54 => 0\n",
       "  63 => 0\n",
       "  62 => 0\n",
       "  58 => 0\n",
       "  52 => 0\n",
       "  12 => 0\n",
       "  28 => 0\n",
       "  23 => 0\n",
       "  41 => 0\n",
       "  43 => 0\n",
       "  11 => 0\n",
       "  36 => 0\n",
       "  39 => 0\n",
       "  7  => 1\n",
       "  ⋮  => ⋮"
      ]
     },
     "execution_count": 233,
     "metadata": {},
     "output_type": "execute_result"
    }
   ],
   "source": [
    "bit_patten_dictionary = let\n",
    "    bit_patten_dictionary = Dict{Int64,Int64}(); # Declare memory\n",
    "    for i ∈ eachindex(bit_pattern_array)\n",
    "        bit_patten_dictionary[i-1] = bit_pattern_array[i] # what are we doing here?\n",
    "    end\n",
    "    bit_patten_dictionary; # what is going on here?\n",
    "end"
   ]
  },
  {
   "cell_type": "markdown",
   "id": "361b7b3f-1a4c-4c24-b0ea-adcc0461411c",
   "metadata": {},
   "source": [
    "Finally, let's compute the positional sum and see what our number is."
   ]
  },
  {
   "cell_type": "code",
   "execution_count": 236,
   "id": "24bd9e3e-4c6d-4f02-b116-dd16fff714dd",
   "metadata": {},
   "outputs": [
    {
     "name": "stdout",
     "output_type": "stream",
     "text": [
      "Was original your number 1678?\n"
     ]
    }
   ],
   "source": [
    "let\n",
    "\n",
    "    b = 2; # What base do we have?\n",
    "    count = 0; # if this works, when we are finished, this should be our original number\n",
    "    positions = keys(bit_patten_dictionary) |> collect |> sort; # what is going on here?\n",
    "    for i ∈ positions\n",
    "        dᵢ = bit_patten_dictionary[i];\n",
    "        count+= (dᵢ)*(b^i)\n",
    "    end\n",
    "    println(\"Was original your number $(count)?\")\n",
    "end"
   ]
  },
  {
   "cell_type": "markdown",
   "id": "4dca20d2-dc88-4d0c-8dff-36745bb1c19b",
   "metadata": {},
   "source": [
    "### Beyond binary numbers\n",
    "There are many everyday applications for base $b>2$ numbers! Larger bases like decimal (base 10), dozenal (base 12), and sexagesimal (base 60) exist in everyday measurements and commerce. There are also a few others that you may encounter every day, but not realize it:\n",
    "* Hexadecimal (base 16) compactly encodes binary data for color codes; for example, Cornell red is `#B31B1B`, while base 32/64 are used to encode arbitrary binary data (e-mail attachments, URLs, certificates) into printable characters.\n",
    "\n",
    "Though higher bases require a more complex digit set, they dramatically shorten the representation of large values."
   ]
  },
  {
   "cell_type": "markdown",
   "id": "37121074-4f7e-4c3b-bbe1-5fbdc4a490f3",
   "metadata": {},
   "source": [
    "#### Digits Example\n",
    "Let's consider an octal (base 8) example. Instead of calling [the `bitstring(...)` method](https://docs.julialang.org/en/v1/base/numbers/#Base.bitstring) (which always returns a base $b=2$ value), let's explore [the `digits(...)` method](https://docs.julialang.org/en/v1/base/numbers/#Base.digits). The [`digits(...)` method](https://docs.julialang.org/en/v1/base/numbers/#Base.digits) takes a `number,` a `base,` and a `pad` argument and returns the bit pattern for `number` written with respect to `base` assuming a word size equal to `pad.`\n",
    "* __Octal__: Let's use [the `digits(...)` method](https://docs.julialang.org/en/v1/base/numbers/#Base.digits) to get the bit pattern for $n = 74$ written in `base = 8` for a `16-bit` machine. Save this data in the `bit_pattern_array::Vector{Int64}` variable."
   ]
  },
  {
   "cell_type": "code",
   "execution_count": 338,
   "id": "2074e193-c0af-46d1-b7c7-a7c7458c44e7",
   "metadata": {},
   "outputs": [
    {
     "data": {
      "text/plain": [
       "16-element Vector{Int64}:\n",
       " 2\n",
       " 1\n",
       " 1\n",
       " 0\n",
       " 0\n",
       " 0\n",
       " 0\n",
       " 0\n",
       " 0\n",
       " 0\n",
       " 0\n",
       " 0\n",
       " 0\n",
       " 0\n",
       " 0\n",
       " 0"
      ]
     },
     "execution_count": 338,
     "metadata": {},
     "output_type": "execute_result"
    }
   ],
   "source": [
    "bit_pattern_array_octal = digits(74, base=8, pad=16) # produces the bit pattern for a base 8 number"
   ]
  },
  {
   "cell_type": "markdown",
   "id": "4acaed83-c36d-4b8f-b5d7-510f95b2fb10",
   "metadata": {},
   "source": [
    "__Check__: Let's convert the octal number stored in the `bit_pattern_array_octal::Array{Int64,1}` variable back into base 10 by computing the positional sum in base 8."
   ]
  },
  {
   "cell_type": "code",
   "execution_count": 341,
   "id": "e9f0794a-1d3d-4f87-ad18-9cc198be6c98",
   "metadata": {},
   "outputs": [
    {
     "data": {
      "text/plain": [
       "74.0"
      ]
     },
     "execution_count": 341,
     "metadata": {},
     "output_type": "execute_result"
    }
   ],
   "source": [
    "let\n",
    "    # initialize -\n",
    "    bit_pattern_dictionary = Dict{Int64,Int64}();\n",
    "    b = 8.0; # base 8 number of the example (\n",
    "    wordsize = 16;\n",
    "    foreach(i -> bit_pattern_dictionary[i-1] = bit_pattern_array_octal[i], eachindex(bit_pattern_array_octal)); # compact syntax for building bit dict\n",
    "\n",
    "    # loop -\n",
    "    value = 0.0;\n",
    "    bitrangearray = range(0,stop=(wordsize-1),step=1) |> collect;\n",
    "    for i ∈ bitrangearray\n",
    "         dᵢ = bit_pattern_dictionary[i];\n",
    "         value += (dᵢ)*(b^i)\n",
    "    end\n",
    "\n",
    "    value\n",
    "end"
   ]
  },
  {
   "cell_type": "markdown",
   "id": "d4fb3d79-54b6-4498-95e2-5225f4f2c899",
   "metadata": {},
   "source": [
    "## Floating point numbers\n",
    "Now that we have seen how integers are laid out in memory, let's try to understand the memory layout expressions of floating types `Float16`, `Float32`, and `Float64`. However, before we do that, what is the use case for three floating-point types?\n",
    "\n",
    "Using three floating-point types lets us balance precision and resource usage for different applications: \n",
    "* `Float16` (half-precision) minimizes memory footprint at the expense of precision. This type is ideal for large-scale machine learning inference or graphics where fine precision isn’t critical, and we have many values to store in memory.\n",
    "* `Float32` (single-precision) offers a good compromise of speed and accuracy for most numerical and real-time workloads.\n",
    "* `Float64` (double-precision) provides the high precision and wide exponent range needed in scientific computing, simulations, and financial modeling, where rounding errors must be tightly controlled.\n",
    "\n",
    "Hypothetically, suppose we need more precision than `Float64`, are there bigger values? Yes, specialized types in Julia (and Python) let you go above `Float64`. For example, [the `Quadmath.jl` package](https://github.com/JuliaMath/Quadmath.jl) in Julia implements a `Float128` type if you need precision beyond `Float64`.\n",
    "\n",
    "While the memory layouts of each of the different precisions are different, they all follow a very similar theme. Thus, let's dig into `Float64` in detail (as this is likely the default for most of our calculations in the course) and leave the other representations as an exercise."
   ]
  },
  {
   "cell_type": "markdown",
   "id": "f6141964-eccb-482c-b651-2814b1debcbc",
   "metadata": {},
   "source": [
    "### Float64 memory layout\n",
    "A 64-bit floating point number $x\\in\\mathbb{R}$ is represented in memory as:\n",
    "$$\n",
    "\\begin{align*}\n",
    "x = -1^{s}\\times\\,1.\\underbrace{d_{51}d_{50}\\dots{d_{0}}}_{52\\,\\text{fraction bits}}\\times{2^{E-1023}}\n",
    "\\end{align*}\n",
    "$$\n",
    "where $s\\in\\{0,1\\}$ denotes the sign-bit (bit at position `63`), the value $1.d_{51}d_{50}\\dots{d_{0}}$ denotes the significand given by:\n",
    "$$\n",
    "\\begin{align*}\n",
    "\\text{significand} = 1 + \\sum_{i = 1}^{52}d_{52-i}2^{-1}\n",
    "\\end{align*}\n",
    "$$\n",
    "and $E$ is the unsigned 11-bit stored exponent (value of bits $52\\rightarrow{62}$) given by: \n",
    "$$\n",
    "\\begin{align*}\n",
    "E = \\sum_{i=52}^{62}d_{i}2^{i-52}\n",
    "\\end{align*}\n",
    "$$\n",
    "\n",
    "Let's compute the components of this floating-point number and see if we get the original number back. Use [the `bitstring(...)` method](https://docs.julialang.org/en/v1/base/numbers/#Base.bitstring) to generate the bits in the number."
   ]
  },
  {
   "cell_type": "code",
   "execution_count": 373,
   "id": "d6e23ac2-b44d-4d07-81f4-47a4da751c37",
   "metadata": {},
   "outputs": [
    {
     "data": {
      "text/plain": [
       "(Dict(5 => 0, 56 => 0, 35 => 1, 55 => 0, 60 => 0, 30 => 1, 32 => 1, 6 => 1, 45 => 1, 4 => 0…), 3.1415926535897)"
      ]
     },
     "execution_count": 373,
     "metadata": {},
     "output_type": "execute_result"
    }
   ],
   "source": [
    "d, x = let\n",
    "\n",
    "    # initialize -\n",
    "    bitpattern_dictionary = Dict{Int64,Int64}();\n",
    "    wordsize = 64; # how big is the word size?\n",
    "    x = 3.1415926535897; # example 64-bit floating point number, let's use π\n",
    "    a = bitstring(x) |> reverse |> collect .|> v-> parse(Int64,v) # fancy. Nothing to see here, move along (for now anyway).\n",
    "    \n",
    "    # put stuff in the dictionary\n",
    "    for i ∈ 0:(wordsize-1)\n",
    "        bitpattern_dictionary[i] = a[i+1];\n",
    "    end\n",
    "    bitpattern_dictionary,x\n",
    "end"
   ]
  },
  {
   "cell_type": "markdown",
   "id": "7d8ccbe1-10e6-4408-8dfe-dbcd9651fff7",
   "metadata": {},
   "source": [
    "__Sign term__: This is a positive number, so we expect $(-1)^{s} = 1$, i.e., $d_{63} = s = 1$:"
   ]
  },
  {
   "cell_type": "code",
   "execution_count": 375,
   "id": "ef632009-95dc-4ca6-8461-bfe6644e0ff2",
   "metadata": {},
   "outputs": [
    {
     "data": {
      "text/plain": [
       "1"
      ]
     },
     "execution_count": 375,
     "metadata": {},
     "output_type": "execute_result"
    }
   ],
   "source": [
    "S = let\n",
    "    s = d[63];\n",
    "    S = (-1)^s\n",
    "end"
   ]
  },
  {
   "cell_type": "markdown",
   "id": "f369ab3a-2692-4cdc-b8d0-79e7e16d3a0a",
   "metadata": {},
   "source": [
    "__Significand__: We'll compute the significand using the expression above. However, we'll check our computed value using [the `significand(...)` method](https://docs.julialang.org/en/v1/base/numbers/#Base.Math.significand) to make sure we are correct. We'll store our calculated value in the `calculated_significand_value::Float64` variable:"
   ]
  },
  {
   "cell_type": "code",
   "execution_count": 390,
   "id": "b5a7ec27-6fc7-485d-bf4e-e0673476c114",
   "metadata": {},
   "outputs": [
    {
     "data": {
      "text/plain": [
       "1.57079632679485"
      ]
     },
     "execution_count": 390,
     "metadata": {},
     "output_type": "execute_result"
    }
   ],
   "source": [
    "calculated_significand_value = let\n",
    "\n",
    "    calculated_significand_value = 0.0;\n",
    "    b = 2.0; # binary, base = 2\n",
    "    significand_range_array = range(1,stop=52,step=1) |> collect;\n",
    "\n",
    "    for i ∈ significand_range_array\n",
    "        calculated_significand_value += (b^(-i))*d[52-i]\n",
    "    end\n",
    "    calculated_significand_value + 1\n",
    "end"
   ]
  },
  {
   "cell_type": "markdown",
   "id": "72e518c1-ecec-4eaa-ab86-6031558d1baf",
   "metadata": {},
   "source": [
    "_Check_: Let's use [the `@assert` macro](https://docs.julialang.org/en/v1/base/base/#Base.@assert) to check our calculated significand value. If the `==` comparision comes back `false`, [an `AssertionError` is thrown](https://docs.julialang.org/en/v1/base/base/#Core.AssertionError):"
   ]
  },
  {
   "cell_type": "code",
   "execution_count": 401,
   "id": "c547ccbf-f820-41b0-b1e8-a65b2b335ab0",
   "metadata": {},
   "outputs": [],
   "source": [
    "@assert significand(x) == calculated_significand_value # compare built-in versus our calculated value"
   ]
  },
  {
   "cell_type": "markdown",
   "id": "08e7a80e-1337-41c1-acac-782765a8b7ef",
   "metadata": {},
   "source": [
    "__Exponent__: Finally, let's compute the exponent value $E$."
   ]
  },
  {
   "cell_type": "code",
   "execution_count": 430,
   "id": "f0370649-5b96-4e0c-845f-99cdc9f10bc9",
   "metadata": {},
   "outputs": [
    {
     "data": {
      "text/plain": [
       "1024.0"
      ]
     },
     "execution_count": 430,
     "metadata": {},
     "output_type": "execute_result"
    }
   ],
   "source": [
    "E = let\n",
    "\n",
    "    calculated_exponent_value = 0.0;\n",
    "    b = 2.0; # binary, base = 2\n",
    "    exponent_bit_range_array = range(52,stop=62, step = 1) |> collect\n",
    "\n",
    "    for i ∈ exponent_bit_range_array\n",
    "        dᵢ = d[i]; \n",
    "        calculated_exponent_value += dᵢ*(b^(i-52))\n",
    "    end\n",
    "    calculated_exponent_value\n",
    "end"
   ]
  },
  {
   "cell_type": "markdown",
   "id": "79b9c17d-ed70-4dbc-a1d0-0ebb98445d3f",
   "metadata": {},
   "source": [
    "Put it all together:"
   ]
  },
  {
   "cell_type": "code",
   "execution_count": 423,
   "id": "f9d75eaa-2dc2-48fc-b057-f1aac8a5fb02",
   "metadata": {},
   "outputs": [
    {
     "data": {
      "text/plain": [
       "3.1415926535897"
      ]
     },
     "execution_count": 423,
     "metadata": {},
     "output_type": "execute_result"
    }
   ],
   "source": [
    "let\n",
    "    x = S*calculated_significand_value*2^(E - 1023)\n",
    "end"
   ]
  }
 ],
 "metadata": {
  "kernelspec": {
   "display_name": "Julia 1.11.5",
   "language": "julia",
   "name": "julia-1.11"
  },
  "language_info": {
   "file_extension": ".jl",
   "mimetype": "application/julia",
   "name": "julia",
   "version": "1.11.5"
  }
 },
 "nbformat": 4,
 "nbformat_minor": 5
}
