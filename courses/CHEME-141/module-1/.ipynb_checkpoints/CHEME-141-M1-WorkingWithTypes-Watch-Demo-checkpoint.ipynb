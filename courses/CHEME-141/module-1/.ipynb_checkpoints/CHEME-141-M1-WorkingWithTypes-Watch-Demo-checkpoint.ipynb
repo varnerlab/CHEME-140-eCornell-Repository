{
 "cells": [
  {
   "cell_type": "markdown",
   "id": "574292be-682f-4483-801b-419aa17bd712",
   "metadata": {},
   "source": [
    "# Demo: Data Types\n",
    "In a computer program, all data that we use, manipulate, generate, etc, has a type, which is a member of a type system. A type system provides a formal way to classify and constrain the shapes of data and operations in a program, enabling the detection of mismatches (e.g., passing a string where a number is expected) before or during execution. \n",
    "\n",
    "* _Modern languages_: Modern languages such as [Ruby](https://www.ruby-lang.org/en/) and [Python](https://www.python.org/) utilize dynamic type systems, where type checks occur during execution. This allows for greater flexibility at the expense of deferred error detection.\n",
    "* _Classical languages_: In contrast, [classical languages such as the C programming language](https://gcc.gnu.org/) feature a static, compile-time type system: types must be explicitly declared, checks are enforced prior to execution, and the compiler uses type information to generate optimized code and prevent many categories of runtime errors.\n",
    "* _Is Julia Like C or Python_? It's like both! Julia is dynamically typed like [Python](https://www.python.org/) in \n",
    "that type checks happen at run‐time. However, [the Julia compiler](https://docs.julialang.org/en/v1/devdocs/compiler/) performs type inference on concrete values and generates specialized, statically‐typed machine code for performance, i.e., sort of like [the C programming language](https://gcc.gnu.org/). Thus, although Julia code is compiled, its language semantics remain dynamically typed."
   ]
  },
  {
   "cell_type": "markdown",
   "id": "8be71ecd-352e-40f5-ae7a-f043fc4581d8",
   "metadata": {},
   "source": [
    "## Primitive Data Types\n",
    "A primitive data type is a basic, built‐in data type provided by a programming language whose values are represented atomically; that is, primitive types are not composed of other types.\n",
    "\n",
    "In Julia, primitive types like `Int64`, `Float64`, `Bool`, and `Char` are fixed‐size, _unboxed machine types_ used directly by the compiler. In contrast, built‐in types such as int, float, and bool in Python are heap‐allocated [PyObject instances](https://docs.python.org/3/c-api/structures.html#c.PyObject).\n",
    "\n",
    "Let's unpack this.\n",
    "* _Unboxed machine types_? An unboxed type is one whose values are stored directly in memory (e.g., [in registers](https://en.wikipedia.org/wiki/Processor_register) or on the stack) without an extra level of indirection or heap allocation.\n",
    "* _Stack and heap_? The stack is a region of memory used for storing function call frames, local variables, and control flow information in a last‐in, first‐out manner, with automatic allocation and deallocation as functions are entered and exited. The heap is a separate memory region for dynamically allocated objects whose lifetimes are managed manually or by a garbage collector, allowing arbitrary allocation and deallocation but incurring overhead for bookkeeping.\n",
    "* _Stack faster than heap_? Accessing stack memory is generally faster because it involves simple pointer arithmetic and a contiguous, cache‐friendly layout without extra metadata lookup. Heap access requires managing allocation metadata and may involve pointer dereferencing and less predictable locality, which can introduce overhead.\n",
    "\n",
    "Ultimately, all primitive data types can be represented as an ordered collection, i.e., an array of binary $\\{0,1\\}$ values."
   ]
  },
  {
   "cell_type": "markdown",
   "id": "a2e03a65-331e-4a21-8792-379a4352edc9",
   "metadata": {},
   "source": [
    "### Integer and Boolean Types\n",
    "An integer type represents whole numbers $x\\in\\mathbb{Z}$ (positive, negative and zero). Integers are implemented using a _fixed‐width_ binary form (e.g., 32‐ or 64‐bit). A boolean (Bool) type represents truth values (`true` and `false`); Bool values are stored as a single bit or 1$\\times$byte, i.e., an 8-bit integer value.\n",
    "\n",
    "__Integers__: Let's look at some integers."
   ]
  },
  {
   "cell_type": "code",
   "execution_count": 4,
   "id": "ad2edff5-a731-4c70-a9f6-64619bfa34a2",
   "metadata": {},
   "outputs": [],
   "source": [
    "x = 2; # select a whole number ... -2, -1, 0, 1, 2, ..."
   ]
  },
  {
   "cell_type": "markdown",
   "id": "612fa6b4-698e-48fe-a0d3-b442a820d0a5",
   "metadata": {},
   "source": [
    "_What type is `x` in Julia?_ We can find the type of something using [the `typeof(...)` method](https://docs.julialang.org/en/v1/base/base/#Core.typeof):"
   ]
  },
  {
   "cell_type": "code",
   "execution_count": 6,
   "id": "9708900f-a018-4f89-a552-8b9aaeaac5b4",
   "metadata": {},
   "outputs": [
    {
     "data": {
      "text/plain": [
       "Int64"
      ]
     },
     "execution_count": 6,
     "metadata": {},
     "output_type": "execute_result"
    }
   ],
   "source": [
    "typeof(x) # this returns the type of the argument"
   ]
  },
  {
   "cell_type": "markdown",
   "id": "118d6bd5-e275-46e4-84be-12a84a60352e",
   "metadata": {},
   "source": [
    "What is the bitstring of $x$? The bitstring gives the literal bit representation of a primitive type. We can get the bitstring of $x$ using [the `bistring(...)` method in Julia](https://docs.julialang.org/en/v1/base/numbers/#Base.bitstring). This method shows us the bit pattern of the integer argument:"
   ]
  },
  {
   "cell_type": "code",
   "execution_count": 8,
   "id": "b6799308-a09d-4782-9ab5-c6ddf4220aff",
   "metadata": {},
   "outputs": [
    {
     "data": {
      "text/plain": [
       "\"0000000000000000000000000000000000000000000000000000000000000010\""
      ]
     },
     "execution_count": 8,
     "metadata": {},
     "output_type": "execute_result"
    }
   ],
   "source": [
    "bitstring(x) # gives the values of the values stored in the memory \"boxes\""
   ]
  },
  {
   "cell_type": "markdown",
   "id": "b5627f3b-aed9-4a76-9939-e572827f4b68",
   "metadata": {},
   "source": [
    "__Boolean__: Now let's look at some Boolean types $\\mathbb{B} = \\left\\{\\text{true},\\text{false}\\right\\}$. A variable $x\\in\\mathbb{B}$ can take on either `true` or `false` values. However, we typically model these values as a special type of 8$\\times$bit (1$\\times$byte) integer value."
   ]
  },
  {
   "cell_type": "code",
   "execution_count": 10,
   "id": "2ad294da-0513-4a7f-a060-fc4cbd385cb0",
   "metadata": {},
   "outputs": [],
   "source": [
    "flag = true; # the flag variable can take on values of {true | false}"
   ]
  },
  {
   "cell_type": "markdown",
   "id": "7d1905c5-5ec4-4fc5-91c1-8803c011b76b",
   "metadata": {},
   "source": [
    "_What type is `flag` in Julia?_ We can find the type of something using [the `typeof(...)` method](https://docs.julialang.org/en/v1/base/base/#Core.typeof):"
   ]
  },
  {
   "cell_type": "code",
   "execution_count": 12,
   "id": "d753ccde-501e-4f22-8787-05a830a1c174",
   "metadata": {},
   "outputs": [
    {
     "data": {
      "text/plain": [
       "Bool"
      ]
     },
     "execution_count": 12,
     "metadata": {},
     "output_type": "execute_result"
    }
   ],
   "source": [
    "typeof(flag)"
   ]
  },
  {
   "cell_type": "markdown",
   "id": "09b1b864-b69a-47a9-a788-9c1f97b877a8",
   "metadata": {},
   "source": [
    "_What is the bitstring of the `flag` variable?_ Let's use [the `bistring(...)` method in Julia](https://docs.julialang.org/en/v1/base/numbers/#Base.bitstring) to see what our Boolean `flag` variable looks like:"
   ]
  },
  {
   "cell_type": "code",
   "execution_count": 14,
   "id": "711fd53f-71fc-459b-8c99-72cb0a9e434a",
   "metadata": {},
   "outputs": [
    {
     "data": {
      "text/plain": [
       "\"00000001\""
      ]
     },
     "execution_count": 14,
     "metadata": {},
     "output_type": "execute_result"
    }
   ],
   "source": [
    "bitstring(flag) # this should be 8xbits wide"
   ]
  },
  {
   "cell_type": "markdown",
   "id": "6063d0fb-d7ae-453f-a343-61e170a3f9c9",
   "metadata": {},
   "source": [
    "### Floating point types\n",
    "Floating‐point types represent real numbers using a sign bit, an exponent field, and a significand according to [the IEEE 754 standard](https://en.wikipedia.org/wiki/IEEE_754). They allow the representation of fractional values and very large or small magnitudes. \n",
    "* Julia provides three standard IEEE-754 floating-point types:  `Float16`, `Float32`, and `Float64`. The `Float16` type corresponds to half‐precision (16-bit: 1 sign – 5 exponent – 10 significand); `Float32` represents single‐precision (32-bit: 1 – 8 – 23), and `Float64` represents double‐precision (64-bit: 1 – 11 – 52), respectively. These types trade off range and precision for storage and performance.\n",
    "* In Python, the built-in floating‐point type is `float`, which is implemented as a 64-bit double-precision number (IEEE 754 double‐precision).\n",
    "\n",
    "#### Memory layout of floating-point numbers\n",
    "A 64-bit float $x\\in\\mathbb{R}$ is represented in memory as:\n",
    "$$\n",
    "\\begin{align*}\n",
    "x = -1^{s}\\times\\,1.\\underbrace{b_{51}b_{50}\\dots{b_{0}}}_{52\\,\\text{fraction bits}}\\times{2^{E-1023}}\n",
    "\\end{align*}\n",
    "$$\n",
    "where $s\\in\\{0,1\\}$ denotes the sign-bit (bit `63`), $1.b_{51}b_{50}\\dots{b_{0}}$ form the significand and  $E$ is the unsigned 11$\\times$bit stored exponent (value of bits $52\\rightarrow{62}$) given by: $E = \\sum_{i=0}^{10}b_{52+i}2^{10-i}$.\n",
    "\n",
    "\n",
    "On the other hand, a 32-bit number $x\\in\\mathbb{R}$ is encoded as:\n",
    "$$\n",
    "\\begin{align*}\n",
    "x = -1^{s}\\times\\,1.\\underbrace{b_{22}b_{21}\\dots{b_{0}}}_{23\\,\\text{fraction bits}}\\times{2^{E-127}}\n",
    "\\end{align*}\n",
    "$$\n",
    "where $s\\in\\{0,1\\}$ denotes the sign-bit (bit `31`) and the exponent is given by $E = \\sum_{i=0}^{8}b_{22+i}2^{8-i}$.\n",
    "Notice the difference between the 64- and 32-bit numbers: the number of elements used to compute the fraction and the exponent term are different, and the location of the sign bit has changed, but otherwise they have the same structural layout in memory.\n",
    "\n",
    "Let's look at a couple of examples of floating-point numbers, starting with a 64-bit number:"
   ]
  },
  {
   "cell_type": "code",
   "execution_count": 16,
   "id": "1a90a72c-b6ff-45f3-86cf-037ea9f74c22",
   "metadata": {},
   "outputs": [
    {
     "data": {
      "text/plain": [
       "\"0100000001001011000100001010001111010111000010100011110101110001\""
      ]
     },
     "execution_count": 16,
     "metadata": {},
     "output_type": "execute_result"
    }
   ],
   "source": [
    "let\n",
    "    x = 54.13; # default: in Julia, the default floating point number of 64-bit.\n",
    "    bitstring(x)\n",
    "end"
   ]
  },
  {
   "cell_type": "markdown",
   "id": "1f19ead1-ff53-497a-8c24-7d8e1c943b1d",
   "metadata": {},
   "source": [
    "The same numerical value for $x\\in\\mathbb{R}$ (just stored in 32-bits) has a different memory layout:"
   ]
  },
  {
   "cell_type": "code",
   "execution_count": 18,
   "id": "c08136d0-18ba-4220-9ff0-0b1819b59579",
   "metadata": {},
   "outputs": [
    {
     "data": {
      "text/plain": [
       "\"01000010010110001000010100011111\""
      ]
     },
     "execution_count": 18,
     "metadata": {},
     "output_type": "execute_result"
    }
   ],
   "source": [
    "let\n",
    "    x = 54.13 |> Float32 # we \"cast\" x to be in stored as a Float32, not 64xbits!\n",
    "    bitstring(x) # gives us a string with the bit pattern\n",
    "end"
   ]
  },
  {
   "cell_type": "markdown",
   "id": "29470d38-3bff-4ffe-8fb0-1f263e36b8a7",
   "metadata": {},
   "source": [
    "### Character Types\n",
    "Text on the computer is composed of characters, and characters are just special integers! \n",
    "* _What is a character_? A character data type represents a single textual symbol, such as a letter, digit, punctuation mark, or control code. It is usually stored as an integer(!) corresponding to a specific encoding, e.g., traditionally [ASCII](https://en.wikipedia.org/wiki/ASCII) or [Unicode](https://en.wikipedia.org/wiki/Unicode) on modern systems. \n",
    "* _What is a character encoding_? A character encoding defines a mapping between textual symbols (letters, digits, punctuation, etc.) and numeric code points (unique integers) so that text can be stored and transmitted as bytes. Examples include [older systems such as ASCII](https://en.wikipedia.org/wiki/ASCII), which uses one byte (8 bits) per character, and [Unicode encodings like UTF-8 or UTF-16](https://en.wikipedia.org/wiki/Unicode), which represent a much wider range of characters.\n",
    "* _What about Julia_? In most languages, a character type occupies a fixed number of bytes and can be manipulated individually or as part of Strings (ordered collections of characters). This is also true in Julia. In Julia, [a Char type](https://docs.julialang.org/en/v1/base/strings/#Core.Char) is a 4-byte (32-bit) value that directly encodes a Unicode code point.\n",
    "\n",
    "Let's explore [the `Char` type in Julia](https://docs.julialang.org/en/v1/base/strings/#Core.Char) (notice the single quotes):"
   ]
  },
  {
   "cell_type": "code",
   "execution_count": 49,
   "id": "7de53df8-31cf-4b01-bf2d-bfa06cc67336",
   "metadata": {},
   "outputs": [
    {
     "data": {
      "text/plain": [
       "'🍣': Unicode U+1F363 (category So: Symbol, other)"
      ]
     },
     "execution_count": 49,
     "metadata": {},
     "output_type": "execute_result"
    }
   ],
   "source": [
    "c = '🍣' # example Unicode character in Julia. See: https://docs.julialang.org/en/v1/manual/unicode-input/"
   ]
  },
  {
   "cell_type": "markdown",
   "id": "c3bbe3d5-a267-46ae-a791-a8a05ac50019",
   "metadata": {},
   "source": [
    "What is the code point (special, unique integer) for the character `c`?"
   ]
  },
  {
   "cell_type": "code",
   "execution_count": 62,
   "id": "3183bf76-5ed8-4742-a377-b4444ad85d55",
   "metadata": {},
   "outputs": [
    {
     "data": {
      "text/plain": [
       "0x0001f363"
      ]
     },
     "execution_count": 62,
     "metadata": {},
     "output_type": "execute_result"
    }
   ],
   "source": [
    "code = UInt32(c) # extract code point as UInt32 (4 x bytes)"
   ]
  },
  {
   "cell_type": "markdown",
   "id": "33f57abd-1b27-457e-a1ef-0b6daaf7b119",
   "metadata": {},
   "source": [
    "_Hmmm, what?_ That's a strange-looking integer! The `code::UInt32` is a hexadecimal number, i.e., a number written in base 16. The giveaway (which is a convention) is the `0x` prefix. We'll dig into these numbers and count in base b later. \n",
    "\n",
    "Can we see the data that each byte contains? Yes! Let's use [the `reinterpret(...)` method](https://docs.julialang.org/en/v1/base/arrays/#Base.reinterpret) and break the 4-bytes in four 1-byte blocks!"
   ]
  },
  {
   "cell_type": "code",
   "execution_count": 90,
   "id": "7e2ff9e2-7032-41d2-b65b-84f05f366b4a",
   "metadata": {},
   "outputs": [
    {
     "data": {
      "text/plain": [
       "4-element Vector{UInt8}:\n",
       " 0x63\n",
       " 0xf3\n",
       " 0x01\n",
       " 0x00"
      ]
     },
     "execution_count": 90,
     "metadata": {},
     "output_type": "execute_result"
    }
   ],
   "source": [
    "reinterpret(Tuple{UInt8, UInt8, UInt8, UInt8}, code) |> collect"
   ]
  },
  {
   "cell_type": "markdown",
   "id": "43189c19-0fed-480c-ae4a-387af4c99fe8",
   "metadata": {},
   "source": [
    "This factors the 32-bit (4 x byte) number into four 8-bit (1 x byte) numbers. Notice that we are chopping from right to left (same convention as a bitstring representation of integers and floating point numbers above). Why not the other way? This has to do [with Endianness](https://en.wikipedia.org/wiki/Endianness).\n",
    "* [Endianness](https://en.wikipedia.org/wiki/Endianness) describes the order in which a computer stores the bytes of a multi‐byte value: in little‐endian, the least significant byte (far right) comes first in memory, whereas in big‐endian, the most significant byte is stored first. \n",
    "* On a little-endian machine (like most x86/x86-64 and ARM systems), the least significant byte is stored at the lowest memory address, so when we reinterpret 0x0001F363 as four UInt8s, we get: `[0x63,0xF3,0x01,0x00]`\n",
    "\n",
    "Thus, characters are our first examples of [a collection type](https://en.wikipedia.org/wiki/Collection_(abstract_data_type)), it is an ordered collection of smaller components, in this case a stack of 1 x byte (8-bit) blocks! Let's dig a little deeper into collection types."
   ]
  },
  {
   "cell_type": "markdown",
   "id": "74eef638-acf8-417b-a6f2-e6e4f42ad424",
   "metadata": {},
   "source": [
    "## Collection Types\n",
    "A collection type is a composite data structure aggregating multiple values, often of the same or related types, into a single container (e.g., tuples, arrays, sets, and dictionaries). It is not a primitive type but a collection of primitive types. Let's look at some simple examples of collections, starting with one that we have already seen (sort of), namely [Tuples](https://docs.julialang.org/en/v1/manual/functions/#Tuples).\n",
    "\n",
    "### Tuples\n",
    "A tuple is an immutable, ordered collection of elements that can hold a fixed number of items, potentially of different types. Once created, their size and contents cannot be changed, which makes tuples useful for grouping related values without the overhead of a mutable container.\n",
    "* In Julia, every tuple is an immutable, composite object with a type that encodes its length and element types (e.g., `Tuple{Int64, Float64}`). A tuple's memory layout is a contiguous block of its fields: if all elements are “isbits” (primitives), the tuple itself is isbits and can be unboxed (often in registers or on the stack). However, if any element is a non‐isbits type (like a String), the tuple’s fields are [pointers to heap‐allocated objects](https://en.wikipedia.org/wiki/Pointer_(computer_programming)), each aligned and stored sequentially.\n",
    "\n",
    "Let's unpack some of this. First, [a Tuple type](https://docs.julialang.org/en/v1/base/base/#Core.Tuple) is _immutable_, i.e., it can't be changed once it's constructed."
   ]
  },
  {
   "cell_type": "code",
   "execution_count": 304,
   "id": "ccf677e6-f5c3-40d4-9582-4da65dc97e32",
   "metadata": {},
   "outputs": [],
   "source": [
    "example_tuple = let\n",
    "    tuple = (18,36.6); # populate with data\n",
    "end;"
   ]
  },
  {
   "cell_type": "markdown",
   "id": "d08d8c18-a3f8-4729-8bcc-21eb34a215a9",
   "metadata": {},
   "source": [
    "What is the type of the `example_tuple` variable? Let's use [the `typeof(...)` method](https://docs.julialang.org/en/v1/base/base/#Core.typeof) to find out."
   ]
  },
  {
   "cell_type": "code",
   "execution_count": 306,
   "id": "656becfc-b898-4797-a31d-0bca9f525876",
   "metadata": {},
   "outputs": [
    {
     "data": {
      "text/plain": [
       "Tuple{Int64, Float64}"
      ]
     },
     "execution_count": 306,
     "metadata": {},
     "output_type": "execute_result"
    }
   ],
   "source": [
    "typeof(example_tuple)"
   ]
  },
  {
   "cell_type": "markdown",
   "id": "757d4bec-8a1f-4536-b0d3-46ad65b8e4a3",
   "metadata": {},
   "source": [
    "Let's try to change a value in the `example_tuple::Tuple{Int64, Float64}` variable. This should blow up, because [Tuples in Julia](https://docs.julialang.org/en/v1/base/base/#Core.Tuple) are immutable."
   ]
  },
  {
   "cell_type": "code",
   "execution_count": 308,
   "id": "bc7bfd75-0ebf-48a6-bc82-2f3437aeef04",
   "metadata": {},
   "outputs": [
    {
     "ename": "LoadError",
     "evalue": "MethodError: no method matching setindex!(::Tuple{Int64, Float64}, ::Int64, ::Int64)\nThe function `setindex!` exists, but no method is defined for this combination of argument types.",
     "output_type": "error",
     "traceback": [
      "MethodError: no method matching setindex!(::Tuple{Int64, Float64}, ::Int64, ::Int64)\nThe function `setindex!` exists, but no method is defined for this combination of argument types.",
      "",
      "Stacktrace:",
      " [1] top-level scope",
      "   @ In[308]:1"
     ]
    }
   ],
   "source": [
    "example_tuple[1] = 6 # this will blow up!"
   ]
  },
  {
   "cell_type": "code",
   "execution_count": 309,
   "id": "1cec1010-b798-47e9-bb04-4694b8fdde73",
   "metadata": {},
   "outputs": [
    {
     "ename": "LoadError",
     "evalue": "ArgumentError: Tuple{Int64, Float64} not a primitive type",
     "output_type": "error",
     "traceback": [
      "ArgumentError: Tuple{Int64, Float64} not a primitive type",
      "",
      "Stacktrace:",
      " [1] bitstring(x::Tuple{Int64, Float64})",
      "   @ Base ./intfuncs.jl:959",
      " [2] top-level scope",
      "   @ In[309]:1"
     ]
    }
   ],
   "source": [
    "bitstring(example_tuple) # We can't get the bitstring directly, a Tuple is not primitive!"
   ]
  },
  {
   "cell_type": "markdown",
   "id": "cba8510e-d2d0-4599-81bb-fdcb5d854760",
   "metadata": {},
   "source": [
    "However, we can get the elements of `example_tuple` and their bit layouts by [indexing into the Tuple](https://docs.julialang.org/en/v1/base/base/#Core.Tuple)"
   ]
  },
  {
   "cell_type": "code",
   "execution_count": 311,
   "id": "f04980d4-6b7d-42c4-88b7-f49c257fc878",
   "metadata": {},
   "outputs": [
    {
     "data": {
      "text/plain": [
       "\"0100000001000010010011001100110011001100110011001100110011001101\""
      ]
     },
     "execution_count": 311,
     "metadata": {},
     "output_type": "execute_result"
    }
   ],
   "source": [
    "bitstring(example_tuple[2]) # get the bitstring of the component i"
   ]
  },
  {
   "cell_type": "markdown",
   "id": "9ab52819-dfbe-4174-9669-3a096ff12971",
   "metadata": {},
   "source": [
    "We can see the raw bytes associated with the `example_tuple::Tuple{Int64,Float64}` using [the `reinterpret(...)` method](https://docs.julialang.org/en/v1/base/arrays/#Base.reinterpret):"
   ]
  },
  {
   "cell_type": "code",
   "execution_count": 331,
   "id": "6d692cd4-4f41-4d75-adb4-be07f59a09a6",
   "metadata": {},
   "outputs": [
    {
     "data": {
      "text/plain": [
       "16-element Vector{UInt8}:\n",
       " 0x12\n",
       " 0x00\n",
       " 0x00\n",
       " 0x00\n",
       " 0x00\n",
       " 0x00\n",
       " 0x00\n",
       " 0x00\n",
       " 0xcd\n",
       " 0xcc\n",
       " 0xcc\n",
       " 0xcc\n",
       " 0xcc\n",
       " 0x4c\n",
       " 0x42\n",
       " 0x40"
      ]
     },
     "execution_count": 331,
     "metadata": {},
     "output_type": "execute_result"
    }
   ],
   "source": [
    "v = reinterpret(NTuple{16,UInt8}, example_tuple) |> collect # we have 16 8-bit blocks (128 bits in total)"
   ]
  },
  {
   "cell_type": "code",
   "execution_count": 329,
   "id": "c30d3470-5a48-47c7-914a-5f5de62a1476",
   "metadata": {},
   "outputs": [
    {
     "data": {
      "text/plain": [
       "\"00010010\""
      ]
     },
     "execution_count": 329,
     "metadata": {},
     "output_type": "execute_result"
    }
   ],
   "source": [
    "bitstring(v[1])"
   ]
  },
  {
   "cell_type": "markdown",
   "id": "8cb60686-4053-40f5-a422-7f51e3802253",
   "metadata": {},
   "source": [
    "### Arrays\n",
    "An array is a contiguous, fixed-size _ordered_ collection of elements of the same type, allowing constant-time access to each element via integer indices. In most languages, arrays occupy a single block of memory, with the index of the first element typically at 0 or 1, and accessing element i corresponds to computing the base address plus i times the element size. \n",
    "* [Julia’s `Array{T}` type](https://docs.julialang.org/en/v1/base/arrays/#Core.Array-Tuple%7BNothing,%20Any%7D) is a built-in, statically typed, homogeneous container that is 1-indexed and stored [in column-major order](https://en.wikipedia.org/wiki/Row-_and_column-major_order), allowing the compiler to generate highly optimized, unboxed loops.\n",
    "* Python’s native lists are heterogeneous and zero-indexed, while [NumPy’s homogeneous arrays](https://numpy.org/doc/stable/reference/generated/numpy.array.html) are zero-indexed and row-major but live in a separate C library rather than the core language.\n",
    "\n",
    "In Julia and Python, arrays are mutable, i.e., elements can be changed after we populate the array. Let's take a look at a Julia array."
   ]
  },
  {
   "cell_type": "code",
   "execution_count": 316,
   "id": "768a931e-15a9-4484-b465-221af99674b0",
   "metadata": {},
   "outputs": [
    {
     "data": {
      "text/plain": [
       "Ptr{Tuple{Int64, Float64}} @0x000000010a2772b0"
      ]
     },
     "execution_count": 316,
     "metadata": {},
     "output_type": "execute_result"
    }
   ],
   "source": [
    "let\n",
    "    p = pointer_from_objref(Ref(example_tuple)) |> p-> Ptr{Tuple{Int,Float64}}(p) \n",
    "end"
   ]
  },
  {
   "cell_type": "markdown",
   "id": "34cd435c-cec5-4660-854b-08d44efc95f3",
   "metadata": {},
   "source": [
    "### Sets and Dictionaries\n",
    "A Set is an unordered collection of unique elements that supports fast membership checks, insertions, and removals. A Dictionary (or map) is an associative container that stores key–value pairs, allowing lookup, insertion, and deletion of values based on their unique keys. Together, they provide efficient ways to manage collections of distinct items and to retrieve data by identifiers.\n",
    "* Julia’s `Set{T}` and `Dict{K,V}` are parametric, homogeneous containers, meaning every element in a `Set` has the same type `T`, and every key–value pair in a `Dict` has types `K` and `V`, allowing the compiler to generate specialized, unboxed code paths.\n",
    "* In Python, built‐in `set` and `dict` are inherently heterogeneous (each slot holds a generic `object` reference), which introduces an extra level of indirection and dynamic dispatch at runtime. Finally, modern Julia `Dict` and Python `dict` both preserve insertion order, but Julia still requires you to specify type parameters up front for optimal performance."
   ]
  },
  {
   "cell_type": "code",
   "execution_count": null,
   "id": "0213df43-644b-4c11-80a5-ca7bb398de35",
   "metadata": {},
   "outputs": [],
   "source": []
  },
  {
   "cell_type": "markdown",
   "id": "e021c88c-6d7e-40fd-ab35-82ce3101aa6b",
   "metadata": {},
   "source": [
    "## Custom composite types\n",
    "A custom composite type is a _user‐defined data structure_ that aggregates multiple fields (possibly of different types) under a single name, enabling encapsulation of related data. In Julia or C, these are declared [using the struct keyword](https://docs.julialang.org/en/v1/manual/types/#Composite-Types) in combination with a list of named fields, while in Python an object is an instance of a class that defines its attributes and methods."
   ]
  }
 ],
 "metadata": {
  "kernelspec": {
   "display_name": "Julia 1.11.5",
   "language": "julia",
   "name": "julia-1.11"
  },
  "language_info": {
   "file_extension": ".jl",
   "mimetype": "application/julia",
   "name": "julia",
   "version": "1.11.5"
  }
 },
 "nbformat": 4,
 "nbformat_minor": 5
}
