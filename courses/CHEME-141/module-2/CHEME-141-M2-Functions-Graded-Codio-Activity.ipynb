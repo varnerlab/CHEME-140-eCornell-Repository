{
 "cells": [
  {
   "cell_type": "markdown",
   "id": "feba3880-e32c-4d14-bfbc-9e3d43c9e6c9",
   "metadata": {},
   "source": [
    "# Activity: Introduction to Functions, Scope and Error Handling\n",
    "In this activity, you will practice defining functions, understanding scope, and handling errors in Julia. \n",
    "However, while the activity is designed for Julia, you can adapt it to any programming language of your choice."
   ]
  },
  {
   "cell_type": "markdown",
   "id": "fbe9fc63",
   "metadata": {},
   "source": [
    "## Setup, Data, and Prerequisites\n",
    "First, we set up the computational environment by including the `Include.jl` file and loading any needed resources.\n",
    "* __Include__: The [include command](https://docs.julialang.org/en/v1/base/base/#include) evaluates the contents of the input source file, `Include.jl`, in the notebook's global scope. The `Include.jl` file sets paths, loads required external packages, etc. For additional information on functions and types used in this material, see the [Julia programming language documentation](https://docs.julialang.org/en/v1/). In addition to standard Julia libraries, we'll also use [the `VLDataScienceMachineLearningPackage.jl` package](https://github.com/varnerlab/VLDataScienceMachineLearningPackage.jl)."
   ]
  },
  {
   "cell_type": "code",
   "execution_count": 11,
   "id": "732141a1",
   "metadata": {},
   "outputs": [],
   "source": [
    "include(\"Include.jl\");"
   ]
  },
  {
   "cell_type": "markdown",
   "id": "c2e41580",
   "metadata": {},
   "source": [
    "### Types and Functions\n",
    "Let's implement a function to build an [instance of a `Normal(...)` distribution](https://docs.julialang.org/en/v1/stdlib/Distributions/#Distributions.Normal) which is a type exported from [the `Distributions.jl` package](https://github.com/JuliaStats/Distributions.jl). The function will take two parameters: the mean and standard deviation of the normal distribution and will return an instance of the distribution."
   ]
  },
  {
   "cell_type": "code",
   "execution_count": 22,
   "id": "e1cbb730",
   "metadata": {},
   "outputs": [],
   "source": [
    "function build(distribution::Type{T}; \n",
    "    μ::Float64 = 0.0, σ::Float64 = 1.0)::Union{ContinuousUnivariateDistribution, Nothing} where T <: ContinuousUnivariateDistribution\n",
    "    \n",
    "    # initialize -\n",
    "    d = nothing; # defaul value of d is nothing\n",
    "\n",
    "    # Approach 1: Ungraceful check: if σ is not positive, thrown an assertion error, \n",
    "    # @assert σ > 0.0 \"Standard deviation must be positive\"\n",
    "    \n",
    "    # Approach 2: Agressive programming: if σ is not positive, force it to be positive\n",
    "    # σ = abs(σ) # force σ to be positive - agressive programming!!\n",
    "    # d = T(μ, σ); # create a distribution of type T with parameters μ and σ\n",
    "\n",
    "    # Approach 3: Defensive programming: if σ is not positive, warn the user, and return nothing\n",
    "    # if (σ <= 0.0)\n",
    "    #     @warn \"Standard deviation must be positive. Returning nothing.\"\n",
    "    #     return d;\n",
    "    # end\n",
    "\n",
    "    # # Approach 4: Graceful programming: if σ is not positive, throw an error using try-catch\n",
    "    try\n",
    "        d = T(μ, σ); # create a distribution of type T with parameters μ and σ    \n",
    "    catch error\n",
    "        @error \"Catch block: Failed to create distribution of type $(T): $(error)\"\n",
    "        return d; # return nothing if an error occurs\n",
    "    end\n",
    "\n",
    "    # this will return a distribution of type T\n",
    "    return d;\n",
    "end;"
   ]
  },
  {
   "cell_type": "markdown",
   "id": "f9dccb19",
   "metadata": {},
   "source": [
    "Next, implement a function to sample from the normal distribution. This function will take an instance of the distribution and a number of samples to draw from it, returning an array of sampled values."
   ]
  },
  {
   "cell_type": "code",
   "execution_count": 31,
   "id": "033380d8",
   "metadata": {},
   "outputs": [],
   "source": [
    "function sample(distribution::ContinuousUnivariateDistribution, \n",
    "    number_of_samples::Int64 = 100)::Union{Nothing, Array{Float64,1}}\n",
    "    \n",
    "    # check: must have a positive number of samples\n",
    "    # Let's use Approach 3: Defensive programming to check that the number of samples is positive\n",
    "    if (number_of_samples <= 0)\n",
    "        @warn \"Number of samples must be positive. Returning nothing.\"\n",
    "        return nothing; # return an empty array if the number of samples is not positive\n",
    "    end\n",
    "    \n",
    "    \n",
    "    # calls the rand function from the Distributions package\n",
    "    return rand(distribution, number_of_samples) \n",
    "end;"
   ]
  },
  {
   "cell_type": "markdown",
   "id": "206ceef7",
   "metadata": {},
   "source": [
    "## Task 1: Create a Normal Distribution Model\n",
    "In this task, we'll use the `build(...)` function to create an instance of a Normal distribution with specified parameters. We'll first do the happy path, where the parameters are valid, and then handle an error case where the standard deviation is negative; your function should gracefully handle this error.\n",
    "\n",
    "### Happy Path\n",
    "On the happy path, all is correct and right with the world! Users behavior rationally, and call functions with values for the arguements that we expect. Create an instance of a Normal distribution with parameters $\\mu = 0.25$ and $\\sigma = 2.5$ using the `build(...)` method that you implemented above. Store the instance in a variable called `d`:"
   ]
  },
  {
   "cell_type": "code",
   "execution_count": 24,
   "id": "25872bd6",
   "metadata": {},
   "outputs": [],
   "source": [
    "d = let\n",
    "    \n",
    "    # initailize - \n",
    "    μ = 0.25; # mean specified in the problem\n",
    "    σ = 2.5; # standard deviation specified in the problem\n",
    "\n",
    "    # call the build function to create a distribution\n",
    "    distribution = build(Normal; μ=μ, σ=σ);\n",
    "\n",
    "    distribution; # return to the caller\n",
    "end;"
   ]
  },
  {
   "cell_type": "markdown",
   "id": "e52e5333",
   "metadata": {},
   "source": [
    "__Check__: Do we get what we expect? The `d` variable should be an instance of the `Normal` distribution with the specified parameters. Let's develop a test to check this."
   ]
  },
  {
   "cell_type": "markdown",
   "id": "d69b52f7",
   "metadata": {},
   "source": [
    "### Error cases\n",
    "In the error case, we will call the `build(...)` function with a negative standard deviation. The function should raise an error, which we will catch and handle gracefully.\n",
    "* _What is graceful error handling?_ Graceful error handling means that the program provides a meaningful message to the user about what went wrong, and some direction on how to fix it. Depending on the context, it may also mean tha the program terminates in a controlled manner, rather than crashing unexpectedly, or that it continues to run in a safe state.\n",
    "\n",
    "We'll consider four different approaches to error handling in this task, starting with an ungraceful error handling approach and then moving to more graceful methods.\n",
    "\n",
    "#### Approach 1: Assert statements\n",
    "Let's start with an __ungraceful__ error handling case, where we use [an `@assert` statement](https://docs.julialang.org/en/v1/base/base/#Base.@assert) to check that the standard deviation is non-negative. If the assertion fails, it will raise an error and stop the program."
   ]
  },
  {
   "cell_type": "code",
   "execution_count": 15,
   "id": "59fdee0c",
   "metadata": {},
   "outputs": [
    {
     "ename": "AssertionError",
     "evalue": "AssertionError: Standard deviation must be positive",
     "output_type": "error",
     "traceback": [
      "AssertionError: Standard deviation must be positive\n",
      "\n",
      "Stacktrace:\n",
      " [1] #build#13\n",
      "   @ ~/Desktop/julia_work/CHEME-140-eCornell-Repository/CHEME-140-eCornell-Repository/courses/CHEME-141/module-2/jl_notebook_cell_df34fa98e69747e1a8f8a730347b8e2f_X11sZmlsZQ==.jl:8 [inlined]\n",
      " [2] top-level scope\n",
      "   @ ~/Desktop/julia_work/CHEME-140-eCornell-Repository/CHEME-140-eCornell-Repository/courses/CHEME-141/module-2/jl_notebook_cell_df34fa98e69747e1a8f8a730347b8e2f_X25sZmlsZQ==.jl:7"
     ]
    }
   ],
   "source": [
    "let\n",
    "    # initailize - \n",
    "    μ = 0.25; # mean specified in the problem\n",
    "    σ = -2.5; # standard deviation specified in the problem\n",
    "\n",
    "    # what happens in the case?\n",
    "    distribution = build(Normal; μ=μ, σ=σ);\n",
    "\n",
    "    # checK do we get anything back?\n",
    "    if distribution === nothing\n",
    "        @info \"No distribution created due to invalid parameters.\"\n",
    "    else\n",
    "        @info \"Distribution created successfully: $(distribution)\"\n",
    "    end\n",
    "end"
   ]
  },
  {
   "cell_type": "markdown",
   "id": "f8de5e3d",
   "metadata": {},
   "source": [
    "__Is this a good approach?__ No, this is not a good approach for error handling in production code. Assertions are typically used for debugging and should not be relied upon for user input validation. Notice that the program will stop execution if the assertion fails, which is not a graceful way to handle errors (we are not returning a distribution instance, we are jsut stopping the program)."
   ]
  },
  {
   "cell_type": "markdown",
   "id": "db2c076e",
   "metadata": {},
   "source": [
    "#### Approach 2: Automatic correction\n",
    "Next, we will use an agressive stance, in which we _automatically correct_ the error by taking the absolute value of the standard deviation. This is not a recommended practice, as it can lead to unexpected results, but it is an example of how to handle errors in a way that allows the program to continue running.\n",
    "\n",
    "Comment out the `@assert` statement, remove the comments on Approach 2 and reload the `build(...)` function. We expect how the program to return a distribution instance with a positive standard deviation, even if the user provided a negative value."
   ]
  },
  {
   "cell_type": "code",
   "execution_count": 18,
   "id": "247e5054",
   "metadata": {},
   "outputs": [
    {
     "name": "stderr",
     "output_type": "stream",
     "text": [
      "┌ Info: Distribution created successfully: Normal{Float64}(μ=0.25, σ=2.5)\n",
      "└ @ Main /Users/jeffreyvarner/Desktop/julia_work/CHEME-140-eCornell-Repository/CHEME-140-eCornell-Repository/courses/CHEME-141/module-2/jl_notebook_cell_df34fa98e69747e1a8f8a730347b8e2f_X31sZmlsZQ==.jl:13\n"
     ]
    }
   ],
   "source": [
    "let\n",
    "    # initailize - \n",
    "    μ = 0.25; # mean specified in the problem\n",
    "    σ = -2.5; # standard deviation specified in the problem\n",
    "\n",
    "    # what happens in the case?\n",
    "    distribution = build(Normal; μ=μ, σ=σ);\n",
    "\n",
    "    # checK do we get anything back?\n",
    "    if distribution === nothing\n",
    "        @info \"No distribution created due to invalid parameters.\"\n",
    "    else\n",
    "        @info \"Distribution created successfully: $(distribution)\"\n",
    "    end\n",
    "end"
   ]
  },
  {
   "cell_type": "markdown",
   "id": "a0b9aa5c",
   "metadata": {},
   "source": [
    "__Is this a good approach?__ No, this is not a good approach for error handling in production code. Automatically correcting user input can lead to unexpected results, it also hides potential upstreams errors which is also not a good practice. It is better to inform the user of the error and let them correct it. "
   ]
  },
  {
   "cell_type": "markdown",
   "id": "e44c6aa4",
   "metadata": {},
   "source": [
    "#### Approach 3: Defensive programming\n",
    "Next, we will implement a more graceful error handling approach by checking the standard deviation manually and returning an error message if it is negative, along with a distribution instance set to `nothing`. This allows the program to continue running, but informs the user of the error.\n",
    "\n",
    "Comment out Approach 2, remove the comments on Approach 3, and reload the `build(...)` function. We expect the program to return a distribution instance set to `nothing` and an error message if the standard deviation is negative."
   ]
  },
  {
   "cell_type": "code",
   "execution_count": 20,
   "id": "7eb30605",
   "metadata": {},
   "outputs": [
    {
     "name": "stderr",
     "output_type": "stream",
     "text": [
      "┌ Warning: Standard deviation must be positive. Returning nothing.\n",
      "└ @ Main /Users/jeffreyvarner/Desktop/julia_work/CHEME-140-eCornell-Repository/CHEME-140-eCornell-Repository/courses/CHEME-141/module-2/jl_notebook_cell_df34fa98e69747e1a8f8a730347b8e2f_X11sZmlsZQ==.jl:16\n",
      "┌ Info: No distribution created due to invalid parameters.\n",
      "└ @ Main /Users/jeffreyvarner/Desktop/julia_work/CHEME-140-eCornell-Repository/CHEME-140-eCornell-Repository/courses/CHEME-141/module-2/jl_notebook_cell_df34fa98e69747e1a8f8a730347b8e2f_X34sZmlsZQ==.jl:11\n"
     ]
    }
   ],
   "source": [
    "let\n",
    "    # initailize - \n",
    "    μ = 0.25; # mean specified in the problem\n",
    "    σ = -2.5; # standard deviation specified in the problem\n",
    "\n",
    "    # what happens in the case?\n",
    "    distribution = build(Normal; μ=μ, σ=σ);\n",
    "\n",
    "    # checK do we get anything back?\n",
    "    if distribution === nothing\n",
    "        @info \"No distribution created due to invalid parameters.\"\n",
    "    else\n",
    "        @info \"Distribution created successfully: $(distribution)\"\n",
    "    end\n",
    "end"
   ]
  },
  {
   "cell_type": "markdown",
   "id": "002d2e10",
   "metadata": {},
   "source": [
    "__Is this a good approach?__ Yes, defensive programming is a good approach for error handling in production code. It allows the program to continue running, while informing the user of the error and providing a way to correct it. However, it is still not ideal, becuase it requires the developer, i.e., you to check for every possible error case manually (which can be tedious and error-prone)."
   ]
  },
  {
   "cell_type": "markdown",
   "id": "0c7d359e",
   "metadata": {},
   "source": [
    "#### Approach 4: Try-Catch exception handling\n",
    "Finally, we will implement a more graceful error handling approach using [exception handling](https://docs.julialang.org/en/v1/manual/control-flow/#Exception-Handling-1). This allows us to catch errors and handle them gracefully, without stopping the program execution. We will use [a `try-catch` block](https://docs.julialang.org/en/v1/base/base/#try) to try some logic, and catch any errors that may occur. If an error occurs, we will return a distribution instance set to `nothing` and an error message.\n",
    "\n",
    "Comment out Approach 3, remove the comments on Approach 4, and reload the `build(...)` function. We expect the program to return a distribution instance set to `nothing` and an error message if the standard deviation is negative. However, this time we will not have to check for every possible error case manually, as the exception handling mechanism will take care of it for us."
   ]
  },
  {
   "cell_type": "code",
   "execution_count": 23,
   "id": "b52397f4",
   "metadata": {},
   "outputs": [
    {
     "name": "stderr",
     "output_type": "stream",
     "text": [
      "┌ Error: Catch block: Failed to create distribution of type Normal: DomainError(-2.5, \"Normal: the condition σ >= zero(σ) is not satisfied.\")\n",
      "└ @ Main /Users/jeffreyvarner/Desktop/julia_work/CHEME-140-eCornell-Repository/CHEME-140-eCornell-Repository/courses/CHEME-141/module-2/jl_notebook_cell_df34fa98e69747e1a8f8a730347b8e2f_X11sZmlsZQ==.jl:24\n",
      "┌ Info: No distribution created due to invalid parameters.\n",
      "└ @ Main /Users/jeffreyvarner/Desktop/julia_work/CHEME-140-eCornell-Repository/CHEME-140-eCornell-Repository/courses/CHEME-141/module-2/jl_notebook_cell_df34fa98e69747e1a8f8a730347b8e2f_X40sZmlsZQ==.jl:11\n"
     ]
    }
   ],
   "source": [
    "let\n",
    "    # initailize - \n",
    "    μ = 0.25; # mean specified in the problem\n",
    "    σ = -2.5; # standard deviation specified in the problem\n",
    "\n",
    "    # what happens in the case?\n",
    "    distribution = build(Normal; μ=μ, σ=σ);\n",
    "\n",
    "    # checK do we get anything back?\n",
    "    if distribution === nothing\n",
    "        @info \"No distribution created due to invalid parameters.\"\n",
    "    else\n",
    "        @info \"Distribution created successfully: $(distribution)\"\n",
    "    end\n",
    "end"
   ]
  },
  {
   "cell_type": "markdown",
   "id": "86e10067",
   "metadata": {},
   "source": [
    "__Is this a good approach?__ Yes, the try-catch exception handling is a good approach for error handling in production code. It allows us to catch errors and handle them gracefully, without stopping the program execution. It also allows us to handle multiple error cases in a single block of code, making it easier to maintain and extend the code in the future. Its the recommended approach for error handling in production code."
   ]
  },
  {
   "cell_type": "markdown",
   "id": "939386a4",
   "metadata": {},
   "source": [
    "## Task 2: Sample from the Normal Distribution\n",
    "In this task, we will implement a function to sample from the normal distribution. The function will take an instance of the distribution and a number of samples to draw from it, returning an array of sampled values.\n",
    "\n",
    "### Error handling\n",
    "Implement a defensive programming approach to error handling in the sampling function. If the `number_of_samples::Int64` is less than or equal to zero, the function should return an empty array and an warning message using [the `@warn` macro](https://docs.julialang.org/en/v1/stdlib/Logging/#Logging.@logmsg) letting the user know that the number of samples must be greater than zero. "
   ]
  },
  {
   "cell_type": "code",
   "execution_count": null,
   "id": "55f9e9f5",
   "metadata": {},
   "outputs": [
    {
     "name": "stderr",
     "output_type": "stream",
     "text": [
      "┌ Info: Samples created successfully\n",
      "└ @ Main /Users/jeffreyvarner/Desktop/julia_work/CHEME-140-eCornell-Repository/CHEME-140-eCornell-Repository/courses/CHEME-141/module-2/jl_notebook_cell_df34fa98e69747e1a8f8a730347b8e2f_X45sZmlsZQ==.jl:13\n"
     ]
    }
   ],
   "source": [
    "samples = let\n",
    "\n",
    "    # initailize -\n",
    "    model = d;\n",
    "    number_of_samples = 100; # TODO: what happens, when we make this ≤ 0?\n",
    "\n",
    "    # call the sample function to create samples\n",
    "    samples = sample(model, number_of_samples);\n",
    "\n",
    "    if samples === nothing\n",
    "        @info \"No samples created due to invalid parameters.\"\n",
    "    else\n",
    "        @info \"Samples created successfully\"\n",
    "    end\n",
    "\n",
    "    samples; # return to the caller\n",
    "end;"
   ]
  },
  {
   "cell_type": "markdown",
   "id": "d37a7060",
   "metadata": {},
   "source": [
    "### Visualize the samples\n",
    "Once all of our functions have been implemented, and we supply the correct parameters, we can visualize the samples using using [the `histogram(...)` method exported from `UnicodePlots.jl` package](https://github.com/JuliaPlots/UnicodePlots.jl.git). There are many other plotting libararies avaliable, but let's keep it simple for now (retro is cool!)."
   ]
  },
  {
   "cell_type": "code",
   "execution_count": 51,
   "id": "8a5d2845",
   "metadata": {},
   "outputs": [
    {
     "data": {
      "text/plain": [
       "                  \u001b[38;5;8m┌                                        ┐\u001b[0m \n",
       "   [-10.0,  -9.0) \u001b[38;5;8m┤\u001b[0m\u001b[38;5;2m\u001b[0m\u001b[38;5;2m▏\u001b[0m 2                                     \u001b[38;5;8m \u001b[0m \u001b[38;5;8m\u001b[0m\n",
       "   [ -9.0,  -8.0) \u001b[38;5;8m┤\u001b[0m\u001b[38;5;2m\u001b[0m\u001b[38;5;2m▏\u001b[0m 1                                     \u001b[38;5;8m \u001b[0m \u001b[38;5;8m\u001b[0m\n",
       "   [ -8.0,  -7.0) \u001b[38;5;8m┤\u001b[0m\u001b[38;5;2m\u001b[0m\u001b[38;5;2m▍\u001b[0m 15                                    \u001b[38;5;8m \u001b[0m \u001b[38;5;8m\u001b[0m\n",
       "   [ -7.0,  -6.0) \u001b[38;5;8m┤\u001b[0m\u001b[38;5;2m\u001b[0m\u001b[38;5;2m▊\u001b[0m 38                                    \u001b[38;5;8m \u001b[0m \u001b[38;5;8m\u001b[0m\n",
       "   [ -6.0,  -5.0) \u001b[38;5;8m┤\u001b[0m\u001b[38;5;2m██\u001b[0m\u001b[38;5;2m▎\u001b[0m 102                                 \u001b[38;5;8m \u001b[0m \u001b[38;5;8m\u001b[0m\n",
       "   [ -5.0,  -4.0) \u001b[38;5;8m┤\u001b[0m\u001b[38;5;2m█████\u001b[0m\u001b[38;5;2m▌\u001b[0m 263                              \u001b[38;5;8m \u001b[0m \u001b[38;5;8m\u001b[0m\n",
       "   [ -4.0,  -3.0) \u001b[38;5;8m┤\u001b[0m\u001b[38;5;2m██████████\u001b[0m\u001b[38;5;2m▋\u001b[0m 514                         \u001b[38;5;8m \u001b[0m \u001b[38;5;8m\u001b[0m\n",
       "   [ -3.0,  -2.0) \u001b[38;5;8m┤\u001b[0m\u001b[38;5;2m█████████████████\u001b[0m\u001b[38;5;2m▋\u001b[0m 859                  \u001b[38;5;8m \u001b[0m \u001b[38;5;8m\u001b[0m\n",
       "   [ -2.0,  -1.0) \u001b[38;5;8m┤\u001b[0m\u001b[38;5;2m██████████████████████████\u001b[0m\u001b[38;5;2m▏\u001b[0m 1 263       \u001b[38;5;8m \u001b[0m \u001b[38;5;8m\u001b[0m\n",
       "   [ -1.0,   0.0) \u001b[38;5;8m┤\u001b[0m\u001b[38;5;2m███████████████████████████████\u001b[0m\u001b[38;5;2m▌\u001b[0m 1 523  \u001b[38;5;8m \u001b[0m \u001b[38;5;8m\u001b[0m\n",
       "   [  0.0,   1.0) \u001b[38;5;8m┤\u001b[0m\u001b[38;5;2m█████████████████████████████████\u001b[0m\u001b[38;5;2m \u001b[0m 1 599\u001b[38;5;8m \u001b[0m \u001b[38;5;8m\u001b[0m\n",
       "   [  1.0,   2.0) \u001b[38;5;8m┤\u001b[0m\u001b[38;5;2m█████████████████████████████\u001b[0m\u001b[38;5;2m▎\u001b[0m 1 416    \u001b[38;5;8m \u001b[0m \u001b[38;5;8m\u001b[0m\n",
       "   [  2.0,   3.0) \u001b[38;5;8m┤\u001b[0m\u001b[38;5;2m██████████████████████\u001b[0m\u001b[38;5;2m▉\u001b[0m 1 111           \u001b[38;5;8m \u001b[0m \u001b[38;5;8m\u001b[0m\n",
       "   [  3.0,   4.0) \u001b[38;5;8m┤\u001b[0m\u001b[38;5;2m█████████████\u001b[0m\u001b[38;5;2m▉\u001b[0m 678                      \u001b[38;5;8m \u001b[0m \u001b[38;5;8m\u001b[0m\n",
       "   [  4.0,   5.0) \u001b[38;5;8m┤\u001b[0m\u001b[38;5;2m███████\u001b[0m\u001b[38;5;2m▎\u001b[0m 344                            \u001b[38;5;8m \u001b[0m \u001b[38;5;8m\u001b[0m\n",
       "   [  5.0,   6.0) \u001b[38;5;8m┤\u001b[0m\u001b[38;5;2m███\u001b[0m\u001b[38;5;2m▌\u001b[0m 168                                \u001b[38;5;8m \u001b[0m \u001b[38;5;8m\u001b[0m\n",
       "   [  6.0,   7.0) \u001b[38;5;8m┤\u001b[0m\u001b[38;5;2m█\u001b[0m\u001b[38;5;2m▌\u001b[0m 69                                   \u001b[38;5;8m \u001b[0m \u001b[38;5;8m\u001b[0m\n",
       "   [  7.0,   8.0) \u001b[38;5;8m┤\u001b[0m\u001b[38;5;2m\u001b[0m\u001b[38;5;2m▌\u001b[0m 24                                    \u001b[38;5;8m \u001b[0m \u001b[38;5;8m\u001b[0m\n",
       "   [  8.0,   9.0) \u001b[38;5;8m┤\u001b[0m\u001b[38;5;2m\u001b[0m\u001b[38;5;2m▎\u001b[0m 5                                     \u001b[38;5;8m \u001b[0m \u001b[38;5;8m\u001b[0m\n",
       "   [  9.0,  10.0) \u001b[38;5;8m┤\u001b[0m\u001b[38;5;2m\u001b[0m\u001b[38;5;2m▎\u001b[0m 5                                     \u001b[38;5;8m \u001b[0m \u001b[38;5;8m\u001b[0m\n",
       "   [ 10.0,  11.0) \u001b[38;5;8m┤\u001b[0m\u001b[38;5;2m\u001b[0m\u001b[38;5;2m▏\u001b[0m 1                                     \u001b[38;5;8m \u001b[0m \u001b[38;5;8m\u001b[0m\n",
       "                  \u001b[38;5;8m└                                        ┘\u001b[0m \n",
       "                                   Frequency                 "
      ]
     },
     "metadata": {},
     "output_type": "display_data"
    }
   ],
   "source": [
    "let\n",
    "\n",
    "    # initailize -\n",
    "    number_of_samples = length(samples); # get the number of samples\n",
    "    nbins = 20; # default: number of bins for the histogram\n",
    "    #nbins = round(Int, log2(number_of_samples) + 1) # TODO: Uncomment to try Sturges' rule\n",
    "    #nbins = round(Int, 2.0*(number_of_samples)^(1/3)) # TODO: Uncomment to try Scott's rule\n",
    "    \n",
    "    # call the histogram function to plot the samples, pass in the number of bins\n",
    "    histogram(samples, nbins=nbins, closed=:left);\n",
    "end"
   ]
  },
  {
   "cell_type": "markdown",
   "id": "1b53b9dd",
   "metadata": {},
   "source": [
    "__Hmmmm__: With only 100 samples, this does not look like a normal distribution! Why? The [`histogram(...)` method](https://github.com/JuliaPlots/UnicodePlots.jl.git) is plotting the samples as a histogram, but we don't enough samples! Let's generate more samples, say 1000, or 10000, and see if the histogram looks more like a normal distribution.\n",
    "* _Increase the number of samples?_ When we do more samples, e.g., 10000 samples and `nbins = 20` we see a histogram that looks like a normal distribution. This is because the more samples we take, the closer we get to the true distribution of the data. It looks like we are on the right track!\n",
    "* _Increase the number of bins?_ When we increase the number of bins, we see a more detailed histogram, but it also becomes more noisy. There are several rules of thumb for choosing the number of bins, such as the [Sturges' rule](https://en.wikipedia.org/wiki/Sturges%27s_rule?utm_source=chatgpt.com) or the [Rice rule](hhttps://en.wikipedia.org/wiki/Histogram?utm_source=chatgpt.com#Rice_rule). We've implemented both of these rules above, which one do you think is better? The Sturges' rule is more conservative, while the Rice rule is more aggressive. It depends on the data and the context, but in general, the Rice rule is more suitable for larger datasets, while the Sturges' rule is more suitable for smaller datasets."
   ]
  },
  {
   "cell_type": "markdown",
   "id": "7312cf7f",
   "metadata": {},
   "source": [
    "### Are the statistics correct?\n",
    "Finally, we can check if the statistics of the samples are correct. We can use [the `mean(...)`](https://docs.julialang.org/en/v1/stdlib/Statistics/#Statistics.mean) and [`std(...)` methods from the `Statistics.jl` package](https://docs.julialang.org/en/v1/stdlib/Statistics/#Statistics.std) to calculate the mean and standard deviation, their error bonds from the samples, and compare them to the parameters of the normal distribution we created earlier.\n",
    "\n",
    "* _Uncertainty_: We expect the uncertainty of the estimated mean to be given by $\\mu_{x} \\pm \\frac{\\sigma_{x}}{\\sqrt{n}}$, where $\\mu_{x}$ is the sample mean of the normal distribution, $\\sigma_{x}$ is the sample standard deviation of the normal distribution, and $n$ is the number of samples.\n",
    "\n",
    "Does our sample mean $\\mu_{x}$ fall within the uncertainty bounds? If it does, we can say that our sample mean is consistent with the parameters of the normal distribution we created earlier. If it does not, we can say that our sample mean is not consistent with the parameters of the normal distribution we created earlier."
   ]
  },
  {
   "cell_type": "code",
   "execution_count": 54,
   "id": "cc9baf51",
   "metadata": {},
   "outputs": [
    {
     "name": "stderr",
     "output_type": "stream",
     "text": [
      "┌ Info: Sample mean: 0.25299068454662393, Sample standard deviation: 2.4627332579783765, Lower bound: 0.22836335196684016, Upper bound: 0.2776180171264077\n",
      "└ @ Main /Users/jeffreyvarner/Desktop/julia_work/CHEME-140-eCornell-Repository/CHEME-140-eCornell-Repository/courses/CHEME-141/module-2/jl_notebook_cell_df34fa98e69747e1a8f8a730347b8e2f_X55sZmlsZQ==.jl:11\n"
     ]
    }
   ],
   "source": [
    "let\n",
    "\n",
    "    # initailize -\n",
    "    number_of_samples = length(samples); # get the number of samples\n",
    "    \n",
    "    σₓ = std(samples); # compute the standard deviation of the samples\n",
    "    μₓ = mean(samples); # compute the mean of the samples\n",
    "    LB = μₓ - σₓ/sqrt(number_of_samples); # compute the lower bound\n",
    "    UB = μₓ + σₓ/sqrt(number_of_samples); # compute the upper bound\n",
    "\n",
    "    @info \"Sample mean: $(μₓ), Sample standard deviation: $(σₓ), Lower bound: $(LB), Upper bound: $(UB)\"\n",
    "end"
   ]
  },
  {
   "cell_type": "markdown",
   "id": "d36a447d",
   "metadata": {},
   "source": []
  }
 ],
 "metadata": {
  "kernelspec": {
   "display_name": "Julia 1.11.5",
   "language": "julia",
   "name": "julia-1.11"
  },
  "language_info": {
   "file_extension": ".jl",
   "mimetype": "application/julia",
   "name": "julia",
   "version": "1.11.5"
  }
 },
 "nbformat": 4,
 "nbformat_minor": 5
}
