{
 "cells": [
  {
   "cell_type": "markdown",
   "id": "59047b73-ab1c-40ff-8616-1db18c8fb118",
   "metadata": {},
   "source": [
    "# Project: Decode Hidden Sums from a Set of Strings\n",
    "This project gives students practice working with many of the types and topics we've been talking about, namely, [Strings](https://docs.julialang.org/en/v1/manual/strings/#man-strings), [Characters](https://docs.julialang.org/en/v1/manual/strings/#man-characters), [Arrays](https://docs.julialang.org/en/v1/manual/arrays/#man-arrays-1), [Dictionaries](https://docs.julialang.org/en/v1/base/collections/#Base.Dict) and [Loops](https://docs.julialang.org/en/v1/manual/control-flow/#man-loops-1) and developing [functions](https://docs.julialang.org/en/v1/manual/functions/#man-functions). The project is divided into two parts and was inspired by the [2023 Day 1 Advent of Code challenge](https://adventofcode.com/).\n",
    "\n",
    "* In this project, you will be given a set of strings containing a series of numerical characters, and numbers spelled out as words. Your task is to decode these strings to find the hidden sums they represent. The strings will contain characters corresponding to numbers as digits and numbers as words, and your goal is to extract these numbers and compute their sum.\n",
    "\n",
    "However, before we get started on the project, we'll do some setup, and you'll develop some useful functions. Let's go!!!\n",
    "\n",
    "___"
   ]
  },
  {
   "cell_type": "markdown",
   "id": "c85742a3-39d2-46d6-86ef-8d5f5aa31d43",
   "metadata": {},
   "source": [
    "## Setup, Data, and Prerequisites\n",
    "First, we set up the computational environment by including the `Include.jl` file and loading any needed resources.\n",
    "* The [include command](https://docs.julialang.org/en/v1/base/base/#include) evaluates the contents of the input source file, `Include.jl`, in the notebook's global scope. The `Include.jl` file sets paths, loads required external packages, etc. For additional information on functions and types used in this material, see the [Julia programming language documentation](https://docs.julialang.org/en/v1/). \n",
    "* In addition to standard Julia libraries, we'll also use [the `VLDataScienceMachineLearningPackage.jl` package](https://github.com/varnerlab/VLDataScienceMachineLearningPackage.jl), check out that documentation for more information on the functions and types used in this material."
   ]
  },
  {
   "cell_type": "code",
   "execution_count": 3,
   "id": "a60eab86-7ded-4d38-b67b-edfc588b8ea2",
   "metadata": {},
   "outputs": [],
   "source": [
    "include(\"Include.jl\"); # setup the environment"
   ]
  },
  {
   "cell_type": "markdown",
   "id": "52d496d2-a034-4849-b250-c342975847ca",
   "metadata": {},
   "source": [
    "### Data\n",
    "Next, we'll load the data for this project using [the `MyStringDecodeChallengeDataset()` method exported by the `VLDataScienceMachineLearningPackage.jl` package](https://varnerlab.github.io/VLDataScienceMachineLearningPackage.jl/dev/data/#VLDataScienceMachineLearningPackage.MyStringDecodeChallengeDataset). This method returns the project data in [a `NamedTuple` instance](https://docs.julialang.org/en/v1/base/base/#Core.NamedTuple), let's save this in the `dataset::NamedTuple` variable:"
   ]
  },
  {
   "cell_type": "code",
   "execution_count": 5,
   "id": "ef07d3e9-6ff8-46cf-9203-7e3c45e0cff0",
   "metadata": {},
   "outputs": [],
   "source": [
    "dataset = MyStringDecodeChallengeDataset(); # NamedTuple dataset"
   ]
  },
  {
   "cell_type": "markdown",
   "id": "0398132a-7a87-4eb7-8c38-b259a5999030",
   "metadata": {},
   "source": [
    "The `dataset::NamedTuple` variable holds the project data, using a `key => value` arrangement. However, what are the keys? To get the names of the keys (fields) in `dataset::NamedTuple`, we can use [the `keys(...)` method](https://docs.julialang.org/en/v1/base/arrays/#Base.keys-Tuple%7BAbstractArray%7D):"
   ]
  },
  {
   "cell_type": "code",
   "execution_count": 7,
   "id": "1667ea3b-f3f1-481c-88a8-37bb6d3b2fcd",
   "metadata": {},
   "outputs": [
    {
     "data": {
      "text/plain": [
       "(:test_part_1, :test_part_2, :production)"
      ]
     },
     "execution_count": 7,
     "metadata": {},
     "output_type": "execute_result"
    }
   ],
   "source": [
    "keys(dataset) # this returns the keys of the data in the dataset::NamedTuple"
   ]
  },
  {
   "cell_type": "markdown",
   "id": "7eba13d2-aecf-46ea-a6e2-80c3c7ef9e59",
   "metadata": {},
   "source": [
    "We see that the `dataset::NamedTuple` has three possible keys (fields):\n",
    "* The field __test_part_1__ points to a `Vector{String}` which contains the testing data for Part 1 of the project. To access this data: `dataset.test_part_1`. The hidden sum for the part 1 test data is `142`.\n",
    "* The field __test_part_2__ points to a `Vector{String}` which contains the testing data for Part 2 of the project. To access this data: `dataset.test_part_2`. The hidden sum for the part 2 data is `299`.\n",
    "* The field __production__ points to a `Vector{String}` which contains the production data for this project. To access this data: `dataset.production`. The hidden sum for the production data, including only visible digits, is `55172`, while the digits + words is `54925`.\n",
    "\n",
    "_How do we access the data? _ We can access the data from the `dataset::NamedTuple` variable using the field names, in combination with either the dot notation or the square bracket notation:"
   ]
  },
  {
   "cell_type": "code",
   "execution_count": 9,
   "id": "e00a2cb6",
   "metadata": {},
   "outputs": [
    {
     "data": {
      "text/plain": [
       "4-element Vector{String}:\n",
       " \"1abc2\"\n",
       " \"pqr3stu8vwx\"\n",
       " \"a1b2c3d4e5f\"\n",
       " \"treb7uchet\""
      ]
     },
     "execution_count": 9,
     "metadata": {},
     "output_type": "execute_result"
    }
   ],
   "source": [
    "dataset.test_part_1 # dot notation: variable.fieldname returns the value of that field in the dataset"
   ]
  },
  {
   "cell_type": "markdown",
   "id": "bca6a8ef",
   "metadata": {},
   "source": [
    "Alternatively, we can access the values in the `dataset::NamedTuple` using the square bracket notation (we pass in the key as a [special unique String-like type called a `Symbol`](https://docs.julialang.org/en/v1/base/base/#Core.Symbol):"
   ]
  },
  {
   "cell_type": "code",
   "execution_count": 46,
   "id": "0db63919",
   "metadata": {},
   "outputs": [
    {
     "data": {
      "text/plain": [
       "4-element Vector{String}:\n",
       " \"1abc2\"\n",
       " \"pqr3stu8vwx\"\n",
       " \"a1b2c3d4e5f\"\n",
       " \"treb7uchet\""
      ]
     },
     "execution_count": 46,
     "metadata": {},
     "output_type": "execute_result"
    }
   ],
   "source": [
    "dataset[:test_part_1] # variable[:fieldname] also works where :fieldname is a Symbol"
   ]
  },
  {
   "cell_type": "markdown",
   "id": "5335584a-8ab4-4ce0-8257-8ef26e658abc",
   "metadata": {},
   "source": [
    "### Types and Functions\n",
    "In this section, we'll define some useful composite types and functions for the project. We'll start by defining a mutable type to represent each record in the dataset.\n",
    "\n",
    "#### Types\n",
    "We'll model each record (line of text) using the mutable `MyPuzzleRecordModel` type, which has three fields, and a fancy constructor to create and populate instances of `MyPuzzleRecordModel` from a String. The constructor will take a string, convert it to a vector of characters, and compute the length of the string."
   ]
  },
  {
   "cell_type": "code",
   "execution_count": 13,
   "id": "3f7cc358-0354-4fb8-99e0-5283671fce44",
   "metadata": {},
   "outputs": [],
   "source": [
    "\"\"\"\n",
    "    MyPuzzleRecordModel\n",
    "\n",
    "A mutable struct to represent a record in the puzzle dataset.\n",
    "\n",
    "### Fields:\n",
    "- `record::String`: The original line of text from the dataset.\n",
    "- `characters::Array{Char, 1}`: An array of characters representing the record.\n",
    "- `len::Int64`: The number of characters in the record.\n",
    "\n",
    "The constructor takes a `record::String` and initializes the fields accordingly, \n",
    "converting the string into an array of characters and calculating its length.\n",
    "\"\"\"\n",
    "mutable struct MyPuzzleRecordModel\n",
    "\n",
    "    # data -\n",
    "    record::String # original line of text\n",
    "    characters::Array{Char, 1} # character array for the record\n",
    "    len::Int64 # number of characters for the record\n",
    "\n",
    "    # constructor -\n",
    "    MyPuzzleRecordModel(record::String) = new(record, collect(record), length(record)); # wow, that is fancy!\n",
    "end;"
   ]
  },
  {
   "cell_type": "markdown",
   "id": "c05508d1-0b47-4ca6-bb96-475e5e907087",
   "metadata": {},
   "source": [
    "#### Functions\n",
    "To build a collection of puzzle record models from the raw text held in a `Vector{String}` collection, we formulate a `build(...)` method:"
   ]
  },
  {
   "cell_type": "code",
   "execution_count": 15,
   "id": "dc23edae-a620-46a8-ad17-29b30348d539",
   "metadata": {},
   "outputs": [],
   "source": [
    "\"\"\"\n",
    "    build(modeltype::Type{MyPuzzleRecordModel}, data::Vector{String}) -> Vector{MyPuzzleRecordModel}\n",
    "\n",
    "Builds a vector of populated `MyPuzzleRecordModel` instances from a vector of strings records.\n",
    "\n",
    "### Arguments:\n",
    "- `modeltype::Type{MyPuzzleRecordModel}`: The type of models we want to build.\n",
    "- `data::Vector{String}`: A vector of encoded strings, each representing a record.\n",
    "\n",
    "### Returns:\n",
    "- `Vector{MyPuzzleRecordModel}`: A vector of `MyPuzzleRecordModel` instances, each initialized with a record from the input data.\n",
    "\"\"\"\n",
    "function build(modeltype::Type{MyPuzzleRecordModel}, data::Vector{String})::Vector{MyPuzzleRecordModel}\n",
    "\n",
    "    # initialize -\n",
    "    models = Vector{modeltype}(); # allocate space for the models\n",
    "\n",
    "    # TODO: Use a direct iteration pattern and the puah! function to populate the models::Vector{modeltype}\n",
    "    # TODO: for line ∈ data build a MyPuzzleRecordModel model using the provided constructor, \n",
    "    # TODO: push the model into the models vector using the push! function.\n",
    "    for line ∈ data\n",
    "        push!(models, modeltype(line));\n",
    "    end\n",
    "\n",
    "    return models; # return the vector of models to the caller.\n",
    "end;"
   ]
  },
  {
   "cell_type": "markdown",
   "id": "93700a4f-54c2-4674-8ee6-12f458334336",
   "metadata": {},
   "source": [
    "Next, now that we can build the `MyPuzzleRecordModel` model instances, let's formulate the logic required to decode the text in the `decode_part_1(...)` method. \n",
    "We'll implement this (and the part 2 methods) using an encapsulation with an internal delegation strategy:\n",
    "* _What_? This approach (which is a personal favorite) defines a public method `decode_part_1(...)` that will be the public entry point for decoding the strings, and it will delegate the actual decoding logic to a private method `_decode_part_1(...)`. This lets us keep the public interface clean while encapsulating the implementation details in the private method.\n",
    "* _Private methods_? The private method `_decode_part_1(...)` will be defined with a leading underscore (`_`) to indicate that it is intended for internal use only (users should not call this method directly). This common convention in Julia indicates that a method is private. In other languages, this might be done with access modifiers like `public`, `private`, or `protected`, but in Julia, we'll use naming conventions to indicate the intended visibility of methods (convention, not a rule).\n",
    "* _Why_? This encapsulation with an internal delegation strategy is useful because it allows us to change the implementation of the decoding logic without affecting the public interface. It also makes the code more readable and maintainable by separating the concerns of the public interface from the implementation details.\n",
    "\n",
    "Implement the `_decode_part_1(...)` method:"
   ]
  },
  {
   "cell_type": "code",
   "execution_count": 17,
   "id": "5fc29c87-311d-4dc0-95c4-e8cf0d15e218",
   "metadata": {},
   "outputs": [],
   "source": [
    "# TODO: Implement the _decode_part_1 function to decode a single record.\n",
    "# TODO: This function processes a record, and computes the numeric value from the characters in the record.\n",
    "function _decode_part_1(model::MyPuzzleRecordModel)::Int64\n",
    "\n",
    "    # for this line, get the characters -\n",
    "    characters = model.characters;\n",
    "    digits = filter(isnumeric, characters); # \n",
    "    \n",
    "    value = Array{Char, 1}();\n",
    "    push!(value, digits[1]);\n",
    "    push!(value, digits[end]);\n",
    "\n",
    "    # join the characters and parse the value -\n",
    "    return value |> join |> x-> parse(Int64, x);\n",
    "end\n",
    "\n",
    "\"\"\"\n",
    "    decode_part_1(models::Vector{MyPuzzleRecordModel}) -> Tuple{Int64, Dict{Int64, Int64}}\n",
    "\n",
    "Decodes a vector of `MyPuzzleRecordModel` instances to compute a total value and a mapping of lines to decoded values \n",
    "for number listed as digits in the records. Thhe logic for this case is encoded in the `_decode_part_1` function.\n",
    "\n",
    "### Arguments:\n",
    "- `models::Vector{MyPuzzleRecordModel}`: A vector of `MyPuzzleRecordModel` instances, each representing a record.\n",
    "\n",
    "### Returns:\n",
    "- `Tuple{Int64, Dict{Int64, Int64}}`: A tuple containing:\n",
    "  - An `Int64` representing the total value of all decoded records.\n",
    "  - A `Dict{Int64, Int64}` mapping each record index to its decoded value.\n",
    "\"\"\"\n",
    "function decode_part_1(models::Vector{MyPuzzleRecordModel})::Tuple{Int64, Dict{Int64, Int64}}\n",
    "\n",
    "    # initialize -\n",
    "    total = 0;\n",
    "    codes = Dict{Int64, Int64}();\n",
    "    \n",
    "    # main -\n",
    "    for i ∈ eachindex(models)\n",
    "        model = models[i];\n",
    "        codes[i] = _decode_part_1(model); # we call your part 1 inner logic here!\n",
    "\n",
    "        # total the value -\n",
    "        total += codes[i];\n",
    "    end\n",
    "    \n",
    "    # Return the overall total, and the codes for each line\n",
    "    return (total, codes);\n",
    "end;"
   ]
  },
  {
   "cell_type": "markdown",
   "id": "e48ba0c9-e1ef-4057-b565-64b22945370d",
   "metadata": {},
   "source": [
    "and the `_decode_part_2(...)` method:"
   ]
  },
  {
   "cell_type": "code",
   "execution_count": 19,
   "id": "150fc5c6-1fa2-4ca9-9d12-d0a1ebffbd34",
   "metadata": {},
   "outputs": [],
   "source": [
    "# TODO: Implement the _decode_part_2 function to decode a single record.\n",
    "# TODO: This function processes a record, and computes the numeric value from the characters in the record.\n",
    "function _decode_part_2(model::MyPuzzleRecordModel)::Int\n",
    "\n",
    "     # initialize -\n",
    "    record = model.record;\n",
    "    number_dictionary = Dict(\"one\" => 1, \"two\" => 2, \n",
    "        \"three\" => 3, \"four\" => 4, \"five\" => 5, \n",
    "        \"six\" => 6, \"seven\" => 7, \"eight\" => 8, \n",
    "        \"nine\" => 9, \"zero\" => 0);\n",
    "\n",
    "    # Let's replace the words with the numbers. If we have a number in word form, then add a new start and end character to the word\n",
    "    # and replace the word with the new word.  For example, \"eight\" goes to \"eeightt\". So if we had a word like \"eightwo\"\n",
    "    # Then we would have \"eeighttwoo\". We'll then replace the word with the number.  In this example, we'd have e8t2o.\n",
    "    # Once all the numbers are replaced, we can then use the _decode_part_1 function to parse the value!\n",
    "    for (word, number) in number_dictionary\n",
    "        if occursin(word, record)\n",
    "            \n",
    "            # replace the word with a modified variant -\n",
    "            first_char = word[1] |> string;\n",
    "            last_char = word[end] |> string;\n",
    "            replacement_word = \"$(first_char)$(word)$(last_char)\";\n",
    "            record = replace(record, word => replacement_word) |> x -> replace(x, word => number);\n",
    "        end\n",
    "    end\n",
    "\n",
    "    # update the model -\n",
    "    model.record = record;\n",
    "    model.characters = collect(record);\n",
    "    return _decode_part_1(model); # now, we can use the _decode_part_1 function to parse the value -\n",
    "end\n",
    "\n",
    "\n",
    "\"\"\"\n",
    "    decode_part_2(models::Vector{MyPuzzleRecordModel}) -> Tuple{Int64, Dict{Int64, Int64}}\n",
    "\n",
    "Decodes a vector of `MyPuzzleRecordModel` instances to compute a total value and a mapping of lines to decoded values \n",
    "for number listed as both digits and numbers in the records. The logic for this case is encoded in the `_decode_part_2` function.\n",
    "\n",
    "### Arguments:\n",
    "- `models::Vector{MyPuzzleRecordModel}`: A vector of `MyPuzzleRecordModel` instances, each representing a record.\n",
    "\n",
    "### Returns:\n",
    "- `Tuple{Int64, Dict{Int64, Int64}}`: A tuple containing:\n",
    "  - An `Int64` representing the total value of all decoded records.\n",
    "  - A `Dict{Int64, Int64}` mapping each record index to its decoded value.\n",
    "\"\"\"\n",
    "function decode_part_2(models::Vector{MyPuzzleRecordModel})::Tuple{Int64, Dict{Int64, Int64}}\n",
    "\n",
    "    # initialize -\n",
    "    total = 0;\n",
    "    codes = Dict{Int64, Int64}();\n",
    "    \n",
    "    # main -\n",
    "    for i ∈ eachindex(models)\n",
    "        model = models[i];\n",
    "        codes[i] = _decode_part_2(model); # we call your part 2 inner logic here!\n",
    "\n",
    "        # total the value -\n",
    "        total += codes[i];\n",
    "    end\n",
    "    \n",
    "    # Return the overall total, and the codes for each line\n",
    "    return (total, codes);\n",
    "end;"
   ]
  },
  {
   "cell_type": "markdown",
   "id": "3cf36cf5-0435-454d-86f1-10612ba0c154",
   "metadata": {},
   "source": [
    "## Part 1: Numbers listed as digits\n",
    "Suppose we are given a text document consisting of lines containing a specific integer code that needs to be recovered. The code in each line can be found by combining the first and the last digit (in that order) that appear in the line, to form a single _two-digit integer_. The sum of these integers across all the lines is the _hidden sum_ that needs to be recovered for the document. \n",
    "\n",
    "For example, consider the `test_part_1` document that consists of the following four lines of encoded text:\n",
    "```\n",
    "1abc2\n",
    "pqr3stu8vwx\n",
    "a1b2c3d4e5f\n",
    "treb7uchet\n",
    "```\n",
    "In this example, the code values of these four lines are `12`, `38`, `15`, and `77`. Adding these together produces `142`, the hidden sum for the document."
   ]
  },
  {
   "cell_type": "markdown",
   "id": "0a806f67",
   "metadata": {},
   "source": [
    "### Test your implementation\n",
    "Let's test your part 1 implementation using the `test_part_1` data from the `dataset::NamedTuple` variable. If your implementation is correct, the result should be `142`. This type of _unit test_ will help you verify that your implementation is correct.\n",
    "* _What_? A unit test is a small, in most cases automated test that verifies the correctness of a specific function, i.e., the `decode_part_1(...)` method in isolation. It ensures that a code unit behaves as expected under defined inputs and conditions.\n",
    "\n",
    "In the code block below, we will call the `decode_part_1(...)` method with the `test_part_1` data from the `dataset::NamedTuple` variable, and then we will compare the result to the expected value of `142` using [the @assert macro](https://docs.julialang.org/en/v1/base/base/#Base.@assert):\n",
    "* _Expectation_: If the result does not match the expected value of `142`, the @assert macro will throw an error, indicating that the test has failed. If the result matches the expected value, the test will pass silently.\n",
    "\n",
    "Complete the `decode_part_1(...)` method unit test logic in the code block below:"
   ]
  },
  {
   "cell_type": "code",
   "execution_count": 22,
   "id": "3f132527-419c-4d9e-9051-a524ddf5e8b1",
   "metadata": {},
   "outputs": [],
   "source": [
    "let\n",
    "    # initalize -\n",
    "    input_data = dataset.test_part_1; # or dataset.production for the production data\n",
    "    expected_result = 142; # value we expect to get from the test_part_1 data\n",
    "    \n",
    "    # Call the build function to create the models wih the test_part_1 data, then pass the models to decode_part_1 method\n",
    "    calculated_result = build(MyPuzzleRecordModel, input_data) |> m-> decode_part_1(m);\n",
    "\n",
    "    # assert the result is as expected -\n",
    "    @assert calculated_result[1] == expected_result \"Part 1: Expected total value to be $(expected_result), but got $(calculated_result[1])\";\n",
    "end"
   ]
  },
  {
   "cell_type": "markdown",
   "id": "0d6bf275-13aa-40a0-b460-793b0391c065",
   "metadata": {},
   "source": [
    "Once you have passed the unit test, we can test the part 1 decode logic using the production data from the `dataset::NamedTuple` variable. If your implementation is correct, the result should be `55172`.\n",
    "\n",
    "Write a unit test for the `decode_part_1(...)` method using the production data from the `dataset::NamedTuple` variable in the code block below:"
   ]
  },
  {
   "cell_type": "code",
   "execution_count": 24,
   "id": "b810defd",
   "metadata": {},
   "outputs": [],
   "source": [
    "let\n",
    "\n",
    "    # initalize -\n",
    "    input_data = dataset.production; # or dataset.production for the production data\n",
    "    expected_result = 55172; # value from the production data\n",
    "    \n",
    "    # Call the build function to create the models wih the test_part_1 data, then pass the models to decode_part_1 method\n",
    "    calculated_result = build(MyPuzzleRecordModel, input_data) |> m-> decode_part_1(m);\n",
    "\n",
    "    # assert the result is as expected -\n",
    "    @assert calculated_result[1] == expected_result \"Part 1: Expected total value to be $(expected_result), but got $(calculated_result[1])\";\n",
    "end"
   ]
  },
  {
   "cell_type": "markdown",
   "id": "119ad37d-6b06-4ef6-b27e-9796b3cb3d2d",
   "metadata": {},
   "source": [
    "## Part 2: Numbers listed as digits and words\n",
    "Your calculation from Part 1 needs to be expanded to include the case where our encoded lines have both digits and words. \n",
    "\n",
    "\n",
    "Some of the digits are spelled out with letters: `one,` `two,` `three,` `four,` `five,` `six,` `seven,` `eight,` and `nine` also count as valid `digits.` Given this new information, you now need to find the actual `first` and `last` digits on each line, where we consider both numerical digits and words. The sum of these integers is the actual hidden sum that needs to be recovered.\n",
    "\n",
    "For example, consider the following eight lines of encoded text, provided in the `test_part_2` data:\n",
    "```\n",
    "two1nine\n",
    "eightwothree\n",
    "onetwoneight\n",
    "abcone2threexyz\n",
    "xtwone3four\n",
    "4nineeightseven2\n",
    "zoneight234\n",
    "7pqrstsixteen\n",
    "```\n",
    "In this example, the code values are `29`, `83`, `18`,`13`, `24`, `42`, `14`, and `76`. Adding these `codes` together produces `299`, the hidden sum. However, this is a wrinkle.\n",
    "\n",
    "_Interesting wrinkle_: The `3rd` and `7th` lines contain _frameshift_ edge cases, i.e., where the numerical words are combined with single overlapping characters at the start and end of the word, e.g., `twone,` `oneight` or `sevenine.` Your code needs to handle these additional _frameshift_ cases."
   ]
  },
  {
   "cell_type": "markdown",
   "id": "a4347fd0",
   "metadata": {},
   "source": [
    "### Test your implementation\n",
    "Let's test your part 2 implementation using the `test_part_2` data from the `dataset::NamedTuple` variable. If your implementation is correct, the result should be `199`. \n",
    "\n",
    "In the code block below, we will call the `decode_part_2(...)` method with the `test_part_2` data from the `dataset::NamedTuple` variable, and then we will compare the result to the expected value of `299` using [the @assert macro](https://docs.julialang.org/en/v1/base/base/#Base.@assert):\n",
    "* _Expectation_: If the result does not match the expected value of `299`, the @assert macro will throw an error, indicating that the test has failed. If the result matches the expected value, the test will pass silently.\n",
    "\n",
    "Complete the `decode_part_2(...)` method unit test logic in the code block below:"
   ]
  },
  {
   "cell_type": "code",
   "execution_count": 27,
   "id": "9c34d0c8",
   "metadata": {},
   "outputs": [],
   "source": [
    "let\n",
    "\n",
    "    # initalize -\n",
    "    input_data = dataset.test_part_2; # or dataset.production for the production data\n",
    "    expected_result = 299; # value from the production data\n",
    "    \n",
    "    # Call the build function to create the models wih the test_part_1 data, then pass the models to decode_part_1 method\n",
    "    calculated_result = build(MyPuzzleRecordModel, input_data) |> m-> decode_part_2(m);\n",
    "\n",
    "    # assert the result is as expected -\n",
    "    @assert calculated_result[1] == expected_result \"Part 2: Expected total value to be $(expected_result), but got $(calculated_result[1])\";\n",
    "end"
   ]
  },
  {
   "cell_type": "markdown",
   "id": "6010393e",
   "metadata": {},
   "source": [
    "Once you have passed the unit test, we can test the part 2 decode logic using the production data from the `dataset::NamedTuple` variable. If your implementation is correct, the result should be `54925`.\n",
    "\n",
    "Write a unit test for the `decode_part_2(...)` method using the production data from the `dataset::NamedTuple` variable in the code block below:"
   ]
  },
  {
   "cell_type": "code",
   "execution_count": 29,
   "id": "8a532d7e-737f-4453-9bb4-100160293105",
   "metadata": {},
   "outputs": [],
   "source": [
    "let\n",
    "\n",
    "    # initalize -\n",
    "    input_data = dataset.production; # or dataset.production for the production data\n",
    "    expected_result = 54925; # value from the production data\n",
    "    \n",
    "    # Call the build function to create the models wih the test_part_1 data, then pass the models to decode_part_1 method\n",
    "    calculated_result = build(MyPuzzleRecordModel, input_data) |> m-> decode_part_2(m);\n",
    "\n",
    "    # assert the result is as expected -\n",
    "    @assert calculated_result[1] == expected_result \"Part 1: Expected total value to be $(expected_result), but got $(calculated_result[1])\";\n",
    "end"
   ]
  }
 ],
 "metadata": {
  "kernelspec": {
   "display_name": "Julia 1.11.5",
   "language": "julia",
   "name": "julia-1.11"
  },
  "language_info": {
   "file_extension": ".jl",
   "mimetype": "application/julia",
   "name": "julia",
   "version": "1.11.5"
  }
 },
 "nbformat": 4,
 "nbformat_minor": 5
}
