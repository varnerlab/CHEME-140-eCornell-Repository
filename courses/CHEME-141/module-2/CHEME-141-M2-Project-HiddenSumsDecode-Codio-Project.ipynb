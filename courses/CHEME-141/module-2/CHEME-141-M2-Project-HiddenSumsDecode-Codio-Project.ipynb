{
 "cells": [
  {
   "cell_type": "markdown",
   "id": "59047b73-ab1c-40ff-8616-1db18c8fb118",
   "metadata": {},
   "source": [
    "# Project: Decode Hidden Sums from a Set of Strings\n",
    "This project gives students practice working with many of the types and topics we've been talking about, namely, [Strings](https://docs.julialang.org/en/v1/manual/strings/#man-strings), [Characters](https://docs.julialang.org/en/v1/manual/strings/#man-characters), [Arrays](https://docs.julialang.org/en/v1/manual/arrays/#man-arrays-1), [Dictionaries](https://docs.julialang.org/en/v1/base/collections/#Base.Dict) and [Loops](https://docs.julialang.org/en/v1/manual/control-flow/#man-loops-1) and developing [functions](https://docs.julialang.org/en/v1/manual/functions/#man-functions). The project is divided into two parts and was inspired by the [2023 Day 1 Advent of Code challenge](https://adventofcode.com/).\n",
    "\n",
    "In this project, you will be given a set of strings, each containing a series of characters. Your task is to decode these strings to find the hidden sums they represent. The strings will contain characters that correspond to numbers as digits and numbers as words, and your goal is to extract these numbers and compute their sum.\n",
    "\n",
    "However, before we get started on the project, we'll do some setup, and you'll develop some functions that will be useful for the project. Let's go!\n",
    "\n",
    "___"
   ]
  },
  {
   "cell_type": "markdown",
   "id": "c85742a3-39d2-46d6-86ef-8d5f5aa31d43",
   "metadata": {},
   "source": [
    "## Setup, Data, and Prerequisites\n",
    "First, we set up the computational environment by including the `Include.jl` file and loading any needed resources.\n",
    "* The [include command](https://docs.julialang.org/en/v1/base/base/#include) evaluates the contents of the input source file, `Include.jl`, in the notebook's global scope. The `Include.jl` file sets paths, loads required external packages, etc. For additional information on functions and types used in this material, see the [Julia programming language documentation](https://docs.julialang.org/en/v1/). In addition to standard Julia libraries, we'll also use a few items from [the `VLDataScienceMachineLearningPackage.jl` package](https://github.com/varnerlab/VLDataScienceMachineLearningPackage.jl)."
   ]
  },
  {
   "cell_type": "code",
   "execution_count": null,
   "id": "a60eab86-7ded-4d38-b67b-edfc588b8ea2",
   "metadata": {},
   "outputs": [],
   "source": [
    "include(\"Include.jl\"); # setup the environment"
   ]
  },
  {
   "cell_type": "markdown",
   "id": "52d496d2-a034-4849-b250-c342975847ca",
   "metadata": {},
   "source": [
    "### Data\n",
    "Next, we'll load the data for this project using [the `MyStringDecodeChallengeDataset()` method exported by the `VLDataScienceMachineLearningPackage.jl` package](https://varnerlab.github.io/VLDataScienceMachineLearningPackage.jl/dev/data/#VLDataScienceMachineLearningPackage.MyStringDecodeChallengeDataset). This method returns the project data in [a `NamedTuple` instance](https://docs.julialang.org/en/v1/base/base/#Core.NamedTuple), let's save this in the `dataset::NamedTuple` variable:"
   ]
  },
  {
   "cell_type": "code",
   "execution_count": null,
   "id": "ef07d3e9-6ff8-46cf-9203-7e3c45e0cff0",
   "metadata": {},
   "outputs": [],
   "source": [
    "dataset = MyStringDecodeChallengeDataset(); # NamedTuple dataset"
   ]
  },
  {
   "cell_type": "markdown",
   "id": "0398132a-7a87-4eb7-8c38-b259a5999030",
   "metadata": {},
   "source": [
    "The `dataset::NamedTuple` variable holds the project data, using a `key => value` arrangement. However, what are the keys? To get the names of the keys (fields) in `dataset::NamedTuple` we can use [the `keys(...)` method](https://docs.julialang.org/en/v1/base/arrays/#Base.keys-Tuple%7BAbstractArray%7D):"
   ]
  },
  {
   "cell_type": "code",
   "execution_count": null,
   "id": "1667ea3b-f3f1-481c-88a8-37bb6d3b2fcd",
   "metadata": {},
   "outputs": [
    {
     "data": {
      "text/plain": [
       "(:test_part_1, :test_part_2, :production)"
      ]
     },
     "execution_count": 7,
     "metadata": {},
     "output_type": "execute_result"
    }
   ],
   "source": [
    "keys(dataset) # this returns the keys of the data in the dataset::NamedTuple"
   ]
  },
  {
   "cell_type": "markdown",
   "id": "7eba13d2-aecf-46ea-a6e2-80c3c7ef9e59",
   "metadata": {},
   "source": [
    "We see that `dataset::NamedTuple` has three possible keys (fields):\n",
    "* The field __test_part_1__ points to a `Vector{String}` which contains the testing data for Part 1 of the project. To access this data: `dataset.test_part_1`. The hidden sum for the part 1 test data is `142`.\n",
    "* The field __test_part_2__ points to a `Vector{String}` which contains the testing data for Part 2 of the project. To access this data: `dataset.test_part_2`. The hidden sum for the part 2 data is `299`.\n",
    "* The field __production__ points to a `Vector{String}` which contains the production data for this project. To access this data: `dataset.production`. The hidden sum for the production data including only visible digits is `55172`, while digits + words is `54925`."
   ]
  },
  {
   "cell_type": "markdown",
   "id": "5335584a-8ab4-4ce0-8257-8ef26e658abc",
   "metadata": {},
   "source": [
    "### Types and Functions\n",
    "We'll model each record (line of text) using the mutable `MyPuzzleRecordModel` type, which has three fields:"
   ]
  },
  {
   "cell_type": "code",
   "execution_count": 10,
   "id": "3f7cc358-0354-4fb8-99e0-5283671fce44",
   "metadata": {},
   "outputs": [],
   "source": [
    "mutable struct MyPuzzleRecordModel\n",
    "\n",
    "    # data -\n",
    "    record::String # original line of text\n",
    "    characters::Array{Char, 1} # character array for the record\n",
    "    len::Int64 # number of characters for the record\n",
    "\n",
    "    # constructor -\n",
    "    MyPuzzleRecordModel(record::String) = new(record, collect(record), length(record)); # wow, that is fancy!\n",
    "end"
   ]
  },
  {
   "cell_type": "markdown",
   "id": "c05508d1-0b47-4ca6-bb96-475e5e907087",
   "metadata": {},
   "source": [
    "To build a collection of puzzle record models from the raw text held in `Vector{String}`, we formulate a build method:"
   ]
  },
  {
   "cell_type": "code",
   "execution_count": 12,
   "id": "dc23edae-a620-46a8-ad17-29b30348d539",
   "metadata": {},
   "outputs": [
    {
     "data": {
      "text/plain": [
       "build (generic function with 1 method)"
      ]
     },
     "execution_count": 12,
     "metadata": {},
     "output_type": "execute_result"
    }
   ],
   "source": [
    "function build(modeltype::Type{MyPuzzleRecordModel}, data::Vector{String})::Vector{MyPuzzleRecordModel}\n",
    "\n",
    "    # initialize -\n",
    "    models = Vector{modeltype}(); # load up some space\n",
    "\n",
    "    # process each line of text\n",
    "    for line ∈ data\n",
    "        push!(models, modeltype(line));\n",
    "    end\n",
    "\n",
    "    return models; # return the vector of models to the caller.\n",
    "end"
   ]
  },
  {
   "cell_type": "markdown",
   "id": "93700a4f-54c2-4674-8ee6-12f458334336",
   "metadata": {},
   "source": [
    "Next, now that we can build the models, let's formulate the logic required to decode the text in the `decode_part_1(...)` method (where your logic will go in the `_decode_part_1(...)` private implementation):"
   ]
  },
  {
   "cell_type": "code",
   "execution_count": 14,
   "id": "5fc29c87-311d-4dc0-95c4-e8cf0d15e218",
   "metadata": {},
   "outputs": [],
   "source": [
    "function _decode_part_1(model::MyPuzzleRecordModel)::Int64\n",
    "\n",
    "    # for this line, get the characters -\n",
    "    characters = model.characters;\n",
    "    digits = filter(isnumeric, characters); # \n",
    "    \n",
    "    value = Array{Char, 1}();\n",
    "    push!(value, digits[1]);\n",
    "    push!(value, digits[end]);\n",
    "\n",
    "    # join the characters and parse the value -\n",
    "    return value |> join |> x-> parse(Int64, x);\n",
    "end\n",
    "\n",
    "function decode_part_1(models::Vector{MyPuzzleRecordModel})::Tuple{Int64, Dict{Int64, Int64}}\n",
    "\n",
    "    # initialize -\n",
    "    total = 0;\n",
    "    codes = Dict{Int64, Int64}();\n",
    "    \n",
    "    # main -\n",
    "    for i ∈ eachindex(models)\n",
    "        model = models[i];\n",
    "        codes[i] = _decode_part_1(model); # we call your part 1 inner logic here!\n",
    "\n",
    "        # total the value -\n",
    "        total += codes[i];\n",
    "    end\n",
    "    \n",
    "    # Return the overall total, and the codes for each line\n",
    "    return (total, codes);\n",
    "end;"
   ]
  },
  {
   "cell_type": "markdown",
   "id": "e48ba0c9-e1ef-4057-b565-64b22945370d",
   "metadata": {},
   "source": [
    "and the `decode_part_2(...)` and `_decode_part_2(...)` methods:"
   ]
  },
  {
   "cell_type": "code",
   "execution_count": 16,
   "id": "150fc5c6-1fa2-4ca9-9d12-d0a1ebffbd34",
   "metadata": {},
   "outputs": [],
   "source": [
    "function _decode_part_2(model::MyPuzzleRecordModel)::Int\n",
    "\n",
    "     # initialize -\n",
    "    record = model.record;\n",
    "    number_dictionary = Dict(\"one\" => 1, \"two\" => 2, \n",
    "        \"three\" => 3, \"four\" => 4, \"five\" => 5, \n",
    "        \"six\" => 6, \"seven\" => 7, \"eight\" => 8, \n",
    "        \"nine\" => 9, \"zero\" => 0);\n",
    "\n",
    "    # Let's replace the words with the numbers. If we have a number in word form, then add a new start and end character to the word\n",
    "    # and replace the word with the new word.  For example, \"eight\" goes to \"eeightt\". So if we had a word like \"eightwo\"\n",
    "    # Then we would have \"eeighttwoo\". We'll then replace the word with the number.  In this example, we'd have e8t2o.\n",
    "    # Once all the numbers are replaced, we can then use the _decode_part_1 function to parse the value!\n",
    "    for (word, number) in number_dictionary\n",
    "        if occursin(word, record)\n",
    "            \n",
    "            # replace the word with a modified variant -\n",
    "            first_char = word[1] |> string;\n",
    "            last_char = word[end] |> string;\n",
    "            replacement_word = \"$(first_char)$(word)$(last_char)\";\n",
    "            record = replace(record, word => replacement_word) |> x -> replace(x, word => number);\n",
    "        end\n",
    "    end\n",
    "\n",
    "    # update the model -\n",
    "    model.record = record;\n",
    "    model.characters = collect(record);\n",
    "\n",
    "    # now, we can use the _decode_part_1 function to parse the value -\n",
    "    return _decode_part_1(model);\n",
    "end\n",
    "\n",
    "function decode_part_2(models::Vector{MyPuzzleRecordModel})::Tuple{Int64, Dict{Int64, Int64}}\n",
    "\n",
    "    # initialize -\n",
    "    total = 0;\n",
    "    codes = Dict{Int64, Int64}();\n",
    "    \n",
    "    # main -\n",
    "    for i ∈ eachindex(models)\n",
    "        model = models[i];\n",
    "        codes[i] = _decode_part_2(model); # we call your part 2 inner logic here!\n",
    "\n",
    "        # total the value -\n",
    "        total += codes[i];\n",
    "    end\n",
    "    \n",
    "    # Return the overall total, and the codes for each line\n",
    "    return (total, codes);\n",
    "end;"
   ]
  },
  {
   "cell_type": "markdown",
   "id": "3cf36cf5-0435-454d-86f1-10612ba0c154",
   "metadata": {},
   "source": [
    "## Part 1: Numbers as Digits\n",
    "Suppose we are given a text document consisting of lines of text, each containing a specific integer code that needs to be recovered. The code in each line can be found by combining the first and the last digit (in that order) that appear in the line, to form a single _two-digit integer_. The sum of these integers across all the lines is the _hidden sum_ that needs to be recovered for the document. \n",
    "\n",
    "For example, consider the `test_part_1` document that consists of the following four lines of encoded text:\n",
    "```\n",
    "1abc2\n",
    "pqr3stu8vwx\n",
    "a1b2c3d4e5f\n",
    "treb7uchet\n",
    "```\n",
    "In this example, the code values of these four lines are `12`, `38`, `15`, and `77`. Adding these together produces `142`, the hidden sum for the document."
   ]
  },
  {
   "cell_type": "code",
   "execution_count": 18,
   "id": "3f132527-419c-4d9e-9051-a524ddf5e8b1",
   "metadata": {},
   "outputs": [
    {
     "data": {
      "text/plain": [
       "(55172, Dict(719 => 63, 699 => 11, 831 => 83, 319 => 21, 687 => 33, 185 => 79, 823 => 55, 420 => 88, 525 => 33, 365 => 27…))"
      ]
     },
     "execution_count": 18,
     "metadata": {},
     "output_type": "execute_result"
    }
   ],
   "source": [
    "result = build(MyPuzzleRecordModel, dataset.production) |> m-> decode_part_1(m)"
   ]
  },
  {
   "cell_type": "code",
   "execution_count": null,
   "id": "0d6bf275-13aa-40a0-b460-793b0391c065",
   "metadata": {},
   "outputs": [],
   "source": []
  },
  {
   "cell_type": "markdown",
   "id": "119ad37d-6b06-4ef6-b27e-9796b3cb3d2d",
   "metadata": {},
   "source": [
    "## Part 2\n",
    "As it turns out, your calculation from Part 1 needs to be corrected. Some of the digits are spelled out with letters: `one,` `two,` `three,` `four,` `five,` `six,` `seven,` `eight,` and `nine` also count as valid `digits.` Given this new information, you now need to find the actual `first` and `last` digits on each line, where we consider both numerical digits and words. The sum of these integers is the `true hidden sum` that needs to be recovered.\n",
    "\n",
    "For example, consider the following `8-lines` of encoded text, provided in the `test_part_2.txt` file in the `data` directory:\n",
    "```\n",
    "two1nine\n",
    "eightwothree\n",
    "onetwoneight\n",
    "abcone2threexyz\n",
    "xtwone3four\n",
    "4nineeightseven2\n",
    "zoneight234\n",
    "7pqrstsixteen\n",
    "```\n",
    "In this example, the code values are `29`, `83`, `18`,`13`, `24`, `42`, `14`, and `76`. Adding these `codes` together produces `299`, the `true hidden sum.` \n",
    "* `Interesting wrinkle`: The `3rd` and `7th` lines contain `frameshift` edge cases, i.e., where the numerical words are combined with single overlapping characters at the start and end of the word, e.g., `twone,` `oneight` or `sevenine.` Your code needs to handle `frameshift` cases."
   ]
  },
  {
   "cell_type": "code",
   "execution_count": 20,
   "id": "8a532d7e-737f-4453-9bb4-100160293105",
   "metadata": {},
   "outputs": [
    {
     "data": {
      "text/plain": [
       "(54925, Dict(719 => 68, 699 => 43, 831 => 83, 319 => 22, 687 => 33, 185 => 79, 823 => 57, 420 => 58, 525 => 33, 365 => 22…))"
      ]
     },
     "execution_count": 20,
     "metadata": {},
     "output_type": "execute_result"
    }
   ],
   "source": [
    "result = build(MyPuzzleRecordModel, dataset.production) |> m-> decode_part_2(m)"
   ]
  },
  {
   "cell_type": "code",
   "execution_count": null,
   "id": "07e1b952-f9db-402f-a512-6eefa660597e",
   "metadata": {},
   "outputs": [],
   "source": []
  }
 ],
 "metadata": {
  "kernelspec": {
   "display_name": "Julia 1.11.5",
   "language": "julia",
   "name": "julia-1.11"
  },
  "language_info": {
   "file_extension": ".jl",
   "mimetype": "application/julia",
   "name": "julia",
   "version": "1.11.5"
  }
 },
 "nbformat": 4,
 "nbformat_minor": 5
}
