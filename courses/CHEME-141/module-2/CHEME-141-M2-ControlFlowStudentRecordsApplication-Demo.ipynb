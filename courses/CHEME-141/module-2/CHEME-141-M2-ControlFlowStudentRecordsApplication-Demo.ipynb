{
 "cells": [
  {
   "cell_type": "markdown",
   "id": "73e1bd56-9799-4aa8-a989-135be6dfdb22",
   "metadata": {},
   "source": [
    "# Demo: Control Flow and Conditional Execution Concepts\n",
    "In this demonstration, we will explore different control flow an conditional execution concepts, such as if-else statements, and short-circuit evaluation. Let's start with some definitions and use cases.\n",
    "* The __if-else paradigm__ is a control flow construct where a boolean condition is evaluated, and if it is true, a specific block of code is executed; otherwise, an alternative block (the else) may run. It enables branching logic by directing program execution along different paths based on boolean conditions.\n",
    "* __Short-circuit evaluation__ is a paradigm in which multiple boolean cases must be checked, where chains of logical expressions (separed by AND or OR opeators e.g., `&&` and `||`) are evaluated left-to-right and stop as soon as the overall result is determined, preventing evaluation of unnecessary operands. This improves efficiency and avoids unintended side effects by not executing expressions that won’t affect the final outcome.\n",
    "\n",
    "While we are going to show some examples in Julia, these concepts are common in many (if not all) programming languages.\n",
    "* __History__: The if-else paradigm originated from early branch instructions and arithmetic IF constructs in first-generation languages like Fortran in the 1950s, and was formalized into structured if-then-else blocks in ALGOL around 1960, promoting clearer control flow over goto-based logic. The idea of conditional expressions was further advanced by John McCarthy in his late-1950s work on Lisp, embedding if-then-else as a fundamental construct in symbolic processing and influencing modern programming languages’ control.\n",
    "\n",
    "To demonstrate these concepts, we'll build a simple student application that evaluates a student's score and determines their grade using some logic. Let' go!\n",
    "___"
   ]
  },
  {
   "cell_type": "markdown",
   "id": "c1a25d91",
   "metadata": {},
   "source": []
  }
 ],
 "metadata": {
  "kernelspec": {
   "display_name": "Python 3 (ipykernel)",
   "language": "python",
   "name": "python3"
  },
  "language_info": {
   "codemirror_mode": {
    "name": "ipython",
    "version": 3
   },
   "file_extension": ".py",
   "mimetype": "text/x-python",
   "name": "python",
   "nbconvert_exporter": "python",
   "pygments_lexer": "ipython3",
   "version": "3.11.8"
  }
 },
 "nbformat": 4,
 "nbformat_minor": 5
}
