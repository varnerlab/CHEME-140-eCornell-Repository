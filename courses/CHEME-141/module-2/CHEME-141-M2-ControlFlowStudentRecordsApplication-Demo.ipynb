{
 "cells": [
  {
   "cell_type": "markdown",
   "id": "73e1bd56-9799-4aa8-a989-135be6dfdb22",
   "metadata": {},
   "source": [
    "# Demo: Control Flow and Conditional Execution Concepts\n",
    "In this demonstration, we will explore different control flow an conditional execution concepts, such as if-else statements, and short-circuit evaluation. Let's start with some definitions:\n",
    "* The __if-else paradigm__ is a control flow construct where a boolean condition is evaluated, and if it is `true`, a specific block of code is executed; otherwise, if it is `false` an alternative block (the else) may run. It enables branching logic by directing program execution along different paths based on boolean conditions.\n",
    "* __Short-circuit evaluation__ is a paradigm in which multiple boolean cases must be checked, where chains of logical expressions (separed by AND or OR opeators e.g., `&&` and `||`) are evaluated left-to-right and stop as soon as the overall result is determined, preventing evaluation of unnecessary operands. This improves efficiency and avoids unintended side effects by not executing expressions that won’t affect the final outcome.\n",
    "\n",
    "While we are going to show some examples in Julia, these concepts are common in many (if not all) programming languages.\n",
    "* __History__: The if-else paradigm originated from early branch instructions and arithmetic IF constructs in first-generation languages like Fortran in the 1950s, and was formalized into structured if-then-else blocks in ALGOL around 1960, promoting clearer control flow over goto-based logic. The idea of conditional expressions was further advanced by John McCarthy in his late-1950s work on Lisp, embedding if-then-else as a fundamental construct in symbolic processing and influencing modern programming languages’ control.\n",
    "\n",
    "To demonstrate these concepts, we'll build a simple student record application that stores student information, and some logic to search for particular students are collections of students. Let's go!\n",
    "___"
   ]
  },
  {
   "cell_type": "markdown",
   "id": "c1a25d91",
   "metadata": {},
   "source": [
    "## Setup, Data, and Prerequisites\n",
    "First, we set up the computational environment by including the `Include.jl` file and loading any needed resources.\n",
    "* The [include command](https://docs.julialang.org/en/v1/base/base/#include) evaluates the contents of the input source file, `Include.jl`, in the notebook's global scope. The `Include.jl` file sets paths, loads required external packages, etc. For additional information on functions and types used in this material, see the [Julia programming language documentation](https://docs.julialang.org/en/v1/). \n",
    "* In addition to standard Julia libraries, we'll also use [the `VLDataScienceMachineLearningPackage.jl` package](https://github.com/varnerlab/VLDataScienceMachineLearningPackage.jl), check out that documentation for more information on the functions and types used in this material."
   ]
  },
  {
   "cell_type": "code",
   "execution_count": 1,
   "id": "e4d1db44",
   "metadata": {},
   "outputs": [],
   "source": [
    "include(\"Include.jl\");"
   ]
  },
  {
   "cell_type": "markdown",
   "id": "ae92e4c1",
   "metadata": {},
   "source": [
    "### Types and Functions\n",
    "Let's start by defining mutable `MySimpleStudentModel` type, which will represent a student record. This type will include fields for the student's first name, last name, student identification number, and thier netid (email). \n",
    "* _Why a mutable type?_ Mutable types allow for modification of their fields after creation, which is useful for objects that may need to be updated or changed over time, such as student records. Additonally, mutable types offer different possible initialization options, such as default values for fields.\n",
    "* _Keyword argument constructor_: The constructor allows for the creation of `MySimpleStudentModel` objects with default values for fields, making it easier to instantiate objects without providing all arguments. Thus, we can create an empty student record with default values for each field."
   ]
  },
  {
   "cell_type": "code",
   "execution_count": 2,
   "id": "9f7c12c5",
   "metadata": {},
   "outputs": [],
   "source": [
    "\"\"\"\n",
    "    mutable struct MySimpleStudentModel\n",
    "\n",
    "A mutable struct that models a student with a firstname, lastname, student id and a netid.\n",
    "\n",
    "### Fields\n",
    "- `firstname::String`: The first name of the student.\n",
    "- `lastname::String`: The last name of the student.\n",
    "- `sid::Int64`: The student identification number.\n",
    "- `netid::String`: The network identifier (email address) of the student.\n",
    "\"\"\"\n",
    "mutable struct MySimpleStudentModel\n",
    "\n",
    "    # data fields -\n",
    "    firstname::String\n",
    "    lastname::String\n",
    "    sid::Int64\n",
    "    netid::String\n",
    "    \n",
    "    # keyword argument constructor: builds a new student model with default values\n",
    "    MySimpleStudentModel(; firstname::String = \"firstname\", \n",
    "        lastname::String = \"lastname\", sid::Int64 = -1, netid::String = \"abcd\") = new(firstname, lastname, sid, netid);\n",
    "end;"
   ]
  },
  {
   "cell_type": "markdown",
   "id": "110e7b10",
   "metadata": {},
   "source": [
    "We can build an empty (each field is set to a default value) student record as follows by calling the constructor with no arguments. Let's do thay and save the default student model in a variable `teststudent`:\n",
    "```julia"
   ]
  },
  {
   "cell_type": "code",
   "execution_count": 3,
   "id": "00abee69",
   "metadata": {},
   "outputs": [],
   "source": [
    "teststudent = MySimpleStudentModel(); # all the fields are set to default values"
   ]
  },
  {
   "cell_type": "markdown",
   "id": "9a40f11d",
   "metadata": {},
   "source": [
    "We access the fields of the student record using dot notation, e.g., `student.firstname` to access the `first_name` field of the `student` object:"
   ]
  },
  {
   "cell_type": "code",
   "execution_count": 4,
   "id": "314ac2de",
   "metadata": {},
   "outputs": [
    {
     "data": {
      "text/plain": [
       "\"firstname\""
      ]
     },
     "metadata": {},
     "output_type": "display_data"
    }
   ],
   "source": [
    "teststudent.firstname"
   ]
  },
  {
   "cell_type": "markdown",
   "id": "8d5268e8",
   "metadata": {},
   "source": [
    "## Implement a factory method to build and configure a student model instance\n",
    "In this task, we'll implement a `build(...)` method that builds and configures a `MySimpleStudentModel` struct. \n",
    "* __Pattern__: In the rest of the course, we will use the `build(...)` method pattern to create and configure instances of various composite types. This pattern is useful for encapsulating the logic of creating and initializing objects, especially when there are multiple ways to construct an object or when additional configuration, or validation is needed.\n",
    "\n",
    "Let's implement a `build(model::Type{MySimpleStudentModel}; data::NamedTuple)::MyStudentModel` method which takes the type of thing we want to build, and the data need to build the model [in a `NamedTuple` instance](https://docs.julialang.org/en/v1/base/base/#Core.NamedTuple). The `build(...)` returns a populated `MySimpleStudentModel` instance."
   ]
  },
  {
   "cell_type": "code",
   "execution_count": null,
   "id": "b8d6b073",
   "metadata": {},
   "outputs": [],
   "source": [
    "\"\"\"\n",
    "    build(modeltype::Type{MySimpleStudentModel}, data::NamedTuple)::MySimpleStudentModel\n",
    "\n",
    "Builds a new `MySimpleStudentModel` from a named tuple of data.\n",
    "\n",
    "### Arguments\n",
    "- `modeltype::Type{MySimpleStudentModel}`: The type of the model to be built.\n",
    "- `data::NamedTuple`: A named tuple containing the fields to be set in the model.\n",
    "\n",
    "### Returns\n",
    "- `MySimpleStudentModel`: A new instance of `MySimpleStudentModel` with the fields set from the named tuple.\n",
    "\"\"\"\n",
    "function build(modeltype::Type{MySimpleStudentModel}, data::NamedTuple)::MySimpleStudentModel\n",
    "    \n",
    "    # initailize -\n",
    "    model = modeltype(); # This builds an empty model (with default values)\n",
    "\n",
    "    # TODO: Unomment the following lines to set the fields of the model\n",
    "    # get data from the named tuple and set the fields of the model\n",
    "    model.firstname = data.firstname;\n",
    "    model.lastname = data.lastname;\n",
    "    model.sid = data.sid;\n",
    "    model.netid = data.netid;\n",
    "    \n",
    "    # return -\n",
    "    return model;\n",
    "end;"
   ]
  },
  {
   "cell_type": "markdown",
   "id": "1e7e5b5c",
   "metadata": {},
   "source": [
    "### TODO: Build a test student model\n",
    "Once we implemented our `build(...)` method, construct a `MySimpleStudentModel` instance with specified values for the fields of the model. Let's save the result in the `test_student_model::MySimpleStudentModel` variable, and the data we used to build the model in a `NamedTuple` instance called `test_student_data`.\n",
    "\n",
    "```julia"
   ]
  },
  {
   "cell_type": "code",
   "execution_count": 6,
   "id": "40fc4155",
   "metadata": {},
   "outputs": [],
   "source": [
    "test_student_model, test_student_data = let\n",
    "\n",
    "    # Specify the data for the model\n",
    "    data = (firstname = \"John\", lastname = \"Doe\", sid = 123456, netid = \"jd235\");\n",
    "    model = build(MySimpleStudentModel, data);\n",
    "\n",
    "    model, data; # return the model\n",
    "end;"
   ]
  },
  {
   "cell_type": "code",
   "execution_count": 7,
   "id": "0715cb0b",
   "metadata": {},
   "outputs": [
    {
     "data": {
      "text/plain": [
       "MySimpleStudentModel(\"John\", \"Doe\", 123456, \"jd235\")"
      ]
     },
     "metadata": {},
     "output_type": "display_data"
    }
   ],
   "source": [
    "test_student_model"
   ]
  },
  {
   "cell_type": "markdown",
   "id": "b064f3e0",
   "metadata": {},
   "source": [
    "### TODO: Test your student model instance\n",
    "Now that we have constructed our `test_student_model` instance let's develop [some unit tests](https://en.wikipedia.org/wiki/Unit_testing) to ensure the model's type and data are correct.\n",
    "* __What are [unit tests](https://en.wikipedia.org/wiki/Unit_testing)__? Unit testing is a form of software testing by which isolated source code components, a.k.a units, are tested to validate expected behavior. This form of testing is a ground-up perspective in which we validate each system unit.\n",
    "\n",
    "The first test we do is to determine whether the correct build method is being called by validating the type of model object being returned using [the `isa(...)` method](https://docs.julialang.org/en/v1/base/base/#Core.isa). "
   ]
  },
  {
   "cell_type": "code",
   "execution_count": 8,
   "id": "334351db",
   "metadata": {},
   "outputs": [],
   "source": [
    "@assert isa(test_student_model, MySimpleStudentModel) # check if the model is of type MySimpleStudentModel"
   ]
  },
  {
   "cell_type": "markdown",
   "id": "2a8ee64f",
   "metadata": {},
   "source": [
    "Next, test whether the values fields of the student model are the correct types and have the correct values. These tests use the short-circuit `&&` operator to verify the value of each field. \n",
    "* _What_? The logical `&&` operator takes two boolean expressions and evaluates them left-to-right, returning `true` if both are `true`, otherwise it returns `false`. If the first expression is `false`, the second expression is not evaluated (short-circuiting). For more information on `&&` check-out the [Julia Short-Circuit conditional statement documentation](https://docs.julialang.org/en/v1/manual/control-flow/#Short-Circuit-Evaluation). \n",
    "\n",
    "First, we'll test the types of the data fields using [the `isa(...)` method](https://docs.julialang.org/en/v1/base/base/#Core.isa) in combination with [the logical and operator `&&`](https://docs.julialang.org/en/v1/manual/control-flow/#Short-Circuit-Evaluation):"
   ]
  },
  {
   "cell_type": "code",
   "execution_count": 9,
   "id": "cfd85eef",
   "metadata": {},
   "outputs": [],
   "source": [
    "@assert (isa(test_student_model.sid, Int) && isa(test_student_model.netid, String) && \n",
    "         isa(test_student_model.firstname, String) && isa(test_student_model.lastname, String)) # check if the fields are of the correct typ"
   ]
  },
  {
   "cell_type": "markdown",
   "id": "199b5f3d",
   "metadata": {},
   "source": [
    "Then test the values held in the data fields using the equality `==` operator:"
   ]
  },
  {
   "cell_type": "code",
   "execution_count": 10,
   "id": "a15349df",
   "metadata": {},
   "outputs": [],
   "source": [
    "@assert test_student_model.firstname == test_student_data.firstname\n",
    "@assert test_student_model.lastname == test_student_data.lastname\n",
    "@assert test_student_model.sid == test_student_data.sid\n",
    "@assert test_student_model.netid == test_student_data.netid"
   ]
  },
  {
   "cell_type": "markdown",
   "id": "01e4a44f",
   "metadata": {},
   "source": [
    "or using [the logical and operator `&&`](https://docs.julialang.org/en/v1/manual/control-flow/#Short-Circuit-Evaluation). What should these values be?"
   ]
  },
  {
   "cell_type": "code",
   "execution_count": 11,
   "id": "b2b955ad",
   "metadata": {},
   "outputs": [],
   "source": [
    "@assert (test_student_model.firstname == test_student_data.firstname && \n",
    "        test_student_model.lastname == test_student_data.lastname &&\n",
    "        test_student_model.sid == test_student_data.sid &&\n",
    "        test_student_model.netid == test_student_data.netid);"
   ]
  },
  {
   "cell_type": "markdown",
   "id": "2ff948c7",
   "metadata": {},
   "source": [
    "## Analysis of a student record search function\n",
    "In this task, we will debug an existing implementation of the `find(...)` method which returns the index of a student object by matching the `sid::Int64` and `netid::String` fields with a test student object.\n",
    "\n",
    "First, let's look at an implementation of a [`find(...)` method](src/Compute.jl). This method takes a collection of student models and values for the fields of the student we want and returns either the student index `sid::Int64` matching the other search fields or `nothing`.\n",
    "* __What is the sigficance of the `&&` operator in the `find(...)` method?__ The `&&` operator is used to combine multiple boolean conditions in the search logic. It ensures that _all conditions must be true_ for a student to be considered a match. If any condition is false, the student is skipped."
   ]
  },
  {
   "cell_type": "code",
   "execution_count": null,
   "id": "732d578b",
   "metadata": {},
   "outputs": [],
   "source": [
    "\"\"\"\n",
    "    find(students::Array{MySimpleStudentModel,1}; netid::String=\"jdv27\", firstname::String = \"firstname\", \n",
    "        lastname::String = \"lastname\") -> Union{Int64, Nothing}\n",
    "\n",
    "Finds a student in the array of `MySimpleStudentModel` based on the provided parameters. \n",
    "Returns the student's `sid` if found, otherwise returns `nothing`.\n",
    "\n",
    "### Parameters\n",
    "- `students::Array{MySimpleStudentModel,1}`: An array of `MySimpleStudentModel` objects.\n",
    "- `netid::String`: The netid of the student to search for (default is \"jdv27\").\n",
    "- `firstname::String`: The firstname of the student to search for (default is \"firstname\").\n",
    "- `lastname::String`: The lastname of the student to search for (default is \"lastname\").\n",
    "\n",
    "### Returns\n",
    "- `Union{Int64, Nothing}`: The student's `sid` if found, otherwise `nothing`.\n",
    "\"\"\"\n",
    "function find(students::Array{MySimpleStudentModel,1}; netid::String=\"jdv27\", firstname::String = \"firstname\", \n",
    "    lastname::String = \"lastname\")::Union{Int64, Nothing}\n",
    "\n",
    "    # initialize -\n",
    "    student_index = nothing; # default: we don't know which student we are looking for\n",
    "\n",
    "    # main loop -\n",
    "    for i ∈ eachindex(students)\n",
    "        test_student = students[i];  # get student i from the array -\n",
    "\n",
    "        # TODO: Uncomment the if block below to check with compound AND\n",
    "        # if statement: does test_student have the same netid, firstname and lastname as the parameters?\n",
    "        # if test_student.netid == netid && test_student.firstname == firstname && test_student.lastname == lastname\n",
    "        #     student_index = test_student.sid; # we found the student, so set the index to the student's sid\n",
    "        #     break; # exit the loop\n",
    "        # end\n",
    "\n",
    "        # TODO: Uncomment the if block below to check with compound OR\n",
    "        if test_student.netid == netid || test_student.firstname == firstname || test_student.lastname == lastname\n",
    "            student_index = test_student.sid; # we found the student, so set the index to the student's sid\n",
    "            break; # exit the loop\n",
    "        end\n",
    "    end\n",
    "\n",
    "    return student_index; # return the search results to the caller\n",
    "end;"
   ]
  },
  {
   "cell_type": "markdown",
   "id": "2448f48c",
   "metadata": {},
   "source": [
    "Next, let's generate some test data. We'll build an array of `MySimpleStudentModel` instances, with random values for the fields. We'll then use random examples from this array and see if the `find(...)` method returns the same index as the random index."
   ]
  },
  {
   "cell_type": "code",
   "execution_count": 13,
   "id": "d3073dd1",
   "metadata": {},
   "outputs": [],
   "source": [
    "list_of_test_students = let\n",
    "    \n",
    "    # initialize -\n",
    "    number_of_test_students = 1000; \n",
    "    list_of_test_students = Array{MySimpleStudentModel,1}(undef, number_of_test_students);\n",
    "\n",
    "    # populate the list of test students\n",
    "    for i ∈ 1:number_of_test_students\n",
    "        \n",
    "        # create a new student model with random data\n",
    "        firstname = \"Firstname_\" * string(i);\n",
    "        lastname = \"Lastname_\" * string(i);\n",
    "        sid = rand(100000:999999); # random student id\n",
    "        netid = \"netid_\" * string(i);\n",
    "\n",
    "        # build the student model and add it to the list\n",
    "        list_of_test_students[i] = build(MySimpleStudentModel, \n",
    "            (firstname = firstname, lastname = lastname, sid = sid, netid = netid));\n",
    "    end\n",
    "\n",
    "    list_of_test_students; # return the list of test students\n",
    "end;"
   ]
  },
  {
   "cell_type": "markdown",
   "id": "599da63c",
   "metadata": {},
   "source": [
    "### TODO: Test the find function\n",
    "We select a random student to test using [the `rand(...)` method](https://docs.julialang.org/en/v1/stdlib/Random/#Base.rand), which generates a random student model from the array of student models.  We'll save the random student model in a variable called `random_test_student_model::MySimpleStudentModel`."
   ]
  },
  {
   "cell_type": "code",
   "execution_count": 14,
   "id": "88e1366c",
   "metadata": {},
   "outputs": [
    {
     "data": {
      "text/plain": [
       "MySimpleStudentModel(\"Firstname_428\", \"Lastname_428\", 824849, \"netid_428\")"
      ]
     },
     "metadata": {},
     "output_type": "display_data"
    }
   ],
   "source": [
    "random_test_student_model = rand(list_of_test_students)"
   ]
  },
  {
   "cell_type": "markdown",
   "id": "fd28e922",
   "metadata": {},
   "source": [
    "Next, we call the `find(...)` function with the `list_of_test_students::Array{MySimpleStudentModel,1}` and the data from the `random_test_student_model::MyStudentModel` instance selected above. The `find(...)` method returns a `Union{Int64, Nothing}` type. \n",
    "* What is a `Union{Int64, Nothing}` type? The [Union type](https://docs.julialang.org/en/v1/base/base/#Core.Union) is a super interesting type in Julia. It allows us to implement a logical `OR` amongst possible types. In this case, `Union{Int64, Nothing}` says we can return either a [`Int64` type](https://docs.julialang.org/en/v1/base/numbers/#Core.Int64) __or__ a special [Nothing type](https://docs.julialang.org/en/v1/base/base/#Core.Nothing) which encodes the case when we have `nothing` returned.\n",
    "\n",
    "If our `find(...)` method is correct, then we should get the `sid::Int64` value of the `random_test_student_model::MySimpleStudentModel` instance. We can test if the [`find(...)` method](src/Compute.jl) returns the correct student identification value by comparing the `random_test_student_model.sid` of the model we randomly generated above with the `sid::Int64` value returned by the `find(...)` method using the [@assert macro](https://docs.julialang.org/en/v1/base/base/#Base.@assert)."
   ]
  },
  {
   "cell_type": "code",
   "execution_count": 15,
   "id": "45f9becc",
   "metadata": {},
   "outputs": [],
   "source": [
    "@assert random_test_student_model.sid == find(list_of_test_students, netid=random_test_student_model.netid, \n",
    "    firstname=random_test_student_model.firstname, lastname=random_test_student_model.lastname);"
   ]
  },
  {
   "cell_type": "markdown",
   "id": "5162c07c",
   "metadata": {},
   "source": [
    "Now, let's test the edges case in which we supply search parameters that do not match any student in the list. In this case, we expect the `find(...)` method to return `nothing`."
   ]
  },
  {
   "cell_type": "code",
   "execution_count": 17,
   "id": "55c8864c",
   "metadata": {},
   "outputs": [
    {
     "data": {
      "text/plain": [
       "true"
      ]
     },
     "metadata": {},
     "output_type": "display_data"
    }
   ],
   "source": [
    "find(list_of_test_students, netid=\"not_in_list\", firstname=\"not_in_list\", lastname=\"not_in_list\") == nothing # test for not found"
   ]
  },
  {
   "cell_type": "markdown",
   "id": "214187b8",
   "metadata": {},
   "source": [
    "### TODO: Test with find with compound OR\n",
    "Finally, we implemented the test for a student in the `find(...)` method that uses a compound AND condition to search by matching all the `firstname`, `lastname`, and `netid` fields. Let's look at a case where we match a student by either, `firstname::String`, `lastname::String` __or__ `netid::String`. \n",
    "* _How?_ This is done by using the `||` operator to combine the two conditions. If either condition is true, the student is considered a match. Can you think of a case where this might be useful (or will fail)?\n",
    "\n",
    "Uncomment the OR code in the `find(...)` method and test it with a student that has a matching `firstname::String`, `lastname::String` or `netid::String` field. You can use the same random student model we generated above, but change the `netid::String` field to a different value. "
   ]
  },
  {
   "cell_type": "code",
   "execution_count": 18,
   "id": "21852a31",
   "metadata": {},
   "outputs": [],
   "source": [
    "@assert random_test_student_model.sid == find(list_of_test_students, netid=random_test_student_model.netid, \n",
    "    firstname=random_test_student_model.firstname, lastname=random_test_student_model.lastname);"
   ]
  },
  {
   "cell_type": "markdown",
   "id": "812d8933",
   "metadata": {},
   "source": [
    "__Hmmm__: That seems to have worked -- however, resist the temptation to be fooled! It is incorrect to think that we can use either the `&&` or `||` operators. While it worked in this case, the `||` is sometimes not the right choice. As we shall see ...."
   ]
  }
 ],
 "metadata": {
  "kernelspec": {
   "display_name": "Julia 1.11.5",
   "language": "julia",
   "name": "julia-1.11"
  },
  "language_info": {
   "file_extension": ".jl",
   "mimetype": "application/julia",
   "name": "julia",
   "version": "1.11.5"
  }
 },
 "nbformat": 4,
 "nbformat_minor": 5
}
