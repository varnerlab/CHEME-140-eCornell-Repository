{
 "cells": [
  {
   "cell_type": "markdown",
   "id": "73e1bd56-9799-4aa8-a989-135be6dfdb22",
   "metadata": {},
   "source": [
    "# Demo: Control Flow and Conditional Execution Concepts\n",
    "In this demonstration, we will explore different control flow an conditional execution concepts, such as if-else statements, and short-circuit evaluation. Let's start with some definitions and use cases.\n",
    "* The __if-else paradigm__ is a control flow construct where a boolean condition is evaluated, and if it is `true`, a specific block of code is executed; otherwise, if it is `false` an alternative block (the else) may run. It enables branching logic by directing program execution along different paths based on boolean conditions.\n",
    "* __Short-circuit evaluation__ is a paradigm in which multiple boolean cases must be checked, where chains of logical expressions (separed by AND or OR opeators e.g., `&&` and `||`) are evaluated left-to-right and stop as soon as the overall result is determined, preventing evaluation of unnecessary operands. This improves efficiency and avoids unintended side effects by not executing expressions that won’t affect the final outcome.\n",
    "\n",
    "While we are going to show some examples in Julia, these concepts are common in many (if not all) programming languages.\n",
    "* __History__: The if-else paradigm originated from early branch instructions and arithmetic IF constructs in first-generation languages like Fortran in the 1950s, and was formalized into structured if-then-else blocks in ALGOL around 1960, promoting clearer control flow over goto-based logic. The idea of conditional expressions was further advanced by John McCarthy in his late-1950s work on Lisp, embedding if-then-else as a fundamental construct in symbolic processing and influencing modern programming languages’ control.\n",
    "\n",
    "To demonstrate these concepts, we'll build a simple student record application that stores student information, and some logic to search for particular students are collections of students. Let's go!\n",
    "___"
   ]
  },
  {
   "cell_type": "markdown",
   "id": "c1a25d91",
   "metadata": {},
   "source": [
    "## Setup, Data, and Prerequisites\n",
    "First, we set up the computational environment by including the `Include.jl` file and loading any needed resources.\n",
    "* The [include command](https://docs.julialang.org/en/v1/base/base/#include) evaluates the contents of the input source file, `Include.jl`, in the notebook's global scope. The `Include.jl` file sets paths, loads required external packages, etc. For additional information on functions and types used in this material, see the [Julia programming language documentation](https://docs.julialang.org/en/v1/). \n",
    "* In addition to standard Julia libraries, we'll also use [the `VLDataScienceMachineLearningPackage.jl` package](https://github.com/varnerlab/VLDataScienceMachineLearningPackage.jl), check out that documentation for more information on the functions and types used in this material."
   ]
  },
  {
   "cell_type": "code",
   "execution_count": 1,
   "id": "e4d1db44",
   "metadata": {},
   "outputs": [],
   "source": [
    "include(\"Include.jl\");"
   ]
  },
  {
   "cell_type": "markdown",
   "id": "ae92e4c1",
   "metadata": {},
   "source": [
    "### Types and Functions"
   ]
  },
  {
   "cell_type": "code",
   "execution_count": 2,
   "id": "9f7c12c5",
   "metadata": {},
   "outputs": [],
   "source": [
    "\"\"\"\n",
    "    mutable struct MySimpleStudentModel\n",
    "\n",
    "A mutable struct that models a student with a firstname, lastname, student id and a netid.\n",
    "\n",
    "### Fields\n",
    "- `firstname::String`: The first name of the student.\n",
    "- `lastname::String`: The last name of the student.\n",
    "- `sid::Int64`: The student identification number.\n",
    "- `netid::String`: The network identifier (email address) of the student.\n",
    "\"\"\"\n",
    "mutable struct MySimpleStudentModel\n",
    "\n",
    "    # data fields -\n",
    "    firstname::String\n",
    "    lastname::String\n",
    "    sid::Int64\n",
    "    netid::String\n",
    "    \n",
    "    # constructor: builds a new empty Student\n",
    "    MySimpleStudentModel() = new();\n",
    "end;"
   ]
  },
  {
   "cell_type": "code",
   "execution_count": 7,
   "id": "7f9caf6b",
   "metadata": {},
   "outputs": [],
   "source": [
    "\"\"\"\n",
    "Fill me in.\n",
    "\"\"\"\n",
    "function find(students::Array{MySimpleStudentModel,1}, logic::Function, context::NamedTuple)::Set{MySimpleStudentModel}\n",
    "\n",
    "    # check: should we check to see if the parameters are valid?\n",
    "    # Let's discuss this in the testing phase ...\n",
    "\n",
    "    # initialize -\n",
    "    resultset = Set{MySimpleStudentModel}();\n",
    "    student_index = nothing; # default: we don't know which student we are looking for\n",
    "    number_of_students = length(students) # how many students do we have?\n",
    "\n",
    "    # main loop -\n",
    "    for i ∈ 1:number_of_students\n",
    "        \n",
    "        # get student i from the array -\n",
    "        test_student = students[i];\n",
    "\n",
    "        # if statement: does test_student have the same sid and netid as the student that was passed in? \n",
    "        # what is the && operator doing here?\n",
    "        if (logic(student, context) == true) \n",
    "            push!(resultset, test_student);\n",
    "        end\n",
    "    end\n",
    "    return resultset; # return the search results to the caller\n",
    "end;"
   ]
  },
  {
   "cell_type": "code",
   "execution_count": 4,
   "id": "8d5268e8",
   "metadata": {},
   "outputs": [],
   "source": []
  }
 ],
 "metadata": {
  "kernelspec": {
   "display_name": "Julia 1.11.5",
   "language": "julia",
   "name": "julia-1.11"
  },
  "language_info": {
   "file_extension": ".jl",
   "mimetype": "application/julia",
   "name": "julia",
   "version": "1.11.5"
  }
 },
 "nbformat": 4,
 "nbformat_minor": 5
}
