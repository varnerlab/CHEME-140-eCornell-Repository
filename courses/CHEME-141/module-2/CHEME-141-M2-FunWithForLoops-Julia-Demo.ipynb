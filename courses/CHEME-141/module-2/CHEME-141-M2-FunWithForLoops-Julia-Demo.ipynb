{
 "cells": [
  {
   "cell_type": "markdown",
   "id": "3f20ce93-4de8-46c3-bcc5-d3f36431dfdb",
   "metadata": {},
   "source": [
    "# Demo: Fun with Iteration Patterns for Arrays, Sets, and Dictionaries\n",
    "Iteration is the repeated execution of a block of code, typically used to process elements in a collection or to perform repeated actions until a condition is met. \n",
    "* Iteration is an _extremely common_ fundamental concept used in nearly all applications. It appears in tasks ranging from simple loops over arrays to complex algorithms in data processing, simulation, and machine learning, making it an essential tool in nearly every programming language and domain.\n",
    "\n",
    "In this demo, we'll explore the two iteration patterns that you'll likely encounter in your everyday life:\n",
    "* __For loops__: A for loop is a control structure that repeatedly executes a block of code for each element in a specified sequence or range. It is commonly used to iterate over collections like arrays or lists, or to perform a fixed number of repetitions.\n",
    "* __While loops__: A while loop is a control structure that repeatedly executes a block of code as long as a specified condition remains true. It is typically used when the number of iterations is not known in advance and depends on dynamic conditions during execution."
   ]
  },
  {
   "cell_type": "markdown",
   "id": "ae71e106-7fe2-4707-aa92-eeb2aca75c49",
   "metadata": {},
   "source": [
    "## Setup\n",
    "We set up the computational environment by including the `Include.jl` file and loading any needed resources.\n",
    "* __Include__: The [include command](https://docs.julialang.org/en/v1/base/base/#include) evaluates the contents of the input source file, `Include.jl`, in the notebook's global scope. The `Include.jl` file sets paths, loads required external packages, etc. For additional information on functions and types used in this material, see the [Julia programming language documentation](https://docs.julialang.org/en/v1/)"
   ]
  },
  {
   "cell_type": "code",
   "execution_count": 3,
   "id": "c48d97b5-075f-4ac5-9054-f937518f2aef",
   "metadata": {},
   "outputs": [],
   "source": [
    "include(\"Include.jl\");"
   ]
  },
  {
   "cell_type": "markdown",
   "id": "72a36a5e-aae4-4ce0-a6a0-5fd1b144a756",
   "metadata": {},
   "source": [
    "## Basic for-loop iteration patterns for Ordered Collections\n",
    "Let's start by looking at the basic structure of [a for-loop.](https://docs.julialang.org/en/v1/base/base/#for) A [for-loop](https://docs.julialang.org/en/v1/base/base/#for) has a header and a body. \n",
    "> The _header_ specifies how many times the loop will iterate. The loop `index` is passed into the loop's _body_, where you put your logic. The `index` is always a new variable, even if a variable of the same name exists in the enclosing scope.\n",
    "\n",
    "In Julia, the [for-loop](https://docs.julialang.org/en/v1/base/base/#for) has its _local scope_ that captures variables from the outside but doesn't pass new variables created inside the loop to the outside unless they already exist. The [local scope of the for loop](https://docs.julialang.org/en/v1/manual/variables-and-scoping/#local-scope) ends with the `end` keyword.\n",
    "* _What is scope_? In programming, scope refers to the region of code where a variable or identifier is defined and accessible. It determines the visibility and lifetime of variables, helping to manage the namespace and prevent naming conflicts.\n",
    "\n",
    "Let's do a simple example where we create an `Array{Float64,1}` holding random values, iterate over this array using a for loop, and print using the [println function](https://docs.julialang.org/en/v1/base/io-network/#Base.println) each random value."
   ]
  },
  {
   "cell_type": "code",
   "execution_count": 5,
   "id": "96c5419d-beeb-4a57-aeea-55ef84318458",
   "metadata": {},
   "outputs": [
    {
     "name": "stdout",
     "output_type": "stream",
     "text": [
      "The index i = 1 and the value = 0.09692074281466712\n",
      "The index i = 2 and the value = 0.22696693672949209\n",
      "The index i = 3 and the value = 0.5689809711731147\n",
      "The index i = 4 and the value = 0.37622875034780534\n",
      "The index i = 5 and the value = 0.5131210428868529\n"
     ]
    },
    {
     "data": {
      "text/plain": [
       "0.5131210428868529"
      ]
     },
     "execution_count": 5,
     "metadata": {},
     "output_type": "execute_result"
    }
   ],
   "source": [
    "let\n",
    "    \n",
    "    number_of_elements = 5; # how many items do we want?\n",
    "    random_vector_array = rand(number_of_elements); # create an array of random 64-bit floating-point values\n",
    "    value = nothing # declare a variable outside the loop.\n",
    "    \n",
    "    for i in 1:number_of_elements\n",
    "        value = random_vector_array[i];\n",
    "        println(\"The index i = $(i) and the value = $(random_vector_array[i])\");\n",
    "    end # end of for loop scope\n",
    "    value # what gets printed?\n",
    "end"
   ]
  },
  {
   "cell_type": "markdown",
   "id": "24fedc9d-b5ce-4e10-8802-3f8bd974bb89",
   "metadata": {},
   "source": [
    "### Eachindex\n",
    "Another [for-loop](https://docs.julialang.org/en/v1/base/base/#for) pattern is the [eachindex pattern](https://docs.julialang.org/en/v1/base/arrays/#Base.eachindex). We use the [eachindex pattern](https://docs.julialang.org/en/v1/base/arrays/#Base.eachindex) when we don't explicitly know how many elements we have in an ordered collection, but we want to all of the elements in order. \n",
    "* The [eachindex pattern](https://docs.julialang.org/en/v1/base/arrays/#Base.eachindex) is the preferred pattern compared with something like `for i in 1:length(random_vector_array)` when we don't know how many elements are in the `random_vector_array` collection. __Why might this be true?__\n",
    "\n",
    "Let's revisit the example above, but in this case using [the `eachindex(...)` pattern](https://docs.julialang.org/en/v1/base/arrays/#Base.eachindex):"
   ]
  },
  {
   "cell_type": "code",
   "execution_count": 7,
   "id": "d2ae0e2f-89b4-48c1-8969-fe42f540316b",
   "metadata": {},
   "outputs": [
    {
     "name": "stdout",
     "output_type": "stream",
     "text": [
      "The index i = 1 and the value = 0.5835681829310801\n",
      "The index i = 2 and the value = 0.02060619542988773\n",
      "The index i = 3 and the value = 0.9164350678181891\n",
      "The index i = 4 and the value = 0.391580567981759\n",
      "The index i = 5 and the value = 0.9076716832289182\n"
     ]
    }
   ],
   "source": [
    "let\n",
    "    number_of_elements = 5; # how many items do we want?\n",
    "    random_vector_array = rand(number_of_elements); # create an array of random 64-bit floating-point values\n",
    "    \n",
    "    for i ∈ eachindex(random_vector_array)\n",
    "        value = random_vector_array[i];\n",
    "        println(\"The index i = $(i) and the value = $(value)\"); # body\n",
    "    end\n",
    "end"
   ]
  },
  {
   "cell_type": "markdown",
   "id": "acddc96b-f2db-40bd-beca-c63225df5cab",
   "metadata": {},
   "source": [
    "### Direct iteration\n",
    "Suppose we don't care about the index $i$, but instead want only the values; we can iterate over the elements of a collection directly. For example, the code block below accesses the values of the `random_vector_array`  directly, but __NOT__ their indexes:"
   ]
  },
  {
   "cell_type": "code",
   "execution_count": 5,
   "id": "bc63300b-fc31-4b6b-bc75-01e431cd0b56",
   "metadata": {},
   "outputs": [
    {
     "name": "stdout",
     "output_type": "stream",
     "text": [
      "Only the value = 0.3488118859929439\n",
      "Only the value = 0.26202077960057524\n",
      "Only the value = 0.005767264975062525\n",
      "Only the value = 0.06663134625716982\n",
      "Only the value = 0.5941697955217022\n"
     ]
    }
   ],
   "source": [
    "let\n",
    "    number_of_elements = 5; # how many items do we want?\n",
    "    random_vector_array = rand(number_of_elements); # create an array of random 64-bit floating-point values\n",
    "    \n",
    "    for value ∈ random_vector_array # for value in collection\n",
    "        println(\"Only the value = $(value)\"); # body\n",
    "    end\n",
    "end"
   ]
  },
  {
   "cell_type": "markdown",
   "id": "e8f9b9dc-df21-4f16-bc79-57fd720e0989",
   "metadata": {},
   "source": [
    "### Iterate over other things besides an array?\n",
    "Sure! We can iterate over other ordered (and unordered) collections, not just arrays! For example, we can iterate over [tuples](https://docs.julialang.org/en/v1/manual/functions/#Tuples), fixed-length _immutable_ ordered containers that can hold any values. \n",
    "\n",
    "Let's build a tuple holding some `Int64` types and iterate over these using the [eachindex pattern](https://docs.julialang.org/en/v1/base/arrays/#Base.eachindex).\n",
    "* The previous examples used the [println function](https://docs.julialang.org/en/v1/base/io-network/#Base.println) to print output [to `stdout`](https://docs.julialang.org/en/v1/base/io-network/#Base.stdout); here, we show another approach that does the same thing, namely using the [@show macro](https://docs.julialang.org/en/v1/base/base/#Base.@show) which prints one or more expressions, and their results, [to `stdout`](https://docs.julialang.org/en/v1/base/io-network/#Base.stdout):"
   ]
  },
  {
   "cell_type": "code",
   "execution_count": 11,
   "id": "f3a4f2c0-4411-4576-8c74-67d69526ea71",
   "metadata": {},
   "outputs": [
    {
     "name": "stdout",
     "output_type": "stream",
     "text": [
      "(i, example_tuple[i]) = (1, 1)\n",
      "(i, example_tuple[i]) = (2, 2)\n",
      "(i, example_tuple[i]) = (3, 3)\n",
      "(i, example_tuple[i]) = (4, 6)\n",
      "(i, example_tuple[i]) = (5, 5)\n",
      "(i, example_tuple[i]) = (6, 4)\n",
      "(i, example_tuple[i]) = (7, 1)\n",
      "(i, example_tuple[i]) = (8, 1)\n",
      "(i, example_tuple[i]) = (9, 1)\n",
      "(i, example_tuple[i]) = (10, 1)\n"
     ]
    }
   ],
   "source": [
    "let\n",
    "    example_tuple = (1,2,3,6,5,4,1,1,1,1)\n",
    "    \n",
    "    for i ∈ eachindex(example_tuple) # header: for index in index collection\n",
    "        @show (i, example_tuple[i]) # body\n",
    "    end\n",
    "end"
   ]
  },
  {
   "cell_type": "markdown",
   "id": "d08291e2-f5b0-466d-b19e-be83f225217b",
   "metadata": {},
   "source": [
    "## Example 2: Basic for-loop iteration patterns for Sets and Dictionaries\n",
    "A [Set type](https://docs.julialang.org/en/v1/base/collections/#Base.Set) is an unordered collection of unique elements that supports fast membership checks, insertions, and removals. On the other hand, [a Dictionary (or map) is an associative container](https://docs.julialang.org/en/v1/base/collections/#Base.Dict) that stores key–value pairs, allowing lookup, insertion, and deletion of values based on their unique keys. \n",
    "* Julia’s `Set{T}` and `Dict{K,V}` are parametric containers, meaning every element in a `Set` has the same type `T`, and every key–value pair in a `Dict` has types `K` and `V`. However, the elements of a set can be _any_ type `T`, and the keys `K` and values `V` can also be of _any type_.\n",
    "\n",
    "[Sets](https://docs.julialang.org/en/v1/base/collections/#Base.Set) model a bag of stuff; there is no notion of index (which can be a little confusing). Thus, we can only access the items directly in an undefined random order. However, the _really_ exciting thing about [Sets](https://docs.julialang.org/en/v1/base/collections/#Base.Set) is that they are `unique,` i.e., there are no repeated elements. This will be super handy later!\n",
    "\n",
    "Let's build a `Set{Char}` values, and then directly iterate the set (where we show the value at each iteration using [the `@show` macro](https://docs.julialang.org/en/v1/base/base/#Base.@show)"
   ]
  },
  {
   "cell_type": "code",
   "execution_count": 13,
   "id": "acf29425-b0ba-4fe7-9730-c55e81b39c7e",
   "metadata": {},
   "outputs": [
    {
     "name": "stdout",
     "output_type": "stream",
     "text": [
      "value = 'C'\n",
      "value = 'U'\n",
      "value = 'D'\n",
      "value = 'A'\n",
      "value = 'R'\n",
      "value = 'S'\n",
      "value = 'T'\n",
      "value = 'B'\n"
     ]
    }
   ],
   "source": [
    "let\n",
    "    example_set = Set{Char}(['A','B','C','D','R','U','S','T','A']);\n",
    "    for value ∈ example_set\n",
    "        @show value\n",
    "    end\n",
    "end"
   ]
  },
  {
   "cell_type": "markdown",
   "id": "388c56da-a830-40af-951a-0af875e0d627",
   "metadata": {},
   "source": [
    "### Dictionary\n",
    "[A Dictionary is an associative container](https://docs.julialang.org/en/v1/base/collections/#Base.Dict) that stores key–value pairs, allowing lookup, insertion, and deletion of values based on their unique keys. While significantly different than an array, we can still traverse a dictionary [using a for-loop](https://docs.julialang.org/en/v1/base/base/#for).\n",
    "\n",
    "We gathered a daily open-high-low-close `dataset` for each firm in the [S&P500](https://en.wikipedia.org/wiki/S%26P_500) from `01-03-2014` until `12-31-2024`, along with data for a few exchange-traded funds and volatility products during that time. \n",
    "* Let's load the `orignal_dataset` by calling the `MyMarketDataSet()` function and remove firms that do not have the maximum number of trading days. The cleaned dataset $\\mathcal{D}$ will be stored in the `dataset` variable.\n",
    "\n",
    "When we use a [for-loop](https://docs.julialang.org/en/v1/base/base/#for) with a [Dictionary](https://docs.julialang.org/en/v1/base/collections/#Dictionaries), which is an unordered collection of `key=>value` pairs, we get both the `key` and `value` as the iteration variable organized as a `tuple.`"
   ]
  },
  {
   "cell_type": "code",
   "execution_count": 15,
   "id": "bacdd619-772d-4176-9868-243cc18d1bcb",
   "metadata": {},
   "outputs": [],
   "source": [
    "original_dataset = MyMarketDataSet() |> x-> x[\"dataset\"];"
   ]
  },
  {
   "cell_type": "code",
   "execution_count": 16,
   "id": "fe2530c2-b6ad-4419-99cc-da04ef5823cd",
   "metadata": {},
   "outputs": [
    {
     "data": {
      "text/plain": [
       "Dict{String, DataFrame} with 515 entries:\n",
       "  \"DD\"   => \u001b[1m2329×8 DataFrame\u001b[0m\u001b[0m…\n",
       "  \"EMR\"  => \u001b[1m2767×8 DataFrame\u001b[0m\u001b[0m…\n",
       "  \"CTAS\" => \u001b[1m2767×8 DataFrame\u001b[0m\u001b[0m…\n",
       "  \"HSIC\" => \u001b[1m2767×8 DataFrame\u001b[0m\u001b[0m…\n",
       "  \"KIM\"  => \u001b[1m2767×8 DataFrame\u001b[0m\u001b[0m…\n",
       "  \"PLD\"  => \u001b[1m2767×8 DataFrame\u001b[0m\u001b[0m…\n",
       "  \"IEX\"  => \u001b[1m2767×8 DataFrame\u001b[0m\u001b[0m…\n",
       "  \"TPR\"  => \u001b[1m1803×8 DataFrame\u001b[0m\u001b[0m…\n",
       "  \"BAC\"  => \u001b[1m2767×8 DataFrame\u001b[0m\u001b[0m…\n",
       "  \"CBOE\" => \u001b[1m2767×8 DataFrame\u001b[0m\u001b[0m…\n",
       "  \"EXR\"  => \u001b[1m2767×8 DataFrame\u001b[0m\u001b[0m…\n",
       "  \"NCLH\" => \u001b[1m2767×8 DataFrame\u001b[0m\u001b[0m…\n",
       "  \"CVS\"  => \u001b[1m2767×8 DataFrame\u001b[0m\u001b[0m…\n",
       "  \"DRI\"  => \u001b[1m2767×8 DataFrame\u001b[0m\u001b[0m…\n",
       "  \"DTE\"  => \u001b[1m2767×8 DataFrame\u001b[0m\u001b[0m…\n",
       "  \"ZION\" => \u001b[1m2767×8 DataFrame\u001b[0m\u001b[0m…\n",
       "  \"AVY\"  => \u001b[1m2767×8 DataFrame\u001b[0m\u001b[0m…\n",
       "  \"EW\"   => \u001b[1m2767×8 DataFrame\u001b[0m\u001b[0m…\n",
       "  \"EA\"   => \u001b[1m2767×8 DataFrame\u001b[0m\u001b[0m…\n",
       "  \"NWSA\" => \u001b[1m2767×8 DataFrame\u001b[0m\u001b[0m…\n",
       "  \"BBWI\" => \u001b[1m859×8 DataFrame\u001b[0m\u001b[0m…\n",
       "  \"CAG\"  => \u001b[1m2767×8 DataFrame\u001b[0m\u001b[0m…\n",
       "  \"GPC\"  => \u001b[1m2767×8 DataFrame\u001b[0m\u001b[0m…\n",
       "  \"FCX\"  => \u001b[1m2767×8 DataFrame\u001b[0m\u001b[0m…\n",
       "  \"GILD\" => \u001b[1m2767×8 DataFrame\u001b[0m\u001b[0m…\n",
       "  ⋮      => ⋮"
      ]
     },
     "execution_count": 16,
     "metadata": {},
     "output_type": "execute_result"
    }
   ],
   "source": [
    "original_dataset"
   ]
  },
  {
   "cell_type": "code",
   "execution_count": 17,
   "id": "7db911da-214b-4bf1-9eda-e4b5ef4b093a",
   "metadata": {},
   "outputs": [
    {
     "data": {
      "text/html": [
       "<div><div style = \"float: left;\"><span>2767×8 DataFrame</span></div><div style = \"float: right;\"><span style = \"font-style: italic;\">2742 rows omitted</span></div><div style = \"clear: both;\"></div></div><div class = \"data-frame\" style = \"overflow-x: scroll;\"><table class = \"data-frame\" style = \"margin-bottom: 6px;\"><thead><tr class = \"header\"><th class = \"rowNumber\" style = \"font-weight: bold; text-align: right;\">Row</th><th style = \"text-align: left;\">volume</th><th style = \"text-align: left;\">volume_weighted_average_price</th><th style = \"text-align: left;\">open</th><th style = \"text-align: left;\">close</th><th style = \"text-align: left;\">high</th><th style = \"text-align: left;\">low</th><th style = \"text-align: left;\">timestamp</th><th style = \"text-align: left;\">number_of_transactions</th></tr><tr class = \"subheader headerLastRow\"><th class = \"rowNumber\" style = \"font-weight: bold; text-align: right;\"></th><th title = \"Float64\" style = \"text-align: left;\">Float64</th><th title = \"Float64\" style = \"text-align: left;\">Float64</th><th title = \"Float64\" style = \"text-align: left;\">Float64</th><th title = \"Float64\" style = \"text-align: left;\">Float64</th><th title = \"Float64\" style = \"text-align: left;\">Float64</th><th title = \"Float64\" style = \"text-align: left;\">Float64</th><th title = \"Dates.DateTime\" style = \"text-align: left;\">DateTime</th><th title = \"Int64\" style = \"text-align: left;\">Int64</th></tr></thead><tbody><tr><td class = \"rowNumber\" style = \"font-weight: bold; text-align: right;\">1</td><td style = \"text-align: right;\">3.93215e8</td><td style = \"text-align: right;\">19.4749</td><td style = \"text-align: right;\">19.745</td><td style = \"text-align: right;\">19.3207</td><td style = \"text-align: right;\">19.775</td><td style = \"text-align: right;\">19.3011</td><td style = \"text-align: left;\">2014-01-03T05:00:00</td><td style = \"text-align: right;\">148584</td></tr><tr><td class = \"rowNumber\" style = \"font-weight: bold; text-align: right;\">2</td><td style = \"text-align: right;\">4.13437e8</td><td style = \"text-align: right;\">19.3213</td><td style = \"text-align: right;\">19.1946</td><td style = \"text-align: right;\">19.4261</td><td style = \"text-align: right;\">19.5286</td><td style = \"text-align: right;\">19.0571</td><td style = \"text-align: left;\">2014-01-06T05:00:00</td><td style = \"text-align: right;\">131664</td></tr><tr><td class = \"rowNumber\" style = \"font-weight: bold; text-align: right;\">3</td><td style = \"text-align: right;\">3.17731e8</td><td style = \"text-align: right;\">19.3329</td><td style = \"text-align: right;\">19.44</td><td style = \"text-align: right;\">19.2871</td><td style = \"text-align: right;\">19.4986</td><td style = \"text-align: right;\">19.2116</td><td style = \"text-align: left;\">2014-01-07T05:00:00</td><td style = \"text-align: right;\">107327</td></tr><tr><td class = \"rowNumber\" style = \"font-weight: bold; text-align: right;\">4</td><td style = \"text-align: right;\">2.58747e8</td><td style = \"text-align: right;\">19.4038</td><td style = \"text-align: right;\">19.2432</td><td style = \"text-align: right;\">19.4093</td><td style = \"text-align: right;\">19.4843</td><td style = \"text-align: right;\">19.2389</td><td style = \"text-align: left;\">2014-01-08T05:00:00</td><td style = \"text-align: right;\">86874</td></tr><tr><td class = \"rowNumber\" style = \"font-weight: bold; text-align: right;\">5</td><td style = \"text-align: right;\">2.79621e8</td><td style = \"text-align: right;\">19.2943</td><td style = \"text-align: right;\">19.5286</td><td style = \"text-align: right;\">19.1614</td><td style = \"text-align: right;\">19.5307</td><td style = \"text-align: right;\">19.1196</td><td style = \"text-align: left;\">2014-01-09T05:00:00</td><td style = \"text-align: right;\">93562</td></tr><tr><td class = \"rowNumber\" style = \"font-weight: bold; text-align: right;\">6</td><td style = \"text-align: right;\">3.05283e8</td><td style = \"text-align: right;\">19.0659</td><td style = \"text-align: right;\">19.2796</td><td style = \"text-align: right;\">19.0336</td><td style = \"text-align: right;\">19.3143</td><td style = \"text-align: right;\">18.9682</td><td style = \"text-align: left;\">2014-01-10T05:00:00</td><td style = \"text-align: right;\">113063</td></tr><tr><td class = \"rowNumber\" style = \"font-weight: bold; text-align: right;\">7</td><td style = \"text-align: right;\">3.79443e8</td><td style = \"text-align: right;\">19.1801</td><td style = \"text-align: right;\">18.9254</td><td style = \"text-align: right;\">19.1332</td><td style = \"text-align: right;\">19.375</td><td style = \"text-align: right;\">18.9243</td><td style = \"text-align: left;\">2014-01-13T05:00:00</td><td style = \"text-align: right;\">130227</td></tr><tr><td class = \"rowNumber\" style = \"font-weight: bold; text-align: right;\">8</td><td style = \"text-align: right;\">3.34937e8</td><td style = \"text-align: right;\">19.4033</td><td style = \"text-align: right;\">19.2221</td><td style = \"text-align: right;\">19.5139</td><td style = \"text-align: right;\">19.5261</td><td style = \"text-align: right;\">19.2021</td><td style = \"text-align: left;\">2014-01-14T05:00:00</td><td style = \"text-align: right;\">114856</td></tr><tr><td class = \"rowNumber\" style = \"font-weight: bold; text-align: right;\">9</td><td style = \"text-align: right;\">3.9389e8</td><td style = \"text-align: right;\">19.9105</td><td style = \"text-align: right;\">19.7686</td><td style = \"text-align: right;\">19.9057</td><td style = \"text-align: right;\">20.0071</td><td style = \"text-align: right;\">19.7021</td><td style = \"text-align: left;\">2014-01-15T05:00:00</td><td style = \"text-align: right;\">136942</td></tr><tr><td class = \"rowNumber\" style = \"font-weight: bold; text-align: right;\">10</td><td style = \"text-align: right;\">2.29885e8</td><td style = \"text-align: right;\">19.8115</td><td style = \"text-align: right;\">19.8179</td><td style = \"text-align: right;\">19.7946</td><td style = \"text-align: right;\">19.8875</td><td style = \"text-align: right;\">19.7029</td><td style = \"text-align: left;\">2014-01-16T05:00:00</td><td style = \"text-align: right;\">78507</td></tr><tr><td class = \"rowNumber\" style = \"font-weight: bold; text-align: right;\">11</td><td style = \"text-align: right;\">4.33704e8</td><td style = \"text-align: right;\">19.4976</td><td style = \"text-align: right;\">19.6957</td><td style = \"text-align: right;\">19.3096</td><td style = \"text-align: right;\">19.7168</td><td style = \"text-align: right;\">19.2821</td><td style = \"text-align: left;\">2014-01-17T05:00:00</td><td style = \"text-align: right;\">133579</td></tr><tr><td class = \"rowNumber\" style = \"font-weight: bold; text-align: right;\">12</td><td style = \"text-align: right;\">3.29022e8</td><td style = \"text-align: right;\">19.5221</td><td style = \"text-align: right;\">19.3211</td><td style = \"text-align: right;\">19.6096</td><td style = \"text-align: right;\">19.6454</td><td style = \"text-align: right;\">19.3007</td><td style = \"text-align: left;\">2014-01-21T05:00:00</td><td style = \"text-align: right;\">111405</td></tr><tr><td class = \"rowNumber\" style = \"font-weight: bold; text-align: right;\">13</td><td style = \"text-align: right;\">3.80877e8</td><td style = \"text-align: right;\">19.764</td><td style = \"text-align: right;\">19.6755</td><td style = \"text-align: right;\">19.6968</td><td style = \"text-align: right;\">19.9032</td><td style = \"text-align: right;\">19.5646</td><td style = \"text-align: left;\">2014-01-22T05:00:00</td><td style = \"text-align: right;\">117241</td></tr><tr><td style = \"text-align: right;\">&vellip;</td><td style = \"text-align: right;\">&vellip;</td><td style = \"text-align: right;\">&vellip;</td><td style = \"text-align: right;\">&vellip;</td><td style = \"text-align: right;\">&vellip;</td><td style = \"text-align: right;\">&vellip;</td><td style = \"text-align: right;\">&vellip;</td><td style = \"text-align: right;\">&vellip;</td><td style = \"text-align: right;\">&vellip;</td></tr><tr><td class = \"rowNumber\" style = \"font-weight: bold; text-align: right;\">2756</td><td style = \"text-align: right;\">3.13741e7</td><td style = \"text-align: right;\">247.74</td><td style = \"text-align: right;\">247.815</td><td style = \"text-align: right;\">248.13</td><td style = \"text-align: right;\">249.29</td><td style = \"text-align: right;\">246.24</td><td style = \"text-align: left;\">2024-12-13T05:00:00</td><td style = \"text-align: right;\">349747</td></tr><tr><td class = \"rowNumber\" style = \"font-weight: bold; text-align: right;\">2757</td><td style = \"text-align: right;\">4.7493e7</td><td style = \"text-align: right;\">250.411</td><td style = \"text-align: right;\">247.99</td><td style = \"text-align: right;\">251.04</td><td style = \"text-align: right;\">251.38</td><td style = \"text-align: right;\">247.65</td><td style = \"text-align: left;\">2024-12-16T05:00:00</td><td style = \"text-align: right;\">448109</td></tr><tr><td class = \"rowNumber\" style = \"font-weight: bold; text-align: right;\">2758</td><td style = \"text-align: right;\">4.86675e7</td><td style = \"text-align: right;\">252.954</td><td style = \"text-align: right;\">250.08</td><td style = \"text-align: right;\">253.48</td><td style = \"text-align: right;\">253.83</td><td style = \"text-align: right;\">249.78</td><td style = \"text-align: left;\">2024-12-17T05:00:00</td><td style = \"text-align: right;\">487548</td></tr><tr><td class = \"rowNumber\" style = \"font-weight: bold; text-align: right;\">2759</td><td style = \"text-align: right;\">5.45665e7</td><td style = \"text-align: right;\">250.631</td><td style = \"text-align: right;\">252.16</td><td style = \"text-align: right;\">248.05</td><td style = \"text-align: right;\">254.28</td><td style = \"text-align: right;\">247.74</td><td style = \"text-align: left;\">2024-12-18T05:00:00</td><td style = \"text-align: right;\">564238</td></tr><tr><td class = \"rowNumber\" style = \"font-weight: bold; text-align: right;\">2760</td><td style = \"text-align: right;\">5.28513e7</td><td style = \"text-align: right;\">249.848</td><td style = \"text-align: right;\">247.5</td><td style = \"text-align: right;\">249.79</td><td style = \"text-align: right;\">252.0</td><td style = \"text-align: right;\">247.095</td><td style = \"text-align: left;\">2024-12-19T05:00:00</td><td style = \"text-align: right;\">532743</td></tr><tr><td class = \"rowNumber\" style = \"font-weight: bold; text-align: right;\">2761</td><td style = \"text-align: right;\">1.39663e8</td><td style = \"text-align: right;\">253.118</td><td style = \"text-align: right;\">248.04</td><td style = \"text-align: right;\">254.49</td><td style = \"text-align: right;\">255.0</td><td style = \"text-align: right;\">245.69</td><td style = \"text-align: left;\">2024-12-20T05:00:00</td><td style = \"text-align: right;\">550815</td></tr><tr><td class = \"rowNumber\" style = \"font-weight: bold; text-align: right;\">2762</td><td style = \"text-align: right;\">3.84653e7</td><td style = \"text-align: right;\">254.739</td><td style = \"text-align: right;\">254.77</td><td style = \"text-align: right;\">255.27</td><td style = \"text-align: right;\">255.65</td><td style = \"text-align: right;\">253.45</td><td style = \"text-align: left;\">2024-12-23T05:00:00</td><td style = \"text-align: right;\">422514</td></tr><tr><td class = \"rowNumber\" style = \"font-weight: bold; text-align: right;\">2763</td><td style = \"text-align: right;\">2.24205e7</td><td style = \"text-align: right;\">257.437</td><td style = \"text-align: right;\">255.49</td><td style = \"text-align: right;\">258.2</td><td style = \"text-align: right;\">258.21</td><td style = \"text-align: right;\">255.29</td><td style = \"text-align: left;\">2024-12-24T05:00:00</td><td style = \"text-align: right;\">245915</td></tr><tr><td class = \"rowNumber\" style = \"font-weight: bold; text-align: right;\">2764</td><td style = \"text-align: right;\">2.62262e7</td><td style = \"text-align: right;\">258.928</td><td style = \"text-align: right;\">258.19</td><td style = \"text-align: right;\">259.02</td><td style = \"text-align: right;\">260.1</td><td style = \"text-align: right;\">257.63</td><td style = \"text-align: left;\">2024-12-26T05:00:00</td><td style = \"text-align: right;\">362309</td></tr><tr><td class = \"rowNumber\" style = \"font-weight: bold; text-align: right;\">2765</td><td style = \"text-align: right;\">4.05424e7</td><td style = \"text-align: right;\">255.226</td><td style = \"text-align: right;\">257.83</td><td style = \"text-align: right;\">255.59</td><td style = \"text-align: right;\">258.7</td><td style = \"text-align: right;\">253.06</td><td style = \"text-align: left;\">2024-12-27T05:00:00</td><td style = \"text-align: right;\">474853</td></tr><tr><td class = \"rowNumber\" style = \"font-weight: bold; text-align: right;\">2766</td><td style = \"text-align: right;\">3.3166e7</td><td style = \"text-align: right;\">252.272</td><td style = \"text-align: right;\">252.23</td><td style = \"text-align: right;\">252.2</td><td style = \"text-align: right;\">253.5</td><td style = \"text-align: right;\">250.75</td><td style = \"text-align: left;\">2024-12-30T05:00:00</td><td style = \"text-align: right;\">421590</td></tr><tr><td class = \"rowNumber\" style = \"font-weight: bold; text-align: right;\">2767</td><td style = \"text-align: right;\">3.42842e7</td><td style = \"text-align: right;\">250.735</td><td style = \"text-align: right;\">252.44</td><td style = \"text-align: right;\">250.42</td><td style = \"text-align: right;\">253.28</td><td style = \"text-align: right;\">249.43</td><td style = \"text-align: left;\">2024-12-31T05:00:00</td><td style = \"text-align: right;\">361194</td></tr></tbody></table></div>"
      ],
      "text/latex": [
       "\\begin{tabular}{r|cccccccc}\n",
       "\t& volume & volume\\_weighted\\_average\\_price & open & close & high & low & timestamp & \\\\\n",
       "\t\\hline\n",
       "\t& Float64 & Float64 & Float64 & Float64 & Float64 & Float64 & DateTime & \\\\\n",
       "\t\\hline\n",
       "\t1 & 3.93215e8 & 19.4749 & 19.745 & 19.3207 & 19.775 & 19.3011 & 2014-01-03T05:00:00 & $\\dots$ \\\\\n",
       "\t2 & 4.13437e8 & 19.3213 & 19.1946 & 19.4261 & 19.5286 & 19.0571 & 2014-01-06T05:00:00 & $\\dots$ \\\\\n",
       "\t3 & 3.17731e8 & 19.3329 & 19.44 & 19.2871 & 19.4986 & 19.2116 & 2014-01-07T05:00:00 & $\\dots$ \\\\\n",
       "\t4 & 2.58747e8 & 19.4038 & 19.2432 & 19.4093 & 19.4843 & 19.2389 & 2014-01-08T05:00:00 & $\\dots$ \\\\\n",
       "\t5 & 2.79621e8 & 19.2943 & 19.5286 & 19.1614 & 19.5307 & 19.1196 & 2014-01-09T05:00:00 & $\\dots$ \\\\\n",
       "\t6 & 3.05283e8 & 19.0659 & 19.2796 & 19.0336 & 19.3143 & 18.9682 & 2014-01-10T05:00:00 & $\\dots$ \\\\\n",
       "\t7 & 3.79443e8 & 19.1801 & 18.9254 & 19.1332 & 19.375 & 18.9243 & 2014-01-13T05:00:00 & $\\dots$ \\\\\n",
       "\t8 & 3.34937e8 & 19.4033 & 19.2221 & 19.5139 & 19.5261 & 19.2021 & 2014-01-14T05:00:00 & $\\dots$ \\\\\n",
       "\t9 & 3.9389e8 & 19.9105 & 19.7686 & 19.9057 & 20.0071 & 19.7021 & 2014-01-15T05:00:00 & $\\dots$ \\\\\n",
       "\t10 & 2.29885e8 & 19.8115 & 19.8179 & 19.7946 & 19.8875 & 19.7029 & 2014-01-16T05:00:00 & $\\dots$ \\\\\n",
       "\t11 & 4.33704e8 & 19.4976 & 19.6957 & 19.3096 & 19.7168 & 19.2821 & 2014-01-17T05:00:00 & $\\dots$ \\\\\n",
       "\t12 & 3.29022e8 & 19.5221 & 19.3211 & 19.6096 & 19.6454 & 19.3007 & 2014-01-21T05:00:00 & $\\dots$ \\\\\n",
       "\t13 & 3.80877e8 & 19.764 & 19.6755 & 19.6968 & 19.9032 & 19.5646 & 2014-01-22T05:00:00 & $\\dots$ \\\\\n",
       "\t14 & 4.03913e8 & 19.714 & 19.6407 & 19.8636 & 19.875 & 19.4574 & 2014-01-23T05:00:00 & $\\dots$ \\\\\n",
       "\t15 & 4.33538e8 & 19.6392 & 19.7857 & 19.5025 & 19.8436 & 19.4554 & 2014-01-24T05:00:00 & $\\dots$ \\\\\n",
       "\t16 & 5.76877e8 & 19.3585 & 19.6454 & 19.6607 & 19.8143 & 19.4911 & 2014-01-27T05:00:00 & $\\dots$ \\\\\n",
       "\t17 & 1.06733e9 & 18.1918 & 18.17 & 18.0893 & 18.3929 & 17.9311 & 2014-01-28T05:00:00 & $\\dots$ \\\\\n",
       "\t18 & 5.03771e8 & 17.9307 & 17.9982 & 17.8839 & 18.1204 & 17.8079 & 2014-01-29T05:00:00 & $\\dots$ \\\\\n",
       "\t19 & 6.79051e8 & 17.8802 & 17.9479 & 17.8494 & 18.0893 & 17.7393 & 2014-01-30T05:00:00 & $\\dots$ \\\\\n",
       "\t20 & 4.65346e8 & 17.7956 & 17.685 & 17.8786 & 17.9118 & 17.6268 & 2014-01-31T05:00:00 & $\\dots$ \\\\\n",
       "\t21 & 4.02483e8 & 17.9578 & 17.9504 & 17.9118 & 18.1332 & 17.8321 & 2014-02-03T05:00:00 & $\\dots$ \\\\\n",
       "\t22 & 3.77094e8 & 18.1172 & 18.0661 & 18.1711 & 18.195 & 17.9557 & 2014-02-04T05:00:00 & $\\dots$ \\\\\n",
       "\t23 & 3.29289e8 & 18.2867 & 18.0914 & 18.3068 & 18.4029 & 18.0804 & 2014-02-05T05:00:00 & $\\dots$ \\\\\n",
       "\t24 & 2.57989e8 & 18.2852 & 18.2164 & 18.3039 & 18.3393 & 18.1361 & 2014-02-06T05:00:00 & $\\dots$ \\\\\n",
       "\t25 & 3.74554e8 & 18.5897 & 18.6207 & 18.56 & 18.6761 & 18.4779 & 2014-02-07T05:00:00 & $\\dots$ \\\\\n",
       "\t26 & 3.45804e8 & 18.8447 & 18.5236 & 18.8925 & 18.9996 & 18.5 & 2014-02-10T05:00:00 & $\\dots$ \\\\\n",
       "\t27 & 2.82689e8 & 19.1015 & 18.9504 & 19.1414 & 19.2054 & 18.9107 & 2014-02-11T05:00:00 & $\\dots$ \\\\\n",
       "\t28 & 3.08508e8 & 19.1592 & 19.1768 & 19.14 & 19.27 & 19.0443 & 2014-02-12T05:00:00 & $\\dots$ \\\\\n",
       "\t29 & 3.07841e8 & 19.3361 & 19.095 & 19.4439 & 19.4589 & 19.0786 & 2014-02-13T05:00:00 & $\\dots$ \\\\\n",
       "\t30 & 2.73872e8 & 19.4101 & 19.3739 & 19.4282 & 19.4993 & 19.3289 & 2014-02-14T05:00:00 & $\\dots$ \\\\\n",
       "\t$\\dots$ & $\\dots$ & $\\dots$ & $\\dots$ & $\\dots$ & $\\dots$ & $\\dots$ & $\\dots$ &  \\\\\n",
       "\\end{tabular}\n"
      ],
      "text/plain": [
       "\u001b[1m2767×8 DataFrame\u001b[0m\n",
       "\u001b[1m  Row \u001b[0m│\u001b[1m volume    \u001b[0m\u001b[1m volume_weighted_average_price \u001b[0m\u001b[1m open     \u001b[0m\u001b[1m close    \u001b[0m\u001b[1m high    \u001b[0m ⋯\n",
       "      │\u001b[90m Float64   \u001b[0m\u001b[90m Float64                       \u001b[0m\u001b[90m Float64  \u001b[0m\u001b[90m Float64  \u001b[0m\u001b[90m Float64 \u001b[0m ⋯\n",
       "──────┼─────────────────────────────────────────────────────────────────────────\n",
       "    1 │ 3.93215e8                        19.4749   19.745    19.3207   19.775  ⋯\n",
       "    2 │ 4.13437e8                        19.3213   19.1946   19.4261   19.5286\n",
       "    3 │ 3.17731e8                        19.3329   19.44     19.2871   19.4986\n",
       "    4 │ 2.58747e8                        19.4038   19.2432   19.4093   19.4843\n",
       "    5 │ 2.79621e8                        19.2943   19.5286   19.1614   19.5307 ⋯\n",
       "    6 │ 3.05283e8                        19.0659   19.2796   19.0336   19.3143\n",
       "    7 │ 3.79443e8                        19.1801   18.9254   19.1332   19.375\n",
       "    8 │ 3.34937e8                        19.4033   19.2221   19.5139   19.5261\n",
       "    9 │ 3.9389e8                         19.9105   19.7686   19.9057   20.0071 ⋯\n",
       "   10 │ 2.29885e8                        19.8115   19.8179   19.7946   19.8875\n",
       "   11 │ 4.33704e8                        19.4976   19.6957   19.3096   19.7168\n",
       "  ⋮   │     ⋮                    ⋮                   ⋮         ⋮         ⋮     ⋱\n",
       " 2758 │ 4.86675e7                       252.954   250.08    253.48    253.83\n",
       " 2759 │ 5.45665e7                       250.631   252.16    248.05    254.28   ⋯\n",
       " 2760 │ 5.28513e7                       249.848   247.5     249.79    252.0\n",
       " 2761 │ 1.39663e8                       253.118   248.04    254.49    255.0\n",
       " 2762 │ 3.84653e7                       254.739   254.77    255.27    255.65\n",
       " 2763 │ 2.24205e7                       257.437   255.49    258.2     258.21   ⋯\n",
       " 2764 │ 2.62262e7                       258.928   258.19    259.02    260.1\n",
       " 2765 │ 4.05424e7                       255.226   257.83    255.59    258.7\n",
       " 2766 │ 3.3166e7                        252.272   252.23    252.2     253.5\n",
       " 2767 │ 3.42842e7                       250.735   252.44    250.42    253.28   ⋯\n",
       "\u001b[36m                                                 3 columns and 2746 rows omitted\u001b[0m"
      ]
     },
     "execution_count": 17,
     "metadata": {},
     "output_type": "execute_result"
    }
   ],
   "source": [
    "original_dataset[\"AAPL\"] # Hmmm. we access the elements of dictionary like an array?"
   ]
  },
  {
   "cell_type": "markdown",
   "id": "28cede1f-eca0-48ef-8db6-c425f45b5900",
   "metadata": {},
   "source": [
    "#### Clean the data\n",
    "Not all tickers in our dataset have the maximum number of trading days for various reasons, e.g., acquisition or de-listing events. Let's collect only those tickers with the maximum number of trading days.\n",
    "\n",
    "First, let's compute the number of records for a firm that we know has a maximum value, e.g., `AAPL`, and save that value in the `maximum_number_trading_days::Int64` variable:"
   ]
  },
  {
   "cell_type": "code",
   "execution_count": 19,
   "id": "afd200ea-077d-4997-adf9-aabb2a7c87d8",
   "metadata": {},
   "outputs": [],
   "source": [
    "maximum_number_trading_days = original_dataset[\"AAPL\"] |> nrow; # nrow? (check out: DataFrames.jl)"
   ]
  },
  {
   "cell_type": "markdown",
   "id": "a0804c79-42d2-4de1-be57-16f208be66ad",
   "metadata": {},
   "source": [
    "Now, let's iterate through our data and collect only tickers with `maximum_number_trading_days` records. Save that data in the `dataset::Dict{String,DataFrame}` variable:"
   ]
  },
  {
   "cell_type": "code",
   "execution_count": 53,
   "id": "bc45171b-b81a-4220-afac-2af91e35c2ff",
   "metadata": {},
   "outputs": [
    {
     "name": "stdout",
     "output_type": "stream",
     "text": [
      "Ticker DD is not full data\n",
      "Ticker TPR is not full data\n",
      "Ticker BBWI is not full data\n",
      "Ticker INFO is not full data\n",
      "Ticker CTVA is not full data\n",
      "Ticker PEAK is not full data\n",
      "Ticker SIVB is not full data\n",
      "Ticker UAA is not full data\n",
      "Ticker BKNG is not full data\n",
      "Ticker USL is not full data\n",
      "Ticker VIAC is not full data\n",
      "Ticker FB is not full data\n",
      "Ticker DXC is not full data\n",
      "Ticker NLSN is not full data\n",
      "Ticker ATVI is not full data\n",
      "Ticker PKI is not full data\n",
      "Ticker WBA is not full data\n",
      "Ticker VTRS is not full data\n",
      "Ticker ZBH is not full data\n",
      "Ticker DOW is not full data\n",
      "Ticker DISCK is not full data\n",
      "Ticker EVRG is not full data\n",
      "Ticker KEYS is not full data\n",
      "Ticker DXCM is not full data\n",
      "Ticker AMCR is not full data\n",
      "Ticker FLT is not full data\n",
      "Ticker J is not full data\n",
      "Ticker PBCT is not full data\n",
      "Ticker DRE is not full data\n",
      "Ticker LUMN is not full data\n",
      "Ticker GOOGL is not full data\n",
      "Ticker NLOK is not full data\n",
      "Ticker ABMD is not full data\n",
      "Ticker BIIB is not full data\n",
      "Ticker VRTX is not full data\n",
      "Ticker TT is not full data\n",
      "Ticker REGN is not full data\n",
      "Ticker ABC is not full data\n",
      "Ticker OGN is not full data\n",
      "Ticker FBHS is not full data\n",
      "Ticker KHC is not full data\n",
      "Ticker WLTW is not full data\n",
      "Ticker TWTR is not full data\n",
      "Ticker VXX is not full data\n",
      "Ticker DISCA is not full data\n",
      "Ticker SPYD is not full data\n",
      "Ticker ETSY is not full data\n",
      "Ticker ES is not full data\n",
      "Ticker SPGI is not full data\n",
      "Ticker PYPL is not full data\n",
      "Ticker ANET is not full data\n",
      "Ticker APTV is not full data\n",
      "Ticker CTLT is not full data\n",
      "Ticker PAYC is not full data\n",
      "Ticker MRO is not full data\n",
      "Ticker QRVO is not full data\n",
      "Ticker HWM is not full data\n",
      "Ticker PXD is not full data\n",
      "Ticker LIN is not full data\n",
      "Ticker HPE is not full data\n",
      "Ticker CERN is not full data\n",
      "Ticker BKR is not full data\n",
      "Ticker MTCH is not full data\n",
      "Ticker FTV is not full data\n",
      "Ticker TFC is not full data\n",
      "Ticker ARKK is not full data\n",
      "Ticker CFG is not full data\n",
      "Ticker OTIS is not full data\n",
      "Ticker MRNA is not full data\n",
      "Ticker FRC is not full data\n",
      "Ticker IQV is not full data\n",
      "Ticker GPS is not full data\n",
      "Ticker LW is not full data\n",
      "Ticker FISV is not full data\n",
      "Ticker CDAY is not full data\n",
      "Ticker XLNX is not full data\n",
      "Ticker CTRA is not full data\n",
      "Ticker SYF is not full data\n",
      "Ticker WELL is not full data\n",
      "Ticker CBRE is not full data\n",
      "Ticker LHX is not full data\n",
      "Ticker CTXS is not full data\n",
      "Ticker GL is not full data\n",
      "Ticker WRK is not full data\n",
      "Ticker RE is not full data\n",
      "Ticker RTX is not full data\n",
      "Ticker ANTM is not full data\n",
      "Ticker BLL is not full data\n",
      "Ticker CARR is not full data\n",
      "Ticker DISH is not full data\n",
      "Ticker KSU is not full data\n"
     ]
    }
   ],
   "source": [
    "dataset = let\n",
    "\n",
    "    # initialize -\n",
    "    dataset = Dict{String, DataFrame}();\n",
    "\n",
    "    # iterate through the dictionary; we can't guarantee a particular order\n",
    "    for (ticker, data) ∈ original_dataset  # we get each (K, V) pair!\n",
    "        if (nrow(data) == maximum_number_trading_days)\n",
    "            dataset[ticker] = data;\n",
    "        else\n",
    "            println(\"Ticker $(ticker) is not full data\")\n",
    "        end\n",
    "    end\n",
    "    dataset; # return\n",
    "end;"
   ]
  },
  {
   "cell_type": "markdown",
   "id": "a2533c36-e4b0-4b97-8459-b1bf214a40ad",
   "metadata": {},
   "source": [
    "How many firms do we have the full number of trading days? Let's use [the `length(...)` method](https://docs.julialang.org/en/v1/base/collections/#Base.length) - notice this works for dictionaries, in addition to arrays and sets!"
   ]
  },
  {
   "cell_type": "code",
   "execution_count": 22,
   "id": "80314d4a-86b5-42e3-8c88-15df0a6a6031",
   "metadata": {},
   "outputs": [
    {
     "data": {
      "text/plain": [
       "424"
      ]
     },
     "execution_count": 22,
     "metadata": {},
     "output_type": "execute_result"
    }
   ],
   "source": [
    "length(dataset)"
   ]
  },
  {
   "cell_type": "markdown",
   "id": "f037b7b8-06a5-449d-9828-46997e2cead3",
   "metadata": {},
   "source": [
    "## Example 3: While loop iteration Pattern\n",
    "A for loop is used when the number of iterations is known. In contrast, a while loop is used when iterations depend on a condition evaluated before each loop, making it better for dynamic repetition. A while loop also has a header and a body, but they differ from a for loop:\n",
    "> In a while loop, the header contains the loop condition evaluated before each iteration to determine whether the loop should continue. The body is the block of code that executes repeatedly as long as the condition in the header remains true."
   ]
  },
  {
   "cell_type": "code",
   "execution_count": null,
   "id": "7b17f3b2-0f47-4f6f-b060-2232a900b0bc",
   "metadata": {},
   "outputs": [],
   "source": []
  }
 ],
 "metadata": {
  "kernelspec": {
   "display_name": "Julia 1.11.5",
   "language": "julia",
   "name": "julia-1.11"
  },
  "language_info": {
   "file_extension": ".jl",
   "mimetype": "application/julia",
   "name": "julia",
   "version": "1.11.5"
  }
 },
 "nbformat": 4,
 "nbformat_minor": 5
}
