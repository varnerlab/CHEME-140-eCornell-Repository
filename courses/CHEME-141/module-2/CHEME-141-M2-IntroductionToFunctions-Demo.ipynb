{
 "cells": [
  {
   "cell_type": "markdown",
   "id": "73e1bd56-9799-4aa8-a989-135be6dfdb22",
   "metadata": {},
   "source": [
    "# Introduction to Functions\n",
    "In this demonstration, we will explore the concept of functions in programming, how to define them, and how to pass parameters to them and get results back. \n",
    "* _What are functions_? A function in programming is a reusable block of code that performs a specific task when called. It typically takes inputs (arguments), processes them, and may return an output.\n",
    "\n",
    "Many of us are familiar with functions from mathematics, where they take an input and produce an output. In programming, functions in programming work similarly but can also include procedures that result in side effects, such as modifying variables, printing output, or interacting with external systems. Thus, they are more then pure mappings from inputs to outputs.\n",
    "\n",
    "Let's start by defining some simple functions, and then get into more complex examples with different types of parameters, return values, side effects, and more. \n",
    "\n",
    "Let's go!!!\n",
    "\n",
    "___"
   ]
  },
  {
   "cell_type": "markdown",
   "id": "7549d10c",
   "metadata": {},
   "source": [
    "## Anantomy of a Function\n",
    "A function is declared using the `function` keyword, followed by the function name, parentheses for parameters, and a block of code that defines what the function does. Here's a simple example that computes the Fibonacci numbers. A [Fibonacci sequence](https://en.wikipedia.org/wiki/Fibonacci_sequence) is a sequence composed of the Fibonacci numbers $F_{n}$:\n",
    "$$\n",
    "\\begin{align*}\n",
    "F_{0} & = 0 \\quad n = 0\\\\\n",
    "F_{1} & = 1 \\quad n = 1\\\\\n",
    "F_{n} & = F_{n-2} + F_{n-1}\\quad{n\\geq{2}}\n",
    "\\end{align*}\n",
    "$$\n",
    "\n",
    "Let's look at a simple implementation of a function that computes the Fibonacci seuqnce given an integer $n$ as input."
   ]
  },
  {
   "cell_type": "code",
   "execution_count": null,
   "id": "0ca49cd7",
   "metadata": {
    "vscode": {
     "languageId": "julia"
    }
   },
   "outputs": [],
   "source": [
    "\"\"\"\n",
    "    fibonacci(n::Int64) -> Dict{Int64, Int64}\n",
    "\n",
    "Compute the Fibonacci sequence up to the nth element and return it as a dictionary.\n",
    "\n",
    "### Arguments\n",
    "- `n::Int64`: The index of the Fibonacci sequence to compute up to (must be a non-negative integer).\n",
    "\n",
    "### Returns\n",
    "- `Dict{Int64, Int64}`: A dictionary where keys are indices and values are the corresponding Fibonacci numbers.\n",
    "\"\"\"\n",
    "function fibonacci(n::Int64)::Dict{Int64, Int64}\n",
    "    \n",
    "    # Early return if n is 0 or 1 -\n",
    "    # check user input using an assertion -\n",
    "    @assert n >= 0 \"n must be a non-negative integer\";\n",
    "\n",
    "    # initialize -\n",
    "    sequence = Dict{Int64, Int64}();\n",
    "\n",
    "    # we know the first two elements -\n",
    "    sequence[0] = 0;\n",
    "    sequence[1] = 1;\n",
    "\n",
    "    # main loop, compute F₂, ....\n",
    "    for i ∈ 2:n # what is this short-hand for?\n",
    "        sequence[i] = sequence[i-1] + sequence[i-2]\n",
    "    end\n",
    "\n",
    "    # return the sequence dictionary to the caller\n",
    "    return sequence;\n",
    "end"
   ]
  },
  {
   "cell_type": "code",
   "execution_count": null,
   "id": "6f3957ae",
   "metadata": {
    "vscode": {
     "languageId": "julia"
    }
   },
   "outputs": [],
   "source": [
    "\"\"\""
   ]
  }
 ],
 "metadata": {
  "kernelspec": {
   "display_name": "Python 3 (ipykernel)",
   "language": "python",
   "name": "python3"
  },
  "language_info": {
   "codemirror_mode": {
    "name": "ipython",
    "version": 3
   },
   "file_extension": ".py",
   "mimetype": "text/x-python",
   "name": "python",
   "nbconvert_exporter": "python",
   "pygments_lexer": "ipython3",
   "version": "3.11.8"
  }
 },
 "nbformat": 4,
 "nbformat_minor": 5
}
