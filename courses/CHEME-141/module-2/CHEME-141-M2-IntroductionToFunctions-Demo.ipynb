{
 "cells": [
  {
   "cell_type": "markdown",
   "id": "73e1bd56-9799-4aa8-a989-135be6dfdb22",
   "metadata": {},
   "source": [
    "# Introduction to Functions\n",
    "In this demonstration, we will explore the concept of functions in programming, how to define them, how to check for errors (more on this later), how to pass data to them and get results back. \n",
    "* _What are functions_? A function in programming is a reusable block of code that performs a specific task when called. Functions have thier own _scope_ (memory namespace), and typically takes inputs (arguments), processes them, and may return an output.\n",
    "* _Why use functions_? Functions help organize code, promote reusability, and make it easier to read and maintain. They allow you to break down complex problems into smaller, manageable pieces.\n",
    "\n",
    "Many of us are familiar with functions from mathematics, $f:A\\rightarrow B$ where $A$ is the domain (input) and $B$ is the codomain (output). Functions in programming work similarly but can also result in side effects, such as modifying variables in global scope, printing output, or interacting with external systems. Thus, they are more then pure mappings from inputs to outputs.\n",
    "\n",
    "Let's start by defining some simple functions, and then get into more complex examples with different types of parameters, return values, side effects, and more. Let's go!!!\n",
    "\n",
    "___"
   ]
  },
  {
   "cell_type": "markdown",
   "id": "7549d10c",
   "metadata": {},
   "source": [
    "## Anantomy of a Function\n",
    "A function is declared using a opening keyword of some type, followed by the function name, parentheses for parameters (arguments), and a block of code that defines what the function does. Finally, it may return a value using a return statement or implicitly return the last evaluated expression, and then a closing statement or keyword to indicate the end of the function.\n",
    "\n",
    "Depending on the programming language, the syntax for defining a function may vary:\n",
    "\n",
    "- __Julia__: Functions in Julia are defined using the `function` keyword or with the shorter `f(x) = expression` syntax.  Arguments are enclosed in parentheses, and the function body can span multiple lines.  Julia functions can return values explicitly with `return` or implicitly by evaluating the last expression; return types can be annotated using `::ReturnType`.\n",
    "\n",
    "- __Python__: Functions in Python start with the `def` keyword followed by the function name and arguments in parentheses. The function body is defined using indentation, and values are returned using the `return` statement. Python functions do not require explicit return type declarations but support optional type hints using `-> ReturnType`.\n",
    "\n",
    "- __C__: Functions in C are defined by specifying the return type, function name, and a comma-separated list of typed arguments inside parentheses.  The function body is enclosed in braces `{}` and must return a value of the declared return type using the `return` statement. Unlike Julia and Python, C requires all types to be declared explicitly and does not support default arguments or type inference."
   ]
  },
  {
   "cell_type": "markdown",
   "id": "3a11a651",
   "metadata": {},
   "source": [
    "## Example: Starter Fibonacci Sequence Function\n",
    "Let's look at a simple implementation of a function that computes the Fibonacci sequence given an integer $n\\in\\mathbb{Z}_{\\geq{0}}$ as input. A [Fibonacci sequence](https://en.wikipedia.org/wiki/Fibonacci_sequence) is composed of the Fibonacci numbers $F_{n}$:\n",
    "$$\n",
    "\\begin{align*}\n",
    "F_{0} & = 0 \\quad n = 0\\\\\n",
    "F_{1} & = 1 \\quad n = 1\\\\\n",
    "F_{n} & = F_{n-2} + F_{n-1}\\quad{n\\geq{2}}\n",
    "\\end{align*}\n",
    "$$\n",
    "\n",
    "Here's an example function that computes the Fibonacci numbers in Julia. It starts [with the function documentation (don't forget the documentation!)](https://docs.julialang.org/en/v1/manual/documentation/#Writing-Documentation), then defines the function name and parameters, and finally implements the logic to compute the Fibonacci number, and retruns the result."
   ]
  },
  {
   "cell_type": "code",
   "execution_count": 1,
   "id": "0ca49cd7",
   "metadata": {},
   "outputs": [],
   "source": [
    "\"\"\"\n",
    "    fibonacci(n::Int64) -> Dict{Int64, Int64}\n",
    "\n",
    "Compute the Fibonacci sequence up to the nth element and return it as a dictionary.\n",
    "\n",
    "### Arguments\n",
    "- `n::Int64`: The index of the Fibonacci sequence to compute up to (must be a non-negative integer).\n",
    "\n",
    "### Returns\n",
    "- `Dict{Int64, Int64}`: A dictionary where keys are indices and values are the corresponding Fibonacci numbers.xs\n",
    "\"\"\"\n",
    "function fibonacci(n::Int64)::Dict{Int64, Int64} # I always use type annotations, it helps with debugging and understanding the code\n",
    "    \n",
    "    # Error condition: If n is negative, throw an error\n",
    "    # We'll use an assertion here, there are better ways to handle this, but this is simple and effective (for now)\n",
    "    @assert n >= 0 \"Hmmm. Major Malfunction - the argument `n` must be a non-negative integer\";\n",
    "\n",
    "    # initialize -\n",
    "    sequence = Dict{Int64, Int64}(); # create an empty dictionary to hold the Fibonacci numbers\n",
    "\n",
    "    # Early return pattern for n = 0 or n = 1\n",
    "    # This is a common pattern in programming, especially for recursive functions (which this is not, but we'll get to that later)\n",
    "    # We implement this using an if-else statement (we'll dig a bit deeper into this later)\n",
    "    if n == 0\n",
    "        sequence[0] = 0;\n",
    "        return sequence;\n",
    "    elseif n == 1\n",
    "        sequence[0] = 0;\n",
    "        sequence[1] = 1;\n",
    "        return sequence;\n",
    "    end\n",
    "\n",
    "    # So if we get here, we know n >= 2!\n",
    "\n",
    "    # initialize the first two Fibonacci numbers\n",
    "    sequence[0] = 0;\n",
    "    sequence[1] = 1;\n",
    "\n",
    "    # main loop, compute F₂, ....\n",
    "    for i ∈ 2:n # what is this short-hand for?\n",
    "        sequence[i] = sequence[i-1] + sequence[i-2]\n",
    "    end\n",
    "\n",
    "    # return the populated sequence dictionary to the caller\n",
    "    return sequence;\n",
    "end;"
   ]
  },
  {
   "cell_type": "markdown",
   "id": "8638717e",
   "metadata": {},
   "source": [
    "Call the function with an integer argument $n\\in\\mathbb{Z}_{\\geq{0}}$, and store the result in a `fibonacci_dictionary::Dict{Int,Int}` variable. This dictionary maps the integers to their corresponding Fibonacci numbers."
   ]
  },
  {
   "cell_type": "code",
   "execution_count": 2,
   "id": "dc45a8b5",
   "metadata": {},
   "outputs": [
    {
     "data": {
      "text/plain": [
       "Dict{Int64, Int64} with 11 entries:\n",
       "  5  => 5\n",
       "  8  => 21\n",
       "  1  => 1\n",
       "  0  => 0\n",
       "  6  => 8\n",
       "  9  => 34\n",
       "  3  => 2\n",
       "  7  => 13\n",
       "  4  => 3\n",
       "  2  => 1\n",
       "  10 => 55"
      ]
     },
     "metadata": {},
     "output_type": "display_data"
    }
   ],
   "source": [
    "fibonacci_dictionary = fibonacci(10) # n = 10, seems reasonable"
   ]
  },
  {
   "cell_type": "markdown",
   "id": "868b6bb1",
   "metadata": {},
   "source": [
    "__Check__: Starting at 0, we know that the Fibonacci numbers are 0, 1, 1, 2, 3, 5, 8, 13, 21, 34, 55, ... . Let's check these values against our results stored in the `fibonacci_dictionary::Dict{Int64,Int64}` dictionary using [the `@assert` macro](https://docs.julialang.org/en/v1/base/base/#Base.@assert).\n",
    "* __Interesting__: We have multiple condtions to check, i.e., the computed values for $F_{0},F_{1},\\dots,F_{10}$ are correct. We've implemented this by enclosing the `@assert` macro in a `for` loop. This is a common pattern, but not the only way we could have done this."
   ]
  },
  {
   "cell_type": "code",
   "execution_count": 3,
   "id": "756251be",
   "metadata": {},
   "outputs": [
    {
     "name": "stdout",
     "output_type": "stream",
     "text": [
      "All tests passed!\n"
     ]
    }
   ],
   "source": [
    "let \n",
    "    \n",
    "    # initialize -\n",
    "    true_results = [0, 1, 1, 2, 3, 5, 8, 13, 21, 34, 55]; # F_{0} -> F_{10}, indexing is 1-based!\n",
    "\n",
    "    # Loop based implementation to check multiple results\n",
    "    # check the results\n",
    "    for i ∈ 0:10\n",
    "        @assert fibonacci_dictionary[i] == true_results[i+1] \"Fibonacci number at index $i is incorrect\"\n",
    "    end\n",
    "\n",
    "\n",
    "    println(\"All tests passed!\")\n",
    "end"
   ]
  },
  {
   "cell_type": "markdown",
   "id": "c104dee6",
   "metadata": {},
   "source": [
    "What happens if we pass a negative integer to the function? Let's see what happens when we call the function with a negative integer argument. From our implemention, we expect the condition in [the `@assert` macro](https://docs.julialang.org/en/v1/base/base/#Base.@assert) to fail, and an `AssertionError` to be thrown.\n",
    "* _What gets printed to the console_? A stack trace error message is a report that shows the sequence of function calls leading up to an error in a program. It helps identify where and why the error occurred by displaying the file names, line numbers, and functions involved, allowing you to trace and debug the issue effectively."
   ]
  },
  {
   "cell_type": "code",
   "execution_count": 4,
   "id": "5a9795fc",
   "metadata": {},
   "outputs": [
    {
     "ename": "AssertionError",
     "evalue": "AssertionError: Hmmm. Major Malfunction - the argument `n` must be a non-negative integer",
     "output_type": "error",
     "traceback": [
      "AssertionError: Hmmm. Major Malfunction - the argument `n` must be a non-negative integer\n",
      "\n",
      "Stacktrace:\n",
      " [1] fibonacci(n::Int64)\n",
      "   @ Main ~/Desktop/julia_work/CHEME-140-eCornell-Repository/CHEME-140-eCornell-Repository/courses/CHEME-141/module-2/jl_notebook_cell_df34fa98e69747e1a8f8a730347b8e2f_W2sZmlsZQ==.jl:16\n",
      " [2] top-level scope\n",
      "   @ ~/Desktop/julia_work/CHEME-140-eCornell-Repository/CHEME-140-eCornell-Repository/courses/CHEME-141/module-2/jl_notebook_cell_df34fa98e69747e1a8f8a730347b8e2f_X16sZmlsZQ==.jl:1"
     ]
    }
   ],
   "source": [
    "fibonacci_dictionary = fibonacci(-10) # n = -10. This should throw an error"
   ]
  },
  {
   "cell_type": "markdown",
   "id": "14bd19a3",
   "metadata": {},
   "source": [
    "## Example: Complex Fibonacci Sequence Function\n",
    "Functions can be more complex, with multiple parameters, different types of return values, and even side effects. Let's extend our Fibonacci function to take composite types, optional parameters and reimagine how we structure the code where we introduce a key concept called encapsulation.\n",
    "\n",
    "To start, let's define several composite types to represent the Fibonacci sequence and its properties, and how we wish to implement the function."
   ]
  },
  {
   "cell_type": "code",
   "execution_count": null,
   "id": "d299a0fc",
   "metadata": {},
   "outputs": [],
   "source": [
    "abstract type AbstractSequenceModel end # This is an abstract type for sequence models\n",
    "abstract type AbstractIterationModel end # This is an abstract type for iteration models\n",
    "\n",
    "\"\"\"\n",
    "    MyFibonacciSequenceModel <: AbstractSequenceModel\n",
    "\n",
    "A mutable struct to represent a Fibonacci sequence. \n",
    "\n",
    "### Fields\n",
    "- `n::Int64`: The number of elements in the sequence.\n",
    "- `sequence::Dict{Int64, Int64}`: The sequence itself, stored as a dictionary with indices as keys and Fibonacci numbers as values.\n",
    "\n",
    "\"\"\"\n",
    "mutable struct MyFibonacciSequenceModel <: AbstractSequenceModel\n",
    "\n",
    "    # data -\n",
    "    n::Int64 # number of elements in the sequence\n",
    "    sequence::Dict{Int64, Int64} # the sequence itself\n",
    "\n",
    "    # constructor -\n",
    "    MyFibonacciSequenceModel() = new();\n",
    "end\n",
    "\n",
    "\"\"\"\n",
    "    MyForLoopIterationModel <: AbstractIterationModel\n",
    "\n",
    "An immutable struct to represent a for loop iteration model. This type has no fields and serves as a marker for a for loop iteration implementation.\n",
    "\"\"\"\n",
    "struct MyForLoopIterationModel <: AbstractIterationModel\n",
    "    MyForLoopIterationModel() = new();\n",
    "end\n",
    "\n",
    "\"\"\"\n",
    "    MyWhileLoopIterationModel <: AbstractIterationModel\n",
    "\n",
    "An immutable struct to represent a while loop iteration model. This type has no fields and serves as a marker for a while loop iteration implementation.\n",
    "\"\"\"\n",
    "struct MyWhileLoopIterationModel <: AbstractIterationModel\n",
    "    MyWhileLoopIterationModel() = new();\n",
    "end"
   ]
  },
  {
   "cell_type": "markdown",
   "id": "bf89608f",
   "metadata": {},
   "source": [
    "Next, define functions that compute the Fibonacci sequence using these composite types. We'll make a _public method_ that calls a _private method_ to compute the Fibonacci numbers (encapsulation with an internal delegation strategy):\n",
    "\n",
    "* _What ?!?_: This approach (which is a personal favorite) defines a public method, i.e., the public entry point for your code to compute the Fibonacci sequence, which will be responsible for validating inputs, managing the state of the `MyFibonacciSequenceModel`, and delegating the actual computation to a private method.\n",
    "* _Private methods_? Private method names will be defined with a leading underscore (`_`) to indicate that it is intended for internal use only (users should not call this method). This common convention in Julia indicates that a method is private. In other languages, this might be done more formally using access modifiers like `public`, `private`, or `protected`, but in Julia, we'll use naming conventions to indicate the intended visibility of methods (convention, not a rule).\\\n",
    "* _Why_? This encapsulation with an internal delegation strategy is useful because it allows us to change the implementation of the decoding logic without affecting the public interface. It also makes the code more readable and maintainable by separating the concerns of the public interface from the implementation details.\n",
    "\n",
    "Finally, some notation. What is a `method` versus `function`, these seem like the same thing?\n",
    "* In Julia, a function defines a generic operation by name, while methods are specific implementations of that function for particular argument types. Julia supports multiple dispatch, meaning a single function name can have many methods (implementations), and the most appropriate one is chosen based on the types of the inputs.\n",
    "\n",
    "Let's build some functions and methods!"
   ]
  },
  {
   "cell_type": "code",
   "execution_count": null,
   "id": "24a3f921",
   "metadata": {},
   "outputs": [],
   "source": [
    "# -- PRIVATE METHODS BELOW HERE ------------------------------------------------------------------------------------------------------- #\n",
    "function _fibonacci(sequencemodel::MyFibonacciSequenceModel, iterationmodel::MyForLoopIterationModel)\n",
    "\n",
    "    @info \"Debug message: We are using the for loop iteration model\"\n",
    "\n",
    "    # initialize -\n",
    "    n = sequencemodel.n;\n",
    "    sequence = Dict{Int64, Int64}();\n",
    "\n",
    "    # we know the first two elements -\n",
    "    sequence[0] = 0;\n",
    "    sequence[1] = 1;\n",
    "\n",
    "    # main loop, compute F₂, ....\n",
    "    for i ∈ 2:n # what is this short-hand for?\n",
    "        sequence[i] = sequence[i-1] + sequence[i-2]\n",
    "    end\n",
    "\n",
    "    # update the model -\n",
    "    sequencemodel.sequence = sequence;\n",
    "end\n",
    "\n",
    "function _fibonacci(sequencemodel::MyFibonacciSequenceModel, iterationmodel::MyWhileLoopIterationModel)\n",
    "\n",
    "    @info \"Debug message: We are using the while loop iteration model\"\n",
    "\n",
    "    # check: is n legit?\n",
    "    n = sequencemodel.n;\n",
    "    sequence = Dict{Int64, Int64}();\n",
    "    \n",
    "    # main loop \n",
    "    should_loop_continue = true\n",
    "    i = 0;\n",
    "    while (should_loop_continue == true)\n",
    "       \n",
    "        # conditional logic: hardcode 0, 1 else gets all other cases\n",
    "        if (i == 0)\n",
    "            sequence[i] = 0; \n",
    "        elseif (i == 1)\n",
    "            sequence[i] = 1;\n",
    "        else\n",
    "            sequence[i] = sequence[i - 1] + sequence[i - 2]\n",
    "        end\n",
    "\n",
    "        # update i -\n",
    "        i += 1; # this is short-hand for i = i + 1\n",
    "\n",
    "        # check: should we go around again?\n",
    "        if (i>n)\n",
    "            should_loop_continue = false;\n",
    "        end\n",
    "    end\n",
    "    \n",
    "    # update the model -\n",
    "    sequencemodel.sequence = sequence;\n",
    "end\n",
    "# -- PRIVATE METHODS ABOVE HERE ------------------------------------------------------------------------------------------------------- #\n",
    "\n",
    "# -- PUBLIC METHODS BELOW HERE -------------------------------------------------------------------------------------------------------- #\n",
    "\"\"\"\n",
    "    function fibonacci!(sequencemodel::MyFibonacciSequenceModel; \n",
    "        iterationmodel::T = MyForLoopIterationModel()) where T <: AbstractIterationModel\n",
    "\n",
    "This function computes the Fibonacci sequence, given sequence and iteration models. \n",
    "The sequence model is updated in place (the sequence model is mutable). \n",
    "The iteration model is used to determine the type of loop to use.\n",
    "\n",
    "# Arguments\n",
    "- `sequencemodel::MyFibonacciSequenceModel`: The sequence model to update. The sequence model must have a field `n::Int64` that is the number of elements to compute.\n",
    "- `iterationmodel::T`: The iteration model to use. It must be a subtype of `AbstractIterationModel`. The default is `MyForLoopIterationModel`.\n",
    "\n",
    "There is no return value. The `sequencemodel` is updated in place.\n",
    "\"\"\"\n",
    "function fibonacci!(sequencemodel::MyFibonacciSequenceModel; \n",
    "    iterationmodel::T = MyForLoopIterationModel()) where T <: AbstractIterationModel\n",
    "    \n",
    "    # Error condition: If n is negative, throw an error\n",
    "    # We'll use an assertion here, there are better ways to handle this, but this is simple and effective (for now)\n",
    "    @assert sequencemodel.n >= 0 \"Hmmm. Major Malfunction - the argument `n` must be a non-negative integer\";\n",
    "\n",
    "    # Status: If we get here, then we know n >= 0\n",
    "    _fibonacci(sequencemodel, iterationmodel); # multiple dispatch to the appropriate implementation\n",
    "end;"
   ]
  },
  {
   "cell_type": "markdown",
   "id": "130d7eca",
   "metadata": {},
   "source": [
    "Let's start by building the composite types to represent the Fibonacci sequence and its properties. We'll define a `MyFibonacciSequenceModel` type to hold the Fibonacci numbers; let's save this in the `my_sequence_model::MyFibonacciSequenceModel` variable."
   ]
  },
  {
   "cell_type": "code",
   "execution_count": 25,
   "id": "75f79317",
   "metadata": {},
   "outputs": [
    {
     "data": {
      "text/plain": [
       "MyFibonacciSequenceModel(10, Dict{Int64, Int64}())"
      ]
     },
     "metadata": {},
     "output_type": "display_data"
    }
   ],
   "source": [
    "my_sequence_model = let\n",
    "    \n",
    "    # initalize -\n",
    "    n = 10; # number of elements to compute\n",
    "    model = MyFibonacciSequenceModel(); # create an empty model\n",
    "\n",
    "    # When the model is empty, the fields are undefined. We cannot access them until we set them!\n",
    "    model.n = n; # set the number of elements to compute\n",
    "    model.sequence = Dict{Int64, Int64}(); # initialize the sequence dictionary\n",
    "\n",
    "    # return the model to the caller\n",
    "    model\n",
    "end"
   ]
  },
  {
   "cell_type": "markdown",
   "id": "c352cf5c",
   "metadata": {},
   "source": [
    "Hang on to something, this next part is going to get weird! The sequence field of the `MyFibonacciSequenceModel` model should be initialized to a empty dictionary of type `Dict{Int,Int}`, i.e., its length (number of things it holds) should be `0`. Is this true?"
   ]
  },
  {
   "cell_type": "code",
   "execution_count": 26,
   "id": "c8181b1b",
   "metadata": {},
   "outputs": [],
   "source": [
    "@assert length(my_sequence_model.sequence) == 0"
   ]
  },
  {
   "cell_type": "markdown",
   "id": "fcf0abc5",
   "metadata": {},
   "source": [
    "Ok, so now let's call our public `fibonacci!(...)` method and see what happens:"
   ]
  },
  {
   "cell_type": "code",
   "execution_count": 27,
   "id": "d5f93bbf",
   "metadata": {},
   "outputs": [
    {
     "name": "stderr",
     "output_type": "stream",
     "text": [
      "┌ Info: Dedug message: We are using the for loop iteration model\n",
      "└ @ Main /Users/jeffreyvarner/Desktop/julia_work/CHEME-140-eCornell-Repository/CHEME-140-eCornell-Repository/courses/CHEME-141/module-2/jl_notebook_cell_df34fa98e69747e1a8f8a730347b8e2f_X34sZmlsZQ==.jl:4\n"
     ]
    }
   ],
   "source": [
    "fibonacci!(my_sequence_model); # what is going to happen?"
   ]
  },
  {
   "cell_type": "markdown",
   "id": "ca423065",
   "metadata": {},
   "source": [
    "That's seems to have worked, but how do we get the results (the public `fibonacci!(...)` method doesn't return anything)? Also, why is there a `!` at the end of the function name? \n",
    "* _Mutating methods_: In Julia, a `!` at the end of a function name indicates that the function _modifies its arguments_ in some way that will be visible after the method execution has ended. In this case, the `fibonacci!` method modifies the `my_sequence_model` by populating its `sequence` field with Fibonacci numbers.\n",
    "* _Is there something magical about the `!` character_? No adding the `!` character to the end of function name is _not magic_. It's just a convention to help identify functions that may change state or data outide the local scope of the function. In this particular case, the `fibonacci!` method modifies the `my_sequence_model` by populating its `sequence` field with Fibonacci numbers.\n",
    "\n",
    "It that is true, we should see the results stored in the `my_sequence_model.sequence` variable. Let's check this by computing the length of the sequence field, and checking that is larger than `0` (i.e., it has some values in it)."
   ]
  },
  {
   "cell_type": "code",
   "execution_count": 29,
   "id": "be5fb8e2",
   "metadata": {},
   "outputs": [],
   "source": [
    "@assert length(my_sequence_model.sequence) > 0"
   ]
  },
  {
   "cell_type": "markdown",
   "id": "fac7581e",
   "metadata": {},
   "source": [
    "The other interesting thing from that call was the `@info` message for the for loop got called. We didn't provide an implementation type, how did that work?\n",
    "* _Optional keyword arguments_: The `iterationmodel::T` optional argument defaults to an instance of `MyForLoopIterationModel`, if we wanted to use our while loop implementation, should we pass in a `MyWhileLoopIterationModel` instance?\n",
    "\n",
    "Let's check this out by calling the `fibonacci!` method again, but this time passing in a `MyWhileLoopIterationModel` instance as the optional argument. We should see the `@info` message for the while loop get called instead of the for loop."
   ]
  },
  {
   "cell_type": "code",
   "execution_count": 30,
   "id": "821da699",
   "metadata": {},
   "outputs": [
    {
     "name": "stderr",
     "output_type": "stream",
     "text": [
      "┌ Info: Dedug message: We are using the while loop iteration model\n",
      "└ @ Main /Users/jeffreyvarner/Desktop/julia_work/CHEME-140-eCornell-Repository/CHEME-140-eCornell-Repository/courses/CHEME-141/module-2/jl_notebook_cell_df34fa98e69747e1a8f8a730347b8e2f_X34sZmlsZQ==.jl:25\n"
     ]
    }
   ],
   "source": [
    "fibonacci!(my_sequence_model, iterationmodel = MyWhileLoopIterationModel()); # what is going to happen?"
   ]
  },
  {
   "cell_type": "code",
   "execution_count": 31,
   "id": "0f0de3c4",
   "metadata": {},
   "outputs": [
    {
     "data": {
      "text/plain": [
       "Dict{Int64, Int64} with 11 entries:\n",
       "  5  => 5\n",
       "  8  => 21\n",
       "  1  => 1\n",
       "  0  => 0\n",
       "  6  => 8\n",
       "  9  => 34\n",
       "  3  => 2\n",
       "  7  => 13\n",
       "  4  => 3\n",
       "  2  => 1\n",
       "  10 => 55"
      ]
     },
     "metadata": {},
     "output_type": "display_data"
    }
   ],
   "source": [
    "my_sequence_model.sequence # check the result"
   ]
  },
  {
   "cell_type": "markdown",
   "id": "391fdc67",
   "metadata": {},
   "source": [
    "#### Arguments and multiple dispatch\n",
    "In Julia, functions can accept various types of arguments, including positional, keyword, and optional arguments. Let's review these concepts:\n",
    "* __Positional arguments__ are the most common and must be provided in the order defined in the function signature. This is the traditional way of passing arguments to functions, where the caller must match the order, type and number of parameters defined in the function.\n",
    "* __Optional positional arguments__ in Julia are defined by assigning default values in the function signature, allowing callers to omit them and rely on the specified defaults. \n",
    "* __Keyword arguments__, placed after a semicolon in the signature, must be passed by name and can also have default values, providing clearer and more flexible calls. Both forms integrate with Julia’s multiple dispatch, enabling methods to specialize based on the presence, names, or types of provided arguments.\n",
    "\n",
    "Finally, in the example above, how did Julia know to call the for or while loop implementatiom of the private `_fibonacci(...)` method logic? This is a concept called _multiple dispatch_:\n",
    "* __Multiple dispatch__ is a paradigm where the implementation of a function is chosen based on the runtime types of all its arguments rather than just one, enabling highly generic and extensible code; Julia uses this natively, while other languages (e.g., Python or C#) offer multimethods or limited support for similar behavior using external libraries."
   ]
  },
  {
   "cell_type": "markdown",
   "id": "93ecd317",
   "metadata": {},
   "source": []
  }
 ],
 "metadata": {
  "kernelspec": {
   "display_name": "Julia 1.11.5",
   "language": "julia",
   "name": "julia-1.11"
  },
  "language_info": {
   "file_extension": ".jl",
   "mimetype": "application/julia",
   "name": "julia",
   "version": "1.11.5"
  }
 },
 "nbformat": 4,
 "nbformat_minor": 5
}
