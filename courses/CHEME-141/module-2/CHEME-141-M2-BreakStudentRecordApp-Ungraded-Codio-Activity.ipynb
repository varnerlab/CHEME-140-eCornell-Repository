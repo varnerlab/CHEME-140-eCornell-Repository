{
 "cells": [
  {
   "cell_type": "markdown",
   "id": "07cabb3a-8805-4246-a6ff-007b43a4a4af",
   "metadata": {},
   "source": [
    "# Activity: Let's Break the Student Record Application\n",
    "There is a big difference between writing code that only you will use and writing code that others will use. When you write code for others, you need to make sure that it is easy to use,and robust enough to handle unexpected inputs. \n",
    "\n",
    "In this activity, you will be given a code base, in particular the `build(...)` and `find(...)` methods from the student records app, that is not robust and has some bugs. Some of these bugs ae can fix, while others are just errors in user logic. \n",
    "\n",
    "Our task is to break the code by providing unexpected inputs, look at how the system reacts (who is doing what) and then suggest fixes to make it more robust for items that we can control. Let's go!\n",
    "___"
   ]
  },
  {
   "cell_type": "markdown",
   "id": "3b704424",
   "metadata": {},
   "source": [
    "## Setup, Data, and Prerequisites\n",
    "First, we set up the computational environment by including the `Include.jl` file and loading any needed resources.\n",
    "* The [include command](https://docs.julialang.org/en/v1/base/base/#include) evaluates the contents of the input source file, `Include.jl`, in the notebook's global scope. The `Include.jl` file sets paths, loads required external packages, etc. For additional information on functions and types used in this material, see the [Julia programming language documentation](https://docs.julialang.org/en/v1/). \n",
    "* In addition to standard Julia libraries, we'll also use [the `VLDataScienceMachineLearningPackage.jl` package](https://github.com/varnerlab/VLDataScienceMachineLearningPackage.jl), check out that documentation for more information on the functions and types used in this material."
   ]
  },
  {
   "cell_type": "code",
   "execution_count": 1,
   "id": "841cc28e",
   "metadata": {},
   "outputs": [],
   "source": [
    "include(\"Include.jl\");"
   ]
  },
  {
   "cell_type": "markdown",
   "id": "4deb8ec9",
   "metadata": {},
   "source": [
    "### Types and Functions\n",
    "Let's start by defining mutable `MySimpleStudentModel` type, which will represent a student record. This type will include fields for the student's first name, last name, student identification number, and thier netid (email). \n",
    "* _Why a mutable type?_ Mutable types allow for modification of their fields after creation, which is useful for objects that may need to be updated or changed over time, such as student records. Additonally, mutable types offer different possible initialization options, such as default values for fields.\n",
    "* _Keyword argument constructor_: The constructor allows for the creation of `MySimpleStudentModel` objects with default values for fields, making it easier to instantiate objects without providing all arguments. Thus, we can create an empty student record with default values for each field."
   ]
  },
  {
   "cell_type": "code",
   "execution_count": 2,
   "id": "7efcf85d",
   "metadata": {},
   "outputs": [],
   "source": [
    "\"\"\"\n",
    "    mutable struct MySimpleStudentModel\n",
    "\n",
    "A mutable struct that models a student with a firstname, lastname, student id and a netid.\n",
    "\n",
    "### Fields\n",
    "- `firstname::String`: The first name of the student.\n",
    "- `lastname::String`: The last name of the student.\n",
    "- `sid::Int64`: The student identification number.\n",
    "- `netid::String`: The network identifier (email address) of the student.\n",
    "\"\"\"\n",
    "mutable struct MySimpleStudentModel\n",
    "\n",
    "    # data fields -\n",
    "    firstname::String\n",
    "    lastname::String\n",
    "    sid::Int64\n",
    "    netid::String\n",
    "    \n",
    "    # keyword argument constructor: builds a new student model with default values\n",
    "    MySimpleStudentModel(; firstname::String = \"firstname\", \n",
    "        lastname::String = \"lastname\", sid::Int64 = -1, netid::String = \"abcd\") = new(firstname, lastname, sid, netid);\n",
    "end;"
   ]
  },
  {
   "cell_type": "markdown",
   "id": "728fa74b",
   "metadata": {},
   "source": [
    "Let's implement a `build(model::Type{MySimpleStudentModel}; data::NamedTuple)::MyStudentModel` method which takes the type of thing we want to build, and the data need to build the model [in a `NamedTuple` instance](https://docs.julialang.org/en/v1/base/base/#Core.NamedTuple). The `build(...)` returns a populated `MySimpleStudentModel` instance."
   ]
  },
  {
   "cell_type": "code",
   "execution_count": 3,
   "id": "9bc867b8",
   "metadata": {},
   "outputs": [],
   "source": [
    "\"\"\"\n",
    "    build(modeltype::Type{MySimpleStudentModel}, data::NamedTuple)::MySimpleStudentModel\n",
    "\n",
    "Builds a new `MySimpleStudentModel` from a named tuple of data.\n",
    "\n",
    "### Arguments\n",
    "- `modeltype::Type{MySimpleStudentModel}`: The type of the model to be built.\n",
    "- `data::NamedTuple`: A named tuple containing the fields to be set in the model.\n",
    "\n",
    "### Returns\n",
    "- `MySimpleStudentModel`: A new instance of `MySimpleStudentModel` with the fields set from the named tuple.\n",
    "\"\"\"\n",
    "function build(modeltype::Type{MySimpleStudentModel}, data::NamedTuple)::MySimpleStudentModel\n",
    "    \n",
    "    # initailize -\n",
    "    model = modeltype(); # This builds an empty model (with default values)\n",
    "\n",
    "    # TODO: Unommment below for added default values if needed\n",
    "    # get(data, :firstname, \"default_firstname\");\n",
    "    # get(data, :lastname, \"default_lastname\");\n",
    "    # get(data, :sid, -1);\n",
    "    # get(data, :netid, \"default_netid\");\n",
    "\n",
    "    # TODO: Unomment the following lines to set the fields of the model\n",
    "    # get data from the named tuple and set the fields of the model\n",
    "    model.firstname = data.firstname;\n",
    "    model.lastname = data.lastname;\n",
    "    model.sid = data.sid;\n",
    "    model.netid = data.netid;\n",
    "    \n",
    "    # return -\n",
    "    return model;\n",
    "end;"
   ]
  },
  {
   "cell_type": "markdown",
   "id": "95f2eb08",
   "metadata": {},
   "source": [
    "Finally, we have the implementation of a [`find(...)` method](src/Compute.jl). This method takes a collection of student models and values for the fields of the student we want and returns either the student index `sid::Int64` matching the other search fields or `nothing`."
   ]
  },
  {
   "cell_type": "code",
   "execution_count": 4,
   "id": "cbb2a319",
   "metadata": {},
   "outputs": [],
   "source": [
    "\"\"\"\n",
    "    find(students::Array{MySimpleStudentModel,1}; netid::String=\"jdv27\", firstname::String = \"firstname\", \n",
    "        lastname::String = \"lastname\") -> Union{Int64, Nothing}\n",
    "\n",
    "Finds a student in the array of `MySimpleStudentModel` based on the provided parameters. \n",
    "Returns the student's `sid` if found, otherwise returns `nothing`.\n",
    "\n",
    "### Parameters\n",
    "- `students::Array{MySimpleStudentModel,1}`: An array of `MySimpleStudentModel` objects.\n",
    "- `netid::String`: The netid of the student to search for (default is \"jdv27\").\n",
    "- `firstname::String`: The firstname of the student to search for (default is \"firstname\").\n",
    "- `lastname::String`: The lastname of the student to search for (default is \"lastname\").\n",
    "\n",
    "### Returns\n",
    "- `Union{Int64, Nothing}`: The student's `sid` if found, otherwise `nothing`.\n",
    "\"\"\"\n",
    "function find(students::Array{MySimpleStudentModel,1}; netid::String=\"jdv27\", firstname::String = \"firstname\", \n",
    "    lastname::String = \"lastname\")::Union{Int64, Nothing}\n",
    "\n",
    "    # initialize -\n",
    "    student_index = nothing; # default: we don't know which student we are looking for\n",
    "\n",
    "    # main loop -\n",
    "    for i ∈ eachindex(students)\n",
    "        test_student = students[i];  # get student i from the array -\n",
    "\n",
    "        # TODO: Uncomment the if block below to check with compound AND\n",
    "        # if statement: does test_student have the same netid, firstname and lastname as the parameters?\n",
    "        # if test_student.netid == netid && test_student.firstname == firstname && test_student.lastname == lastname\n",
    "        #     student_index = test_student.sid; # we found the student, so set the index to the student's sid\n",
    "        #     break; # exit the loop\n",
    "        # end\n",
    "\n",
    "        # TODO: Uncomment the if block below to check with compound OR\n",
    "        if test_student.netid == netid || test_student.firstname == firstname || test_student.lastname == lastname\n",
    "            student_index = test_student.sid; # we found the student, so set the index to the student's sid\n",
    "            break; # exit the loop\n",
    "        end\n",
    "    end\n",
    "\n",
    "    return student_index; # return the search results to the caller\n",
    "end;"
   ]
  },
  {
   "cell_type": "markdown",
   "id": "d499512d",
   "metadata": {},
   "source": [
    "## Task 1: Break the Build Method\n",
    "In this task, let's try to break the `build(...)` method by providing unexpected inputs. For example, we'll provide an incorrect type of the object we want to build, and will provide a `data::NamedTuple` with missing or incorrect fields and see how the system reacts.\n",
    "\n",
    "The intersting bit of the experiment is to see who is doing what when the system reacts. For example, are the errors things that we could anticipate and handle, or are they errors in whcih the system if responsible for handling? Does the system throw an error, or does it return a default value? Does it provide a helpful error message, or is it cryptic?"
   ]
  },
  {
   "cell_type": "markdown",
   "id": "87612362",
   "metadata": {},
   "source": [
    "### Incorrect Object Type\n",
    "The first argument to the `build(...)` method is the type of the object we want to build. Let's try to provide an incorrect type, such as `Int64` instead of `MySimpleStudentModel`. \n",
    "\n",
    "* _What do you expect to happen_? This bug (which is a user logic error) should be caught by the system, and it should throw an error. The user is asking for a method with incorrect parameters in the type sense, so the system should not be able to find a matching method, and thus throw an error.\n",
    "\n",
    "Let's see how the system reacts. Is this what happens?"
   ]
  },
  {
   "cell_type": "code",
   "execution_count": 5,
   "id": "40d45ec8",
   "metadata": {},
   "outputs": [
    {
     "ename": "MethodError",
     "evalue": "MethodError: no method matching build(::Type{Int64}, ::@NamedTuple{firstname::String, lastname::String, sid::Int64, netid::String})\nThe function `build` exists, but no method is defined for this combination of argument types.\n\nClosest candidates are:\n  build(!Matched::Type{MySimpleStudentModel}, ::NamedTuple)\n   @ Main ~/Desktop/julia_work/CHEME-140-eCornell-Repository/CHEME-140-eCornell-Repository/courses/CHEME-141/module-2/jl_notebook_cell_df34fa98e69747e1a8f8a730347b8e2f_X16sZmlsZQ==.jl:13\n",
     "output_type": "error",
     "traceback": [
      "MethodError: no method matching build(::Type{Int64}, ::@NamedTuple{firstname::String, lastname::String, sid::Int64, netid::String})\n",
      "The function `build` exists, but no method is defined for this combination of argument types.\n",
      "\n",
      "Closest candidates are:\n",
      "  build(!Matched::Type{MySimpleStudentModel}, ::NamedTuple)\n",
      "   @ Main ~/Desktop/julia_work/CHEME-140-eCornell-Repository/CHEME-140-eCornell-Repository/courses/CHEME-141/module-2/jl_notebook_cell_df34fa98e69747e1a8f8a730347b8e2f_X16sZmlsZQ==.jl:13\n",
      "\n",
      "\n",
      "Stacktrace:\n",
      " [1] top-level scope\n",
      "   @ ~/Desktop/julia_work/CHEME-140-eCornell-Repository/CHEME-140-eCornell-Repository/courses/CHEME-141/module-2/jl_notebook_cell_df34fa98e69747e1a8f8a730347b8e2f_X32sZmlsZQ==.jl:1"
     ]
    }
   ],
   "source": [
    "build(Int64, (firstname = \"John\", lastname = \"Doe\", sid = 123456, netid = \"jbd123\")) # Example usage"
   ]
  },
  {
   "cell_type": "markdown",
   "id": "758950b7",
   "metadata": {},
   "source": []
  }
 ],
 "metadata": {
  "kernelspec": {
   "display_name": "Julia 1.11.5",
   "language": "julia",
   "name": "julia-1.11"
  },
  "language_info": {
   "file_extension": ".jl",
   "mimetype": "application/julia",
   "name": "julia",
   "version": "1.11.5"
  }
 },
 "nbformat": 4,
 "nbformat_minor": 5
}
